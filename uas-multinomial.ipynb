{
 "cells": [
  {
   "cell_type": "code",
   "execution_count": 1,
   "id": "67389120",
   "metadata": {
    "_cell_guid": "b1076dfc-b9ad-4769-8c92-a6c4dae69d19",
    "_uuid": "8f2839f25d086af736a60e9eeb907d3b93b6e0e5",
    "execution": {
     "iopub.execute_input": "2022-07-06T05:09:11.671789Z",
     "iopub.status.busy": "2022-07-06T05:09:11.670893Z",
     "iopub.status.idle": "2022-07-06T05:09:11.691828Z",
     "shell.execute_reply": "2022-07-06T05:09:11.690778Z"
    },
    "papermill": {
     "duration": 0.03141,
     "end_time": "2022-07-06T05:09:11.694378",
     "exception": false,
     "start_time": "2022-07-06T05:09:11.662968",
     "status": "completed"
    },
    "tags": []
   },
   "outputs": [
    {
     "name": "stdout",
     "output_type": "stream",
     "text": [
      "/kaggle/input/dataset-property-category-uas/financial Property and category .csv\n"
     ]
    }
   ],
   "source": [
    "# This Python 3 environment comes with many helpful analytics libraries installed\n",
    "# It is defined by the kaggle/python Docker image: https://github.com/kaggle/docker-python\n",
    "# For example, here's several helpful packages to load\n",
    "\n",
    "import numpy as np # linear algebra\n",
    "import pandas as pd # data processing, CSV file I/O (e.g. pd.read_csv)\n",
    "\n",
    "# Input data files are available in the read-only \"../input/\" directory\n",
    "# For example, running this (by clicking run or pressing Shift+Enter) will list all files under the input directory\n",
    "\n",
    "import os\n",
    "for dirname, _, filenames in os.walk('/kaggle/input'):\n",
    "    for filename in filenames:\n",
    "        print(os.path.join(dirname, filename))\n",
    "\n",
    "# You can write up to 20GB to the current directory (/kaggle/working/) that gets preserved as output when you create a version using \"Save & Run All\" \n",
    "# You can also write temporary files to /kaggle/temp/, but they won't be saved outside of the current session"
   ]
  },
  {
   "cell_type": "code",
   "execution_count": 2,
   "id": "ed1f1847",
   "metadata": {
    "execution": {
     "iopub.execute_input": "2022-07-06T05:09:11.709111Z",
     "iopub.status.busy": "2022-07-06T05:09:11.708437Z",
     "iopub.status.idle": "2022-07-06T05:09:13.020816Z",
     "shell.execute_reply": "2022-07-06T05:09:13.019612Z"
    },
    "papermill": {
     "duration": 1.323387,
     "end_time": "2022-07-06T05:09:13.023553",
     "exception": false,
     "start_time": "2022-07-06T05:09:11.700166",
     "status": "completed"
    },
    "tags": []
   },
   "outputs": [],
   "source": [
    "import pandas as pd\n",
    "import seaborn as sns\n",
    "from sklearn.metrics import classification_report\n",
    "from sklearn.metrics import accuracy_score\n",
    "from sklearn.model_selection import train_test_split\n",
    "from sklearn.linear_model import LogisticRegression"
   ]
  },
  {
   "cell_type": "code",
   "execution_count": 3,
   "id": "f2eb6440",
   "metadata": {
    "execution": {
     "iopub.execute_input": "2022-07-06T05:09:13.036533Z",
     "iopub.status.busy": "2022-07-06T05:09:13.035858Z",
     "iopub.status.idle": "2022-07-06T05:09:13.071177Z",
     "shell.execute_reply": "2022-07-06T05:09:13.070182Z"
    },
    "papermill": {
     "duration": 0.044341,
     "end_time": "2022-07-06T05:09:13.073438",
     "exception": false,
     "start_time": "2022-07-06T05:09:13.029097",
     "status": "completed"
    },
    "tags": []
   },
   "outputs": [
    {
     "data": {
      "text/html": [
       "<div>\n",
       "<style scoped>\n",
       "    .dataframe tbody tr th:only-of-type {\n",
       "        vertical-align: middle;\n",
       "    }\n",
       "\n",
       "    .dataframe tbody tr th {\n",
       "        vertical-align: top;\n",
       "    }\n",
       "\n",
       "    .dataframe thead th {\n",
       "        text-align: right;\n",
       "    }\n",
       "</style>\n",
       "<table border=\"1\" class=\"dataframe\">\n",
       "  <thead>\n",
       "    <tr style=\"text-align: right;\">\n",
       "      <th></th>\n",
       "      <th>Emitten</th>\n",
       "      <th>DER</th>\n",
       "      <th>ROA</th>\n",
       "      <th>Sales Growth</th>\n",
       "      <th>ROE</th>\n",
       "      <th>NPM</th>\n",
       "      <th>Category</th>\n",
       "    </tr>\n",
       "  </thead>\n",
       "  <tbody>\n",
       "    <tr>\n",
       "      <th>0</th>\n",
       "      <td>AMAN</td>\n",
       "      <td>0.40</td>\n",
       "      <td>0.01</td>\n",
       "      <td>-3.797435</td>\n",
       "      <td>0.01</td>\n",
       "      <td>0.18</td>\n",
       "      <td>3</td>\n",
       "    </tr>\n",
       "    <tr>\n",
       "      <th>1</th>\n",
       "      <td>APLN</td>\n",
       "      <td>1.79</td>\n",
       "      <td>-0.02</td>\n",
       "      <td>18.184296</td>\n",
       "      <td>-0.06</td>\n",
       "      <td>-0.21</td>\n",
       "      <td>2</td>\n",
       "    </tr>\n",
       "    <tr>\n",
       "      <th>2</th>\n",
       "      <td>ASRI</td>\n",
       "      <td>1.35</td>\n",
       "      <td>-0.01</td>\n",
       "      <td>669.231018</td>\n",
       "      <td>-0.02</td>\n",
       "      <td>-0.09</td>\n",
       "      <td>2</td>\n",
       "    </tr>\n",
       "    <tr>\n",
       "      <th>3</th>\n",
       "      <td>ATAP</td>\n",
       "      <td>0.24</td>\n",
       "      <td>0.05</td>\n",
       "      <td>35.698101</td>\n",
       "      <td>0.07</td>\n",
       "      <td>0.11</td>\n",
       "      <td>3</td>\n",
       "    </tr>\n",
       "    <tr>\n",
       "      <th>4</th>\n",
       "      <td>BAPA</td>\n",
       "      <td>0.07</td>\n",
       "      <td>-0.03</td>\n",
       "      <td>-3.317679</td>\n",
       "      <td>-0.03</td>\n",
       "      <td>-1.14</td>\n",
       "      <td>4</td>\n",
       "    </tr>\n",
       "  </tbody>\n",
       "</table>\n",
       "</div>"
      ],
      "text/plain": [
       "  Emitten   DER   ROA  Sales Growth   ROE   NPM  Category\n",
       "0    AMAN  0.40  0.01     -3.797435  0.01  0.18         3\n",
       "1    APLN  1.79 -0.02     18.184296 -0.06 -0.21         2\n",
       "2    ASRI  1.35 -0.01    669.231018 -0.02 -0.09         2\n",
       "3    ATAP  0.24  0.05     35.698101  0.07  0.11         3\n",
       "4    BAPA  0.07 -0.03     -3.317679 -0.03 -1.14         4"
      ]
     },
     "execution_count": 3,
     "metadata": {},
     "output_type": "execute_result"
    }
   ],
   "source": [
    "df = pd.read_csv('../input/dataset-property-category-uas/financial Property and category .csv')\n",
    "df.head()"
   ]
  },
  {
   "cell_type": "code",
   "execution_count": 4,
   "id": "4eb20617",
   "metadata": {
    "execution": {
     "iopub.execute_input": "2022-07-06T05:09:13.086193Z",
     "iopub.status.busy": "2022-07-06T05:09:13.085838Z",
     "iopub.status.idle": "2022-07-06T05:09:13.093383Z",
     "shell.execute_reply": "2022-07-06T05:09:13.092278Z"
    },
    "papermill": {
     "duration": 0.016374,
     "end_time": "2022-07-06T05:09:13.095491",
     "exception": false,
     "start_time": "2022-07-06T05:09:13.079117",
     "status": "completed"
    },
    "tags": []
   },
   "outputs": [
    {
     "data": {
      "text/plain": [
       "array([['AMAN', 0.4, 0.01, -3.797435, 0.01, 0.18, 3],\n",
       "       ['APLN', 1.79, -0.02, 18.184296, -0.06, -0.21, 2],\n",
       "       ['ASRI', 1.35, -0.01, 669.231018, -0.02, -0.09, 2],\n",
       "       ['ATAP', 0.24, 0.05, 35.698101, 0.07, 0.11, 3],\n",
       "       ['BAPA', 0.07, -0.03, -3.317679, -0.03, -1.14, 4],\n",
       "       ['BAPI', 0.47, -0.01, -0.096221, -0.01, -1.43, 4],\n",
       "       ['BCIP', 1.14, -0.01, -46.929469, -0.01, -0.16, 2],\n",
       "       ['BEST', 0.42, -0.02, -84.809916, -0.03, -1.03, 4],\n",
       "       ['BKDP', 0.73, -0.05, -9.498563, 0.04, 0.16, 2],\n",
       "       ['BKSL', 0.61, 0.02, 2374.3049, 0.04, 0.42, 3],\n",
       "       ['BSDE', 0.69, 0.02, -7.213595, 0.07, 2.0, 3],\n",
       "       ['CPRI', 0.13, -0.01, 0.820829, -0.01, -0.37, 4],\n",
       "       ['CTRA', 1.16, 0.05, 2408.626, 0.11, 0.32, 3],\n",
       "       ['DADA', 1.0, 0.03, -182.3169, 0.05, 0.73, 3],\n",
       "       ['DART', 1.57, -0.06, -26.572531, -0.15, -1.86, 5],\n",
       "       ['DMAS', 0.12, 0.13, 652.221301, 0.15, 0.65, 1],\n",
       "       ['DUTI', 0.4, 0.04, -546.164778, 0.05, 0.81, 3]], dtype=object)"
      ]
     },
     "execution_count": 4,
     "metadata": {},
     "output_type": "execute_result"
    }
   ],
   "source": [
    "np.asarray(df)"
   ]
  },
  {
   "cell_type": "code",
   "execution_count": 5,
   "id": "84e0221c",
   "metadata": {
    "execution": {
     "iopub.execute_input": "2022-07-06T05:09:13.108478Z",
     "iopub.status.busy": "2022-07-06T05:09:13.107903Z",
     "iopub.status.idle": "2022-07-06T05:09:13.765615Z",
     "shell.execute_reply": "2022-07-06T05:09:13.764579Z"
    },
    "papermill": {
     "duration": 0.667008,
     "end_time": "2022-07-06T05:09:13.768165",
     "exception": false,
     "start_time": "2022-07-06T05:09:13.101157",
     "status": "completed"
    },
    "tags": []
   },
   "outputs": [],
   "source": [
    "import statsmodels.api as sm"
   ]
  },
  {
   "cell_type": "code",
   "execution_count": 6,
   "id": "72ba6219",
   "metadata": {
    "execution": {
     "iopub.execute_input": "2022-07-06T05:09:13.780838Z",
     "iopub.status.busy": "2022-07-06T05:09:13.780483Z",
     "iopub.status.idle": "2022-07-06T05:09:13.792150Z",
     "shell.execute_reply": "2022-07-06T05:09:13.791095Z"
    },
    "papermill": {
     "duration": 0.020453,
     "end_time": "2022-07-06T05:09:13.794292",
     "exception": false,
     "start_time": "2022-07-06T05:09:13.773839",
     "status": "completed"
    },
    "tags": []
   },
   "outputs": [],
   "source": [
    "df.drop(['Emitten'], axis=1, inplace=True)"
   ]
  },
  {
   "cell_type": "code",
   "execution_count": 7,
   "id": "6b59be62",
   "metadata": {
    "execution": {
     "iopub.execute_input": "2022-07-06T05:09:13.806918Z",
     "iopub.status.busy": "2022-07-06T05:09:13.806580Z",
     "iopub.status.idle": "2022-07-06T05:09:13.816006Z",
     "shell.execute_reply": "2022-07-06T05:09:13.814840Z"
    },
    "papermill": {
     "duration": 0.018497,
     "end_time": "2022-07-06T05:09:13.818384",
     "exception": false,
     "start_time": "2022-07-06T05:09:13.799887",
     "status": "completed"
    },
    "tags": []
   },
   "outputs": [
    {
     "data": {
      "text/plain": [
       "0    3\n",
       "1    2\n",
       "2    2\n",
       "3    3\n",
       "4    4\n",
       "Name: Category, dtype: int64"
      ]
     },
     "execution_count": 7,
     "metadata": {},
     "output_type": "execute_result"
    }
   ],
   "source": [
    "y = df['Category']\n",
    "y.head()"
   ]
  },
  {
   "cell_type": "code",
   "execution_count": 8,
   "id": "457a3630",
   "metadata": {
    "execution": {
     "iopub.execute_input": "2022-07-06T05:09:13.831564Z",
     "iopub.status.busy": "2022-07-06T05:09:13.830715Z",
     "iopub.status.idle": "2022-07-06T05:09:13.845125Z",
     "shell.execute_reply": "2022-07-06T05:09:13.844129Z"
    },
    "papermill": {
     "duration": 0.023382,
     "end_time": "2022-07-06T05:09:13.847365",
     "exception": false,
     "start_time": "2022-07-06T05:09:13.823983",
     "status": "completed"
    },
    "tags": []
   },
   "outputs": [
    {
     "data": {
      "text/html": [
       "<div>\n",
       "<style scoped>\n",
       "    .dataframe tbody tr th:only-of-type {\n",
       "        vertical-align: middle;\n",
       "    }\n",
       "\n",
       "    .dataframe tbody tr th {\n",
       "        vertical-align: top;\n",
       "    }\n",
       "\n",
       "    .dataframe thead th {\n",
       "        text-align: right;\n",
       "    }\n",
       "</style>\n",
       "<table border=\"1\" class=\"dataframe\">\n",
       "  <thead>\n",
       "    <tr style=\"text-align: right;\">\n",
       "      <th></th>\n",
       "      <th>DER</th>\n",
       "      <th>ROA</th>\n",
       "      <th>Sales Growth</th>\n",
       "      <th>ROE</th>\n",
       "      <th>NPM</th>\n",
       "    </tr>\n",
       "  </thead>\n",
       "  <tbody>\n",
       "    <tr>\n",
       "      <th>0</th>\n",
       "      <td>0.40</td>\n",
       "      <td>0.01</td>\n",
       "      <td>-3.797435</td>\n",
       "      <td>0.01</td>\n",
       "      <td>0.18</td>\n",
       "    </tr>\n",
       "    <tr>\n",
       "      <th>1</th>\n",
       "      <td>1.79</td>\n",
       "      <td>-0.02</td>\n",
       "      <td>18.184296</td>\n",
       "      <td>-0.06</td>\n",
       "      <td>-0.21</td>\n",
       "    </tr>\n",
       "    <tr>\n",
       "      <th>2</th>\n",
       "      <td>1.35</td>\n",
       "      <td>-0.01</td>\n",
       "      <td>669.231018</td>\n",
       "      <td>-0.02</td>\n",
       "      <td>-0.09</td>\n",
       "    </tr>\n",
       "    <tr>\n",
       "      <th>3</th>\n",
       "      <td>0.24</td>\n",
       "      <td>0.05</td>\n",
       "      <td>35.698101</td>\n",
       "      <td>0.07</td>\n",
       "      <td>0.11</td>\n",
       "    </tr>\n",
       "    <tr>\n",
       "      <th>4</th>\n",
       "      <td>0.07</td>\n",
       "      <td>-0.03</td>\n",
       "      <td>-3.317679</td>\n",
       "      <td>-0.03</td>\n",
       "      <td>-1.14</td>\n",
       "    </tr>\n",
       "  </tbody>\n",
       "</table>\n",
       "</div>"
      ],
      "text/plain": [
       "    DER   ROA  Sales Growth   ROE   NPM\n",
       "0  0.40  0.01     -3.797435  0.01  0.18\n",
       "1  1.79 -0.02     18.184296 -0.06 -0.21\n",
       "2  1.35 -0.01    669.231018 -0.02 -0.09\n",
       "3  0.24  0.05     35.698101  0.07  0.11\n",
       "4  0.07 -0.03     -3.317679 -0.03 -1.14"
      ]
     },
     "execution_count": 8,
     "metadata": {},
     "output_type": "execute_result"
    }
   ],
   "source": [
    "x = df.drop('Category', axis=1)\n",
    "x.head()"
   ]
  },
  {
   "cell_type": "code",
   "execution_count": 9,
   "id": "ddf3500f",
   "metadata": {
    "execution": {
     "iopub.execute_input": "2022-07-06T05:09:13.861380Z",
     "iopub.status.busy": "2022-07-06T05:09:13.860595Z",
     "iopub.status.idle": "2022-07-06T05:09:13.866641Z",
     "shell.execute_reply": "2022-07-06T05:09:13.865817Z"
    },
    "papermill": {
     "duration": 0.015243,
     "end_time": "2022-07-06T05:09:13.868641",
     "exception": false,
     "start_time": "2022-07-06T05:09:13.853398",
     "status": "completed"
    },
    "tags": []
   },
   "outputs": [],
   "source": [
    "x_train, x_test, y_train, y_test = train_test_split(x,y, test_size=0.3)"
   ]
  },
  {
   "cell_type": "code",
   "execution_count": 10,
   "id": "eb8ad256",
   "metadata": {
    "execution": {
     "iopub.execute_input": "2022-07-06T05:09:13.882443Z",
     "iopub.status.busy": "2022-07-06T05:09:13.881573Z",
     "iopub.status.idle": "2022-07-06T05:09:13.900998Z",
     "shell.execute_reply": "2022-07-06T05:09:13.900294Z"
    },
    "papermill": {
     "duration": 0.028347,
     "end_time": "2022-07-06T05:09:13.902907",
     "exception": false,
     "start_time": "2022-07-06T05:09:13.874560",
     "status": "completed"
    },
    "tags": []
   },
   "outputs": [
    {
     "data": {
      "text/html": [
       "<div>\n",
       "<style scoped>\n",
       "    .dataframe tbody tr th:only-of-type {\n",
       "        vertical-align: middle;\n",
       "    }\n",
       "\n",
       "    .dataframe tbody tr th {\n",
       "        vertical-align: top;\n",
       "    }\n",
       "\n",
       "    .dataframe thead th {\n",
       "        text-align: right;\n",
       "    }\n",
       "</style>\n",
       "<table border=\"1\" class=\"dataframe\">\n",
       "  <thead>\n",
       "    <tr style=\"text-align: right;\">\n",
       "      <th></th>\n",
       "      <th>const</th>\n",
       "      <th>DER</th>\n",
       "      <th>ROA</th>\n",
       "      <th>Sales Growth</th>\n",
       "      <th>ROE</th>\n",
       "      <th>NPM</th>\n",
       "    </tr>\n",
       "  </thead>\n",
       "  <tbody>\n",
       "    <tr>\n",
       "      <th>1</th>\n",
       "      <td>1.0</td>\n",
       "      <td>1.79</td>\n",
       "      <td>-0.02</td>\n",
       "      <td>18.184296</td>\n",
       "      <td>-0.06</td>\n",
       "      <td>-0.21</td>\n",
       "    </tr>\n",
       "    <tr>\n",
       "      <th>16</th>\n",
       "      <td>1.0</td>\n",
       "      <td>0.40</td>\n",
       "      <td>0.04</td>\n",
       "      <td>-546.164778</td>\n",
       "      <td>0.05</td>\n",
       "      <td>0.81</td>\n",
       "    </tr>\n",
       "    <tr>\n",
       "      <th>12</th>\n",
       "      <td>1.0</td>\n",
       "      <td>1.16</td>\n",
       "      <td>0.05</td>\n",
       "      <td>2408.626000</td>\n",
       "      <td>0.11</td>\n",
       "      <td>0.32</td>\n",
       "    </tr>\n",
       "    <tr>\n",
       "      <th>13</th>\n",
       "      <td>1.0</td>\n",
       "      <td>1.00</td>\n",
       "      <td>0.03</td>\n",
       "      <td>-182.316900</td>\n",
       "      <td>0.05</td>\n",
       "      <td>0.73</td>\n",
       "    </tr>\n",
       "    <tr>\n",
       "      <th>7</th>\n",
       "      <td>1.0</td>\n",
       "      <td>0.42</td>\n",
       "      <td>-0.02</td>\n",
       "      <td>-84.809916</td>\n",
       "      <td>-0.03</td>\n",
       "      <td>-1.03</td>\n",
       "    </tr>\n",
       "    <tr>\n",
       "      <th>10</th>\n",
       "      <td>1.0</td>\n",
       "      <td>0.69</td>\n",
       "      <td>0.02</td>\n",
       "      <td>-7.213595</td>\n",
       "      <td>0.07</td>\n",
       "      <td>2.00</td>\n",
       "    </tr>\n",
       "    <tr>\n",
       "      <th>8</th>\n",
       "      <td>1.0</td>\n",
       "      <td>0.73</td>\n",
       "      <td>-0.05</td>\n",
       "      <td>-9.498563</td>\n",
       "      <td>0.04</td>\n",
       "      <td>0.16</td>\n",
       "    </tr>\n",
       "    <tr>\n",
       "      <th>4</th>\n",
       "      <td>1.0</td>\n",
       "      <td>0.07</td>\n",
       "      <td>-0.03</td>\n",
       "      <td>-3.317679</td>\n",
       "      <td>-0.03</td>\n",
       "      <td>-1.14</td>\n",
       "    </tr>\n",
       "    <tr>\n",
       "      <th>9</th>\n",
       "      <td>1.0</td>\n",
       "      <td>0.61</td>\n",
       "      <td>0.02</td>\n",
       "      <td>2374.304900</td>\n",
       "      <td>0.04</td>\n",
       "      <td>0.42</td>\n",
       "    </tr>\n",
       "    <tr>\n",
       "      <th>3</th>\n",
       "      <td>1.0</td>\n",
       "      <td>0.24</td>\n",
       "      <td>0.05</td>\n",
       "      <td>35.698101</td>\n",
       "      <td>0.07</td>\n",
       "      <td>0.11</td>\n",
       "    </tr>\n",
       "    <tr>\n",
       "      <th>14</th>\n",
       "      <td>1.0</td>\n",
       "      <td>1.57</td>\n",
       "      <td>-0.06</td>\n",
       "      <td>-26.572531</td>\n",
       "      <td>-0.15</td>\n",
       "      <td>-1.86</td>\n",
       "    </tr>\n",
       "  </tbody>\n",
       "</table>\n",
       "</div>"
      ],
      "text/plain": [
       "    const   DER   ROA  Sales Growth   ROE   NPM\n",
       "1     1.0  1.79 -0.02     18.184296 -0.06 -0.21\n",
       "16    1.0  0.40  0.04   -546.164778  0.05  0.81\n",
       "12    1.0  1.16  0.05   2408.626000  0.11  0.32\n",
       "13    1.0  1.00  0.03   -182.316900  0.05  0.73\n",
       "7     1.0  0.42 -0.02    -84.809916 -0.03 -1.03\n",
       "10    1.0  0.69  0.02     -7.213595  0.07  2.00\n",
       "8     1.0  0.73 -0.05     -9.498563  0.04  0.16\n",
       "4     1.0  0.07 -0.03     -3.317679 -0.03 -1.14\n",
       "9     1.0  0.61  0.02   2374.304900  0.04  0.42\n",
       "3     1.0  0.24  0.05     35.698101  0.07  0.11\n",
       "14    1.0  1.57 -0.06    -26.572531 -0.15 -1.86"
      ]
     },
     "execution_count": 10,
     "metadata": {},
     "output_type": "execute_result"
    }
   ],
   "source": [
    "x_train_sm = sm.add_constant(x_train)\n",
    "x_train_sm"
   ]
  },
  {
   "cell_type": "code",
   "execution_count": 11,
   "id": "1959460f",
   "metadata": {
    "execution": {
     "iopub.execute_input": "2022-07-06T05:09:13.917071Z",
     "iopub.status.busy": "2022-07-06T05:09:13.916369Z",
     "iopub.status.idle": "2022-07-06T05:09:13.960248Z",
     "shell.execute_reply": "2022-07-06T05:09:13.958677Z"
    },
    "papermill": {
     "duration": 0.055391,
     "end_time": "2022-07-06T05:09:13.964569",
     "exception": false,
     "start_time": "2022-07-06T05:09:13.909178",
     "status": "completed"
    },
    "tags": []
   },
   "outputs": [
    {
     "name": "stdout",
     "output_type": "stream",
     "text": [
      "Optimization terminated successfully.\n",
      "         Current function value: nan\n",
      "         Iterations 17\n"
     ]
    },
    {
     "name": "stderr",
     "output_type": "stream",
     "text": [
      "/opt/conda/lib/python3.7/site-packages/statsmodels/discrete/discrete_model.py:2299: RuntimeWarning: overflow encountered in exp\n",
      "  eXB = np.column_stack((np.ones(len(X)), np.exp(X)))\n",
      "/opt/conda/lib/python3.7/site-packages/statsmodels/discrete/discrete_model.py:2300: RuntimeWarning: invalid value encountered in true_divide\n",
      "  return eXB/eXB.sum(1)[:,None]\n"
     ]
    }
   ],
   "source": [
    "#logit_mod = sm.Logit(y_train, x_train_sm\n",
    "                     \n",
    "mnlogit_mod = sm.MNLogit(y_train, x_train_sm)\n",
    "mnlogit_fit = mnlogit_mod.fit()"
   ]
  },
  {
   "cell_type": "code",
   "execution_count": 12,
   "id": "73d456c5",
   "metadata": {
    "execution": {
     "iopub.execute_input": "2022-07-06T05:09:13.990570Z",
     "iopub.status.busy": "2022-07-06T05:09:13.989915Z",
     "iopub.status.idle": "2022-07-06T05:09:14.085023Z",
     "shell.execute_reply": "2022-07-06T05:09:14.084298Z"
    },
    "papermill": {
     "duration": 0.111028,
     "end_time": "2022-07-06T05:09:14.087469",
     "exception": false,
     "start_time": "2022-07-06T05:09:13.976441",
     "status": "completed"
    },
    "tags": []
   },
   "outputs": [
    {
     "name": "stdout",
     "output_type": "stream",
     "text": [
      "                          MNLogit Regression Results                          \n",
      "==============================================================================\n",
      "Dep. Variable:               Category   No. Observations:                   11\n",
      "Model:                        MNLogit   Df Residuals:                       -7\n",
      "Method:                           MLE   Df Model:                           15\n",
      "Date:                Wed, 06 Jul 2022   Pseudo R-squ.:                     nan\n",
      "Time:                        05:09:14   Log-Likelihood:                    nan\n",
      "converged:                       True   LL-Null:                       -12.854\n",
      "Covariance Type:            nonrobust   LLR p-value:                       nan\n",
      "================================================================================\n",
      "  Category=3       coef    std err          z      P>|z|      [0.025      0.975]\n",
      "--------------------------------------------------------------------------------\n",
      "const               nan        nan        nan        nan         nan         nan\n",
      "DER                 nan        nan        nan        nan         nan         nan\n",
      "ROA                 nan        nan        nan        nan         nan         nan\n",
      "Sales Growth        nan        nan        nan        nan         nan         nan\n",
      "ROE                 nan        nan        nan        nan         nan         nan\n",
      "NPM                 nan        nan        nan        nan         nan         nan\n",
      "--------------------------------------------------------------------------------\n",
      "  Category=4       coef    std err          z      P>|z|      [0.025      0.975]\n",
      "--------------------------------------------------------------------------------\n",
      "const               nan        nan        nan        nan         nan         nan\n",
      "DER                 nan        nan        nan        nan         nan         nan\n",
      "ROA                 nan        nan        nan        nan         nan         nan\n",
      "Sales Growth        nan        nan        nan        nan         nan         nan\n",
      "ROE                 nan        nan        nan        nan         nan         nan\n",
      "NPM                 nan        nan        nan        nan         nan         nan\n",
      "--------------------------------------------------------------------------------\n",
      "  Category=5       coef    std err          z      P>|z|      [0.025      0.975]\n",
      "--------------------------------------------------------------------------------\n",
      "const               nan        nan        nan        nan         nan         nan\n",
      "DER                 nan        nan        nan        nan         nan         nan\n",
      "ROA                 nan        nan        nan        nan         nan         nan\n",
      "Sales Growth        nan        nan        nan        nan         nan         nan\n",
      "ROE                 nan        nan        nan        nan         nan         nan\n",
      "NPM                 nan        nan        nan        nan         nan         nan\n",
      "================================================================================\n"
     ]
    }
   ],
   "source": [
    "print (mnlogit_fit.summary())"
   ]
  },
  {
   "cell_type": "code",
   "execution_count": 13,
   "id": "ed8a0f37",
   "metadata": {
    "execution": {
     "iopub.execute_input": "2022-07-06T05:09:14.101895Z",
     "iopub.status.busy": "2022-07-06T05:09:14.101311Z",
     "iopub.status.idle": "2022-07-06T05:09:14.138926Z",
     "shell.execute_reply": "2022-07-06T05:09:14.137524Z"
    },
    "papermill": {
     "duration": 0.047269,
     "end_time": "2022-07-06T05:09:14.141331",
     "exception": false,
     "start_time": "2022-07-06T05:09:14.094062",
     "status": "completed"
    },
    "tags": []
   },
   "outputs": [
    {
     "name": "stderr",
     "output_type": "stream",
     "text": [
      "/opt/conda/lib/python3.7/site-packages/sklearn/linear_model/_logistic.py:818: ConvergenceWarning: lbfgs failed to converge (status=1):\n",
      "STOP: TOTAL NO. of ITERATIONS REACHED LIMIT.\n",
      "\n",
      "Increase the number of iterations (max_iter) or scale the data as shown in:\n",
      "    https://scikit-learn.org/stable/modules/preprocessing.html\n",
      "Please also refer to the documentation for alternative solver options:\n",
      "    https://scikit-learn.org/stable/modules/linear_model.html#logistic-regression\n",
      "  extra_warning_msg=_LOGISTIC_SOLVER_CONVERGENCE_MSG,\n"
     ]
    },
    {
     "data": {
      "text/plain": [
       "LogisticRegression()"
      ]
     },
     "execution_count": 13,
     "metadata": {},
     "output_type": "execute_result"
    }
   ],
   "source": [
    "model = LogisticRegression(multi_class='auto')\n",
    "model.fit(x_train, y_train)"
   ]
  },
  {
   "cell_type": "code",
   "execution_count": 14,
   "id": "5cd7708e",
   "metadata": {
    "execution": {
     "iopub.execute_input": "2022-07-06T05:09:14.155963Z",
     "iopub.status.busy": "2022-07-06T05:09:14.155615Z",
     "iopub.status.idle": "2022-07-06T05:09:14.163717Z",
     "shell.execute_reply": "2022-07-06T05:09:14.162957Z"
    },
    "papermill": {
     "duration": 0.017579,
     "end_time": "2022-07-06T05:09:14.165573",
     "exception": false,
     "start_time": "2022-07-06T05:09:14.147994",
     "status": "completed"
    },
    "tags": []
   },
   "outputs": [
    {
     "data": {
      "text/plain": [
       "array([[0.15150987, 0.43621919, 0.32740691, 0.08486403],\n",
       "       [0.17801798, 0.62147962, 0.14836667, 0.05213573],\n",
       "       [0.0647538 , 0.89289307, 0.03277215, 0.00958098],\n",
       "       [0.13061339, 0.10715355, 0.55031017, 0.2119229 ],\n",
       "       [0.33633884, 0.39087973, 0.15008818, 0.12269324]])"
      ]
     },
     "execution_count": 14,
     "metadata": {},
     "output_type": "execute_result"
    }
   ],
   "source": [
    "model.predict_proba(x_test)[0:5]"
   ]
  },
  {
   "cell_type": "code",
   "execution_count": 15,
   "id": "3c933fdc",
   "metadata": {
    "execution": {
     "iopub.execute_input": "2022-07-06T05:09:14.180622Z",
     "iopub.status.busy": "2022-07-06T05:09:14.180007Z",
     "iopub.status.idle": "2022-07-06T05:09:14.186893Z",
     "shell.execute_reply": "2022-07-06T05:09:14.186210Z"
    },
    "papermill": {
     "duration": 0.01641,
     "end_time": "2022-07-06T05:09:14.188699",
     "exception": false,
     "start_time": "2022-07-06T05:09:14.172289",
     "status": "completed"
    },
    "tags": []
   },
   "outputs": [
    {
     "data": {
      "text/plain": [
       "array([3, 3, 3, 4, 3, 3])"
      ]
     },
     "execution_count": 15,
     "metadata": {},
     "output_type": "execute_result"
    }
   ],
   "source": [
    "predictions = model.predict(x_test)\n",
    "predictions"
   ]
  },
  {
   "cell_type": "code",
   "execution_count": 16,
   "id": "f55c63f0",
   "metadata": {
    "execution": {
     "iopub.execute_input": "2022-07-06T05:09:14.204019Z",
     "iopub.status.busy": "2022-07-06T05:09:14.203440Z",
     "iopub.status.idle": "2022-07-06T05:09:14.216113Z",
     "shell.execute_reply": "2022-07-06T05:09:14.214801Z"
    },
    "papermill": {
     "duration": 0.023253,
     "end_time": "2022-07-06T05:09:14.218771",
     "exception": false,
     "start_time": "2022-07-06T05:09:14.195518",
     "status": "completed"
    },
    "tags": []
   },
   "outputs": [
    {
     "name": "stdout",
     "output_type": "stream",
     "text": [
      "              precision    recall  f1-score   support\n",
      "\n",
      "           1       0.00      0.00      0.00         1\n",
      "           2       0.00      0.00      0.00         2\n",
      "           3       0.20      1.00      0.33         1\n",
      "           4       1.00      0.50      0.67         2\n",
      "\n",
      "    accuracy                           0.33         6\n",
      "   macro avg       0.30      0.38      0.25         6\n",
      "weighted avg       0.37      0.33      0.28         6\n",
      "\n"
     ]
    },
    {
     "name": "stderr",
     "output_type": "stream",
     "text": [
      "/opt/conda/lib/python3.7/site-packages/sklearn/metrics/_classification.py:1318: UndefinedMetricWarning: Precision and F-score are ill-defined and being set to 0.0 in labels with no predicted samples. Use `zero_division` parameter to control this behavior.\n",
      "  _warn_prf(average, modifier, msg_start, len(result))\n",
      "/opt/conda/lib/python3.7/site-packages/sklearn/metrics/_classification.py:1318: UndefinedMetricWarning: Precision and F-score are ill-defined and being set to 0.0 in labels with no predicted samples. Use `zero_division` parameter to control this behavior.\n",
      "  _warn_prf(average, modifier, msg_start, len(result))\n",
      "/opt/conda/lib/python3.7/site-packages/sklearn/metrics/_classification.py:1318: UndefinedMetricWarning: Precision and F-score are ill-defined and being set to 0.0 in labels with no predicted samples. Use `zero_division` parameter to control this behavior.\n",
      "  _warn_prf(average, modifier, msg_start, len(result))\n"
     ]
    }
   ],
   "source": [
    "print(classification_report(y_test, predictions))"
   ]
  },
  {
   "cell_type": "code",
   "execution_count": 17,
   "id": "e034d745",
   "metadata": {
    "execution": {
     "iopub.execute_input": "2022-07-06T05:09:14.235319Z",
     "iopub.status.busy": "2022-07-06T05:09:14.234667Z",
     "iopub.status.idle": "2022-07-06T05:09:14.240270Z",
     "shell.execute_reply": "2022-07-06T05:09:14.239179Z"
    },
    "papermill": {
     "duration": 0.016647,
     "end_time": "2022-07-06T05:09:14.243234",
     "exception": false,
     "start_time": "2022-07-06T05:09:14.226587",
     "status": "completed"
    },
    "tags": []
   },
   "outputs": [
    {
     "name": "stdout",
     "output_type": "stream",
     "text": [
      "0.3333333333333333\n"
     ]
    }
   ],
   "source": [
    "print(accuracy_score(y_test, predictions))"
   ]
  }
 ],
 "metadata": {
  "kernelspec": {
   "display_name": "Python 3",
   "language": "python",
   "name": "python3"
  },
  "language_info": {
   "codemirror_mode": {
    "name": "ipython",
    "version": 3
   },
   "file_extension": ".py",
   "mimetype": "text/x-python",
   "name": "python",
   "nbconvert_exporter": "python",
   "pygments_lexer": "ipython3",
   "version": "3.7.12"
  },
  "papermill": {
   "default_parameters": {},
   "duration": 12.62844,
   "end_time": "2022-07-06T05:09:14.971124",
   "environment_variables": {},
   "exception": null,
   "input_path": "__notebook__.ipynb",
   "output_path": "__notebook__.ipynb",
   "parameters": {},
   "start_time": "2022-07-06T05:09:02.342684",
   "version": "2.3.4"
  }
 },
 "nbformat": 4,
 "nbformat_minor": 5
}
