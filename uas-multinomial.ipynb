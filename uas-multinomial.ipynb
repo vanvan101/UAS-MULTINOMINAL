{
 "cells": [
  {
   "cell_type": "code",
   "execution_count": 1,
   "id": "67b7d201",
   "metadata": {
    "_cell_guid": "b1076dfc-b9ad-4769-8c92-a6c4dae69d19",
    "_uuid": "8f2839f25d086af736a60e9eeb907d3b93b6e0e5",
    "execution": {
     "iopub.execute_input": "2022-07-06T05:12:50.274450Z",
     "iopub.status.busy": "2022-07-06T05:12:50.273731Z",
     "iopub.status.idle": "2022-07-06T05:12:50.297181Z",
     "shell.execute_reply": "2022-07-06T05:12:50.296013Z"
    },
    "papermill": {
     "duration": 0.035302,
     "end_time": "2022-07-06T05:12:50.300189",
     "exception": false,
     "start_time": "2022-07-06T05:12:50.264887",
     "status": "completed"
    },
    "tags": []
   },
   "outputs": [
    {
     "name": "stdout",
     "output_type": "stream",
     "text": [
      "/kaggle/input/dataset-property-category-uas/financial Property and category .csv\n"
     ]
    }
   ],
   "source": [
    "# This Python 3 environment comes with many helpful analytics libraries installed\n",
    "# It is defined by the kaggle/python Docker image: https://github.com/kaggle/docker-python\n",
    "# For example, here's several helpful packages to load\n",
    "\n",
    "import numpy as np # linear algebra\n",
    "import pandas as pd # data processing, CSV file I/O (e.g. pd.read_csv)\n",
    "\n",
    "# Input data files are available in the read-only \"../input/\" directory\n",
    "# For example, running this (by clicking run or pressing Shift+Enter) will list all files under the input directory\n",
    "\n",
    "import os\n",
    "for dirname, _, filenames in os.walk('/kaggle/input'):\n",
    "    for filename in filenames:\n",
    "        print(os.path.join(dirname, filename))\n",
    "\n",
    "# You can write up to 20GB to the current directory (/kaggle/working/) that gets preserved as output when you create a version using \"Save & Run All\" \n",
    "# You can also write temporary files to /kaggle/temp/, but they won't be saved outside of the current session"
   ]
  },
  {
   "cell_type": "code",
   "execution_count": 2,
   "id": "425377f6",
   "metadata": {
    "execution": {
     "iopub.execute_input": "2022-07-06T05:12:50.313423Z",
     "iopub.status.busy": "2022-07-06T05:12:50.312759Z",
     "iopub.status.idle": "2022-07-06T05:12:51.649493Z",
     "shell.execute_reply": "2022-07-06T05:12:51.648113Z"
    },
    "papermill": {
     "duration": 1.346463,
     "end_time": "2022-07-06T05:12:51.652604",
     "exception": false,
     "start_time": "2022-07-06T05:12:50.306141",
     "status": "completed"
    },
    "tags": []
   },
   "outputs": [],
   "source": [
    "import pandas as pd\n",
    "import seaborn as sns\n",
    "from sklearn.metrics import classification_report\n",
    "from sklearn.metrics import accuracy_score\n",
    "from sklearn.model_selection import train_test_split\n",
    "from sklearn.linear_model import LogisticRegression"
   ]
  },
  {
   "cell_type": "code",
   "execution_count": 3,
   "id": "6cd944e9",
   "metadata": {
    "execution": {
     "iopub.execute_input": "2022-07-06T05:12:51.666678Z",
     "iopub.status.busy": "2022-07-06T05:12:51.665483Z",
     "iopub.status.idle": "2022-07-06T05:12:51.701902Z",
     "shell.execute_reply": "2022-07-06T05:12:51.700421Z"
    },
    "papermill": {
     "duration": 0.046382,
     "end_time": "2022-07-06T05:12:51.704877",
     "exception": false,
     "start_time": "2022-07-06T05:12:51.658495",
     "status": "completed"
    },
    "tags": []
   },
   "outputs": [
    {
     "data": {
      "text/html": [
       "<div>\n",
       "<style scoped>\n",
       "    .dataframe tbody tr th:only-of-type {\n",
       "        vertical-align: middle;\n",
       "    }\n",
       "\n",
       "    .dataframe tbody tr th {\n",
       "        vertical-align: top;\n",
       "    }\n",
       "\n",
       "    .dataframe thead th {\n",
       "        text-align: right;\n",
       "    }\n",
       "</style>\n",
       "<table border=\"1\" class=\"dataframe\">\n",
       "  <thead>\n",
       "    <tr style=\"text-align: right;\">\n",
       "      <th></th>\n",
       "      <th>Emitten</th>\n",
       "      <th>DER</th>\n",
       "      <th>ROA</th>\n",
       "      <th>Sales Growth</th>\n",
       "      <th>ROE</th>\n",
       "      <th>NPM</th>\n",
       "      <th>Category</th>\n",
       "    </tr>\n",
       "  </thead>\n",
       "  <tbody>\n",
       "    <tr>\n",
       "      <th>0</th>\n",
       "      <td>AMAN</td>\n",
       "      <td>0.40</td>\n",
       "      <td>0.01</td>\n",
       "      <td>-3.797435</td>\n",
       "      <td>0.01</td>\n",
       "      <td>0.18</td>\n",
       "      <td>3</td>\n",
       "    </tr>\n",
       "    <tr>\n",
       "      <th>1</th>\n",
       "      <td>APLN</td>\n",
       "      <td>1.79</td>\n",
       "      <td>-0.02</td>\n",
       "      <td>18.184296</td>\n",
       "      <td>-0.06</td>\n",
       "      <td>-0.21</td>\n",
       "      <td>2</td>\n",
       "    </tr>\n",
       "    <tr>\n",
       "      <th>2</th>\n",
       "      <td>ASRI</td>\n",
       "      <td>1.35</td>\n",
       "      <td>-0.01</td>\n",
       "      <td>669.231018</td>\n",
       "      <td>-0.02</td>\n",
       "      <td>-0.09</td>\n",
       "      <td>2</td>\n",
       "    </tr>\n",
       "    <tr>\n",
       "      <th>3</th>\n",
       "      <td>ATAP</td>\n",
       "      <td>0.24</td>\n",
       "      <td>0.05</td>\n",
       "      <td>35.698101</td>\n",
       "      <td>0.07</td>\n",
       "      <td>0.11</td>\n",
       "      <td>3</td>\n",
       "    </tr>\n",
       "    <tr>\n",
       "      <th>4</th>\n",
       "      <td>BAPA</td>\n",
       "      <td>0.07</td>\n",
       "      <td>-0.03</td>\n",
       "      <td>-3.317679</td>\n",
       "      <td>-0.03</td>\n",
       "      <td>-1.14</td>\n",
       "      <td>4</td>\n",
       "    </tr>\n",
       "  </tbody>\n",
       "</table>\n",
       "</div>"
      ],
      "text/plain": [
       "  Emitten   DER   ROA  Sales Growth   ROE   NPM  Category\n",
       "0    AMAN  0.40  0.01     -3.797435  0.01  0.18         3\n",
       "1    APLN  1.79 -0.02     18.184296 -0.06 -0.21         2\n",
       "2    ASRI  1.35 -0.01    669.231018 -0.02 -0.09         2\n",
       "3    ATAP  0.24  0.05     35.698101  0.07  0.11         3\n",
       "4    BAPA  0.07 -0.03     -3.317679 -0.03 -1.14         4"
      ]
     },
     "execution_count": 3,
     "metadata": {},
     "output_type": "execute_result"
    }
   ],
   "source": [
    "df = pd.read_csv('../input/dataset-property-category-uas/financial Property and category .csv')\n",
    "df.head()"
   ]
  },
  {
   "cell_type": "code",
   "execution_count": 4,
   "id": "c4abc212",
   "metadata": {
    "execution": {
     "iopub.execute_input": "2022-07-06T05:12:51.718324Z",
     "iopub.status.busy": "2022-07-06T05:12:51.717886Z",
     "iopub.status.idle": "2022-07-06T05:12:51.727122Z",
     "shell.execute_reply": "2022-07-06T05:12:51.725908Z"
    },
    "papermill": {
     "duration": 0.01854,
     "end_time": "2022-07-06T05:12:51.729451",
     "exception": false,
     "start_time": "2022-07-06T05:12:51.710911",
     "status": "completed"
    },
    "tags": []
   },
   "outputs": [
    {
     "data": {
      "text/plain": [
       "array([['AMAN', 0.4, 0.01, -3.797435, 0.01, 0.18, 3],\n",
       "       ['APLN', 1.79, -0.02, 18.184296, -0.06, -0.21, 2],\n",
       "       ['ASRI', 1.35, -0.01, 669.231018, -0.02, -0.09, 2],\n",
       "       ['ATAP', 0.24, 0.05, 35.698101, 0.07, 0.11, 3],\n",
       "       ['BAPA', 0.07, -0.03, -3.317679, -0.03, -1.14, 4],\n",
       "       ['BAPI', 0.47, -0.01, -0.096221, -0.01, -1.43, 4],\n",
       "       ['BCIP', 1.14, -0.01, -46.929469, -0.01, -0.16, 2],\n",
       "       ['BEST', 0.42, -0.02, -84.809916, -0.03, -1.03, 4],\n",
       "       ['BKDP', 0.73, -0.05, -9.498563, 0.04, 0.16, 2],\n",
       "       ['BKSL', 0.61, 0.02, 2374.3049, 0.04, 0.42, 3],\n",
       "       ['BSDE', 0.69, 0.02, -7.213595, 0.07, 2.0, 3],\n",
       "       ['CPRI', 0.13, -0.01, 0.820829, -0.01, -0.37, 4],\n",
       "       ['CTRA', 1.16, 0.05, 2408.626, 0.11, 0.32, 3],\n",
       "       ['DADA', 1.0, 0.03, -182.3169, 0.05, 0.73, 3],\n",
       "       ['DART', 1.57, -0.06, -26.572531, -0.15, -1.86, 5],\n",
       "       ['DMAS', 0.12, 0.13, 652.221301, 0.15, 0.65, 1],\n",
       "       ['DUTI', 0.4, 0.04, -546.164778, 0.05, 0.81, 3]], dtype=object)"
      ]
     },
     "execution_count": 4,
     "metadata": {},
     "output_type": "execute_result"
    }
   ],
   "source": [
    "np.asarray(df)"
   ]
  },
  {
   "cell_type": "code",
   "execution_count": 5,
   "id": "1e6c4282",
   "metadata": {
    "execution": {
     "iopub.execute_input": "2022-07-06T05:12:51.742903Z",
     "iopub.status.busy": "2022-07-06T05:12:51.742278Z",
     "iopub.status.idle": "2022-07-06T05:12:52.447674Z",
     "shell.execute_reply": "2022-07-06T05:12:52.446291Z"
    },
    "papermill": {
     "duration": 0.715398,
     "end_time": "2022-07-06T05:12:52.450881",
     "exception": false,
     "start_time": "2022-07-06T05:12:51.735483",
     "status": "completed"
    },
    "tags": []
   },
   "outputs": [],
   "source": [
    "import statsmodels.api as sm"
   ]
  },
  {
   "cell_type": "code",
   "execution_count": 6,
   "id": "a6efe6d7",
   "metadata": {
    "execution": {
     "iopub.execute_input": "2022-07-06T05:12:52.467808Z",
     "iopub.status.busy": "2022-07-06T05:12:52.466993Z",
     "iopub.status.idle": "2022-07-06T05:12:52.480032Z",
     "shell.execute_reply": "2022-07-06T05:12:52.478915Z"
    },
    "papermill": {
     "duration": 0.023849,
     "end_time": "2022-07-06T05:12:52.482792",
     "exception": false,
     "start_time": "2022-07-06T05:12:52.458943",
     "status": "completed"
    },
    "tags": []
   },
   "outputs": [],
   "source": [
    "df.drop(['Emitten'], axis=1, inplace=True)"
   ]
  },
  {
   "cell_type": "code",
   "execution_count": 7,
   "id": "3ae7363c",
   "metadata": {
    "execution": {
     "iopub.execute_input": "2022-07-06T05:12:52.498395Z",
     "iopub.status.busy": "2022-07-06T05:12:52.496745Z",
     "iopub.status.idle": "2022-07-06T05:12:52.508001Z",
     "shell.execute_reply": "2022-07-06T05:12:52.507094Z"
    },
    "papermill": {
     "duration": 0.020781,
     "end_time": "2022-07-06T05:12:52.510179",
     "exception": false,
     "start_time": "2022-07-06T05:12:52.489398",
     "status": "completed"
    },
    "tags": []
   },
   "outputs": [
    {
     "data": {
      "text/plain": [
       "0    3\n",
       "1    2\n",
       "2    2\n",
       "3    3\n",
       "4    4\n",
       "Name: Category, dtype: int64"
      ]
     },
     "execution_count": 7,
     "metadata": {},
     "output_type": "execute_result"
    }
   ],
   "source": [
    "y = df['Category']\n",
    "y.head()"
   ]
  },
  {
   "cell_type": "code",
   "execution_count": 8,
   "id": "df39e888",
   "metadata": {
    "execution": {
     "iopub.execute_input": "2022-07-06T05:12:52.523954Z",
     "iopub.status.busy": "2022-07-06T05:12:52.523527Z",
     "iopub.status.idle": "2022-07-06T05:12:52.540596Z",
     "shell.execute_reply": "2022-07-06T05:12:52.539215Z"
    },
    "papermill": {
     "duration": 0.026871,
     "end_time": "2022-07-06T05:12:52.543066",
     "exception": false,
     "start_time": "2022-07-06T05:12:52.516195",
     "status": "completed"
    },
    "tags": []
   },
   "outputs": [
    {
     "data": {
      "text/html": [
       "<div>\n",
       "<style scoped>\n",
       "    .dataframe tbody tr th:only-of-type {\n",
       "        vertical-align: middle;\n",
       "    }\n",
       "\n",
       "    .dataframe tbody tr th {\n",
       "        vertical-align: top;\n",
       "    }\n",
       "\n",
       "    .dataframe thead th {\n",
       "        text-align: right;\n",
       "    }\n",
       "</style>\n",
       "<table border=\"1\" class=\"dataframe\">\n",
       "  <thead>\n",
       "    <tr style=\"text-align: right;\">\n",
       "      <th></th>\n",
       "      <th>DER</th>\n",
       "      <th>ROA</th>\n",
       "      <th>Sales Growth</th>\n",
       "      <th>ROE</th>\n",
       "      <th>NPM</th>\n",
       "    </tr>\n",
       "  </thead>\n",
       "  <tbody>\n",
       "    <tr>\n",
       "      <th>0</th>\n",
       "      <td>0.40</td>\n",
       "      <td>0.01</td>\n",
       "      <td>-3.797435</td>\n",
       "      <td>0.01</td>\n",
       "      <td>0.18</td>\n",
       "    </tr>\n",
       "    <tr>\n",
       "      <th>1</th>\n",
       "      <td>1.79</td>\n",
       "      <td>-0.02</td>\n",
       "      <td>18.184296</td>\n",
       "      <td>-0.06</td>\n",
       "      <td>-0.21</td>\n",
       "    </tr>\n",
       "    <tr>\n",
       "      <th>2</th>\n",
       "      <td>1.35</td>\n",
       "      <td>-0.01</td>\n",
       "      <td>669.231018</td>\n",
       "      <td>-0.02</td>\n",
       "      <td>-0.09</td>\n",
       "    </tr>\n",
       "    <tr>\n",
       "      <th>3</th>\n",
       "      <td>0.24</td>\n",
       "      <td>0.05</td>\n",
       "      <td>35.698101</td>\n",
       "      <td>0.07</td>\n",
       "      <td>0.11</td>\n",
       "    </tr>\n",
       "    <tr>\n",
       "      <th>4</th>\n",
       "      <td>0.07</td>\n",
       "      <td>-0.03</td>\n",
       "      <td>-3.317679</td>\n",
       "      <td>-0.03</td>\n",
       "      <td>-1.14</td>\n",
       "    </tr>\n",
       "  </tbody>\n",
       "</table>\n",
       "</div>"
      ],
      "text/plain": [
       "    DER   ROA  Sales Growth   ROE   NPM\n",
       "0  0.40  0.01     -3.797435  0.01  0.18\n",
       "1  1.79 -0.02     18.184296 -0.06 -0.21\n",
       "2  1.35 -0.01    669.231018 -0.02 -0.09\n",
       "3  0.24  0.05     35.698101  0.07  0.11\n",
       "4  0.07 -0.03     -3.317679 -0.03 -1.14"
      ]
     },
     "execution_count": 8,
     "metadata": {},
     "output_type": "execute_result"
    }
   ],
   "source": [
    "x = df.drop('Category', axis=1)\n",
    "x.head()"
   ]
  },
  {
   "cell_type": "code",
   "execution_count": 9,
   "id": "f3d345fe",
   "metadata": {
    "execution": {
     "iopub.execute_input": "2022-07-06T05:12:52.558110Z",
     "iopub.status.busy": "2022-07-06T05:12:52.557105Z",
     "iopub.status.idle": "2022-07-06T05:12:52.564757Z",
     "shell.execute_reply": "2022-07-06T05:12:52.563693Z"
    },
    "papermill": {
     "duration": 0.017636,
     "end_time": "2022-07-06T05:12:52.567083",
     "exception": false,
     "start_time": "2022-07-06T05:12:52.549447",
     "status": "completed"
    },
    "tags": []
   },
   "outputs": [],
   "source": [
    "x_train, x_test, y_train, y_test = train_test_split(x,y, test_size=0.3)"
   ]
  },
  {
   "cell_type": "code",
   "execution_count": 10,
   "id": "30dce120",
   "metadata": {
    "execution": {
     "iopub.execute_input": "2022-07-06T05:12:52.581937Z",
     "iopub.status.busy": "2022-07-06T05:12:52.581468Z",
     "iopub.status.idle": "2022-07-06T05:12:52.603956Z",
     "shell.execute_reply": "2022-07-06T05:12:52.603007Z"
    },
    "papermill": {
     "duration": 0.032695,
     "end_time": "2022-07-06T05:12:52.606250",
     "exception": false,
     "start_time": "2022-07-06T05:12:52.573555",
     "status": "completed"
    },
    "tags": []
   },
   "outputs": [
    {
     "data": {
      "text/html": [
       "<div>\n",
       "<style scoped>\n",
       "    .dataframe tbody tr th:only-of-type {\n",
       "        vertical-align: middle;\n",
       "    }\n",
       "\n",
       "    .dataframe tbody tr th {\n",
       "        vertical-align: top;\n",
       "    }\n",
       "\n",
       "    .dataframe thead th {\n",
       "        text-align: right;\n",
       "    }\n",
       "</style>\n",
       "<table border=\"1\" class=\"dataframe\">\n",
       "  <thead>\n",
       "    <tr style=\"text-align: right;\">\n",
       "      <th></th>\n",
       "      <th>const</th>\n",
       "      <th>DER</th>\n",
       "      <th>ROA</th>\n",
       "      <th>Sales Growth</th>\n",
       "      <th>ROE</th>\n",
       "      <th>NPM</th>\n",
       "    </tr>\n",
       "  </thead>\n",
       "  <tbody>\n",
       "    <tr>\n",
       "      <th>11</th>\n",
       "      <td>1.0</td>\n",
       "      <td>0.13</td>\n",
       "      <td>-0.01</td>\n",
       "      <td>0.820829</td>\n",
       "      <td>-0.01</td>\n",
       "      <td>-0.37</td>\n",
       "    </tr>\n",
       "    <tr>\n",
       "      <th>8</th>\n",
       "      <td>1.0</td>\n",
       "      <td>0.73</td>\n",
       "      <td>-0.05</td>\n",
       "      <td>-9.498563</td>\n",
       "      <td>0.04</td>\n",
       "      <td>0.16</td>\n",
       "    </tr>\n",
       "    <tr>\n",
       "      <th>15</th>\n",
       "      <td>1.0</td>\n",
       "      <td>0.12</td>\n",
       "      <td>0.13</td>\n",
       "      <td>652.221301</td>\n",
       "      <td>0.15</td>\n",
       "      <td>0.65</td>\n",
       "    </tr>\n",
       "    <tr>\n",
       "      <th>1</th>\n",
       "      <td>1.0</td>\n",
       "      <td>1.79</td>\n",
       "      <td>-0.02</td>\n",
       "      <td>18.184296</td>\n",
       "      <td>-0.06</td>\n",
       "      <td>-0.21</td>\n",
       "    </tr>\n",
       "    <tr>\n",
       "      <th>9</th>\n",
       "      <td>1.0</td>\n",
       "      <td>0.61</td>\n",
       "      <td>0.02</td>\n",
       "      <td>2374.304900</td>\n",
       "      <td>0.04</td>\n",
       "      <td>0.42</td>\n",
       "    </tr>\n",
       "    <tr>\n",
       "      <th>14</th>\n",
       "      <td>1.0</td>\n",
       "      <td>1.57</td>\n",
       "      <td>-0.06</td>\n",
       "      <td>-26.572531</td>\n",
       "      <td>-0.15</td>\n",
       "      <td>-1.86</td>\n",
       "    </tr>\n",
       "    <tr>\n",
       "      <th>5</th>\n",
       "      <td>1.0</td>\n",
       "      <td>0.47</td>\n",
       "      <td>-0.01</td>\n",
       "      <td>-0.096221</td>\n",
       "      <td>-0.01</td>\n",
       "      <td>-1.43</td>\n",
       "    </tr>\n",
       "    <tr>\n",
       "      <th>12</th>\n",
       "      <td>1.0</td>\n",
       "      <td>1.16</td>\n",
       "      <td>0.05</td>\n",
       "      <td>2408.626000</td>\n",
       "      <td>0.11</td>\n",
       "      <td>0.32</td>\n",
       "    </tr>\n",
       "    <tr>\n",
       "      <th>10</th>\n",
       "      <td>1.0</td>\n",
       "      <td>0.69</td>\n",
       "      <td>0.02</td>\n",
       "      <td>-7.213595</td>\n",
       "      <td>0.07</td>\n",
       "      <td>2.00</td>\n",
       "    </tr>\n",
       "    <tr>\n",
       "      <th>7</th>\n",
       "      <td>1.0</td>\n",
       "      <td>0.42</td>\n",
       "      <td>-0.02</td>\n",
       "      <td>-84.809916</td>\n",
       "      <td>-0.03</td>\n",
       "      <td>-1.03</td>\n",
       "    </tr>\n",
       "    <tr>\n",
       "      <th>2</th>\n",
       "      <td>1.0</td>\n",
       "      <td>1.35</td>\n",
       "      <td>-0.01</td>\n",
       "      <td>669.231018</td>\n",
       "      <td>-0.02</td>\n",
       "      <td>-0.09</td>\n",
       "    </tr>\n",
       "  </tbody>\n",
       "</table>\n",
       "</div>"
      ],
      "text/plain": [
       "    const   DER   ROA  Sales Growth   ROE   NPM\n",
       "11    1.0  0.13 -0.01      0.820829 -0.01 -0.37\n",
       "8     1.0  0.73 -0.05     -9.498563  0.04  0.16\n",
       "15    1.0  0.12  0.13    652.221301  0.15  0.65\n",
       "1     1.0  1.79 -0.02     18.184296 -0.06 -0.21\n",
       "9     1.0  0.61  0.02   2374.304900  0.04  0.42\n",
       "14    1.0  1.57 -0.06    -26.572531 -0.15 -1.86\n",
       "5     1.0  0.47 -0.01     -0.096221 -0.01 -1.43\n",
       "12    1.0  1.16  0.05   2408.626000  0.11  0.32\n",
       "10    1.0  0.69  0.02     -7.213595  0.07  2.00\n",
       "7     1.0  0.42 -0.02    -84.809916 -0.03 -1.03\n",
       "2     1.0  1.35 -0.01    669.231018 -0.02 -0.09"
      ]
     },
     "execution_count": 10,
     "metadata": {},
     "output_type": "execute_result"
    }
   ],
   "source": [
    "x_train_sm = sm.add_constant(x_train)\n",
    "x_train_sm"
   ]
  },
  {
   "cell_type": "code",
   "execution_count": 11,
   "id": "4456cf39",
   "metadata": {
    "execution": {
     "iopub.execute_input": "2022-07-06T05:12:52.622018Z",
     "iopub.status.busy": "2022-07-06T05:12:52.621543Z",
     "iopub.status.idle": "2022-07-06T05:12:52.680225Z",
     "shell.execute_reply": "2022-07-06T05:12:52.678610Z"
    },
    "papermill": {
     "duration": 0.077212,
     "end_time": "2022-07-06T05:12:52.690515",
     "exception": false,
     "start_time": "2022-07-06T05:12:52.613303",
     "status": "completed"
    },
    "tags": []
   },
   "outputs": [
    {
     "name": "stdout",
     "output_type": "stream",
     "text": [
      "Optimization terminated successfully.\n",
      "         Current function value: nan\n",
      "         Iterations 18\n"
     ]
    },
    {
     "name": "stderr",
     "output_type": "stream",
     "text": [
      "/opt/conda/lib/python3.7/site-packages/statsmodels/discrete/discrete_model.py:2299: RuntimeWarning: overflow encountered in exp\n",
      "  eXB = np.column_stack((np.ones(len(X)), np.exp(X)))\n",
      "/opt/conda/lib/python3.7/site-packages/statsmodels/discrete/discrete_model.py:2300: RuntimeWarning: invalid value encountered in true_divide\n",
      "  return eXB/eXB.sum(1)[:,None]\n"
     ]
    }
   ],
   "source": [
    "#logit_mod = sm.Logit(y_train, x_train_sm\n",
    "                     \n",
    "mnlogit_mod = sm.MNLogit(y_train, x_train_sm)\n",
    "mnlogit_fit = mnlogit_mod.fit()"
   ]
  },
  {
   "cell_type": "code",
   "execution_count": 12,
   "id": "dcc3105f",
   "metadata": {
    "execution": {
     "iopub.execute_input": "2022-07-06T05:12:52.719582Z",
     "iopub.status.busy": "2022-07-06T05:12:52.718917Z",
     "iopub.status.idle": "2022-07-06T05:12:52.847179Z",
     "shell.execute_reply": "2022-07-06T05:12:52.845451Z"
    },
    "papermill": {
     "duration": 0.147076,
     "end_time": "2022-07-06T05:12:52.850965",
     "exception": false,
     "start_time": "2022-07-06T05:12:52.703889",
     "status": "completed"
    },
    "tags": []
   },
   "outputs": [
    {
     "name": "stdout",
     "output_type": "stream",
     "text": [
      "                          MNLogit Regression Results                          \n",
      "==============================================================================\n",
      "Dep. Variable:               Category   No. Observations:                   11\n",
      "Model:                        MNLogit   Df Residuals:                      -13\n",
      "Method:                           MLE   Df Model:                           20\n",
      "Date:                Wed, 06 Jul 2022   Pseudo R-squ.:                     nan\n",
      "Time:                        05:12:52   Log-Likelihood:                    nan\n",
      "converged:                       True   LL-Null:                       -16.489\n",
      "Covariance Type:            nonrobust   LLR p-value:                       nan\n",
      "================================================================================\n",
      "  Category=2       coef    std err          z      P>|z|      [0.025      0.975]\n",
      "--------------------------------------------------------------------------------\n",
      "const               nan        nan        nan        nan         nan         nan\n",
      "DER                 nan        nan        nan        nan         nan         nan\n",
      "ROA                 nan        nan        nan        nan         nan         nan\n",
      "Sales Growth        nan        nan        nan        nan         nan         nan\n",
      "ROE                 nan        nan        nan        nan         nan         nan\n",
      "NPM                 nan        nan        nan        nan         nan         nan\n",
      "--------------------------------------------------------------------------------\n",
      "  Category=3       coef    std err          z      P>|z|      [0.025      0.975]\n",
      "--------------------------------------------------------------------------------\n",
      "const               nan        nan        nan        nan         nan         nan\n",
      "DER                 nan        nan        nan        nan         nan         nan\n",
      "ROA                 nan        nan        nan        nan         nan         nan\n",
      "Sales Growth        nan        nan        nan        nan         nan         nan\n",
      "ROE                 nan        nan        nan        nan         nan         nan\n",
      "NPM                 nan        nan        nan        nan         nan         nan\n",
      "--------------------------------------------------------------------------------\n",
      "  Category=4       coef    std err          z      P>|z|      [0.025      0.975]\n",
      "--------------------------------------------------------------------------------\n",
      "const               nan        nan        nan        nan         nan         nan\n",
      "DER                 nan        nan        nan        nan         nan         nan\n",
      "ROA                 nan        nan        nan        nan         nan         nan\n",
      "Sales Growth        nan        nan        nan        nan         nan         nan\n",
      "ROE                 nan        nan        nan        nan         nan         nan\n",
      "NPM                 nan        nan        nan        nan         nan         nan\n",
      "--------------------------------------------------------------------------------\n",
      "  Category=5       coef    std err          z      P>|z|      [0.025      0.975]\n",
      "--------------------------------------------------------------------------------\n",
      "const               nan        nan        nan        nan         nan         nan\n",
      "DER                 nan        nan        nan        nan         nan         nan\n",
      "ROA                 nan        nan        nan        nan         nan         nan\n",
      "Sales Growth        nan        nan        nan        nan         nan         nan\n",
      "ROE                 nan        nan        nan        nan         nan         nan\n",
      "NPM                 nan        nan        nan        nan         nan         nan\n",
      "================================================================================\n"
     ]
    }
   ],
   "source": [
    "print (mnlogit_fit.summary())"
   ]
  },
  {
   "cell_type": "code",
   "execution_count": 13,
   "id": "4701aa7e",
   "metadata": {
    "execution": {
     "iopub.execute_input": "2022-07-06T05:12:52.867486Z",
     "iopub.status.busy": "2022-07-06T05:12:52.866652Z",
     "iopub.status.idle": "2022-07-06T05:12:52.917289Z",
     "shell.execute_reply": "2022-07-06T05:12:52.915783Z"
    },
    "papermill": {
     "duration": 0.062315,
     "end_time": "2022-07-06T05:12:52.920611",
     "exception": false,
     "start_time": "2022-07-06T05:12:52.858296",
     "status": "completed"
    },
    "tags": []
   },
   "outputs": [
    {
     "name": "stderr",
     "output_type": "stream",
     "text": [
      "/opt/conda/lib/python3.7/site-packages/sklearn/linear_model/_logistic.py:818: ConvergenceWarning: lbfgs failed to converge (status=1):\n",
      "STOP: TOTAL NO. of ITERATIONS REACHED LIMIT.\n",
      "\n",
      "Increase the number of iterations (max_iter) or scale the data as shown in:\n",
      "    https://scikit-learn.org/stable/modules/preprocessing.html\n",
      "Please also refer to the documentation for alternative solver options:\n",
      "    https://scikit-learn.org/stable/modules/linear_model.html#logistic-regression\n",
      "  extra_warning_msg=_LOGISTIC_SOLVER_CONVERGENCE_MSG,\n"
     ]
    },
    {
     "data": {
      "text/plain": [
       "LogisticRegression()"
      ]
     },
     "execution_count": 13,
     "metadata": {},
     "output_type": "execute_result"
    }
   ],
   "source": [
    "model = LogisticRegression(multi_class='auto')\n",
    "model.fit(x_train, y_train)"
   ]
  },
  {
   "cell_type": "code",
   "execution_count": 14,
   "id": "94cacec1",
   "metadata": {
    "execution": {
     "iopub.execute_input": "2022-07-06T05:12:52.937527Z",
     "iopub.status.busy": "2022-07-06T05:12:52.937123Z",
     "iopub.status.idle": "2022-07-06T05:12:52.947870Z",
     "shell.execute_reply": "2022-07-06T05:12:52.946497Z"
    },
    "papermill": {
     "duration": 0.022018,
     "end_time": "2022-07-06T05:12:52.950569",
     "exception": false,
     "start_time": "2022-07-06T05:12:52.928551",
     "status": "completed"
    },
    "tags": []
   },
   "outputs": [
    {
     "data": {
      "text/plain": [
       "array([[1.08415797e-01, 3.10599826e-01, 1.19955217e-01, 3.18148530e-01,\n",
       "        1.42880629e-01],\n",
       "       [9.07865564e-03, 7.69653951e-02, 1.04493367e-02, 5.67947765e-01,\n",
       "        3.35558847e-01],\n",
       "       [2.13152867e-01, 4.80717692e-01, 2.13860987e-01, 6.03486506e-02,\n",
       "        3.19198034e-02],\n",
       "       [5.03861590e-02, 1.38260870e-01, 1.86176595e-02, 5.97696508e-01,\n",
       "        1.95038804e-01],\n",
       "       [9.94243916e-06, 6.34502171e-05, 1.83509189e-05, 8.42024243e-01,\n",
       "        1.57884014e-01]])"
      ]
     },
     "execution_count": 14,
     "metadata": {},
     "output_type": "execute_result"
    }
   ],
   "source": [
    "model.predict_proba(x_test)[0:5]"
   ]
  },
  {
   "cell_type": "code",
   "execution_count": 15,
   "id": "7c5fc155",
   "metadata": {
    "execution": {
     "iopub.execute_input": "2022-07-06T05:12:52.966683Z",
     "iopub.status.busy": "2022-07-06T05:12:52.966298Z",
     "iopub.status.idle": "2022-07-06T05:12:52.976075Z",
     "shell.execute_reply": "2022-07-06T05:12:52.974842Z"
    },
    "papermill": {
     "duration": 0.02099,
     "end_time": "2022-07-06T05:12:52.978687",
     "exception": false,
     "start_time": "2022-07-06T05:12:52.957697",
     "status": "completed"
    },
    "tags": []
   },
   "outputs": [
    {
     "data": {
      "text/plain": [
       "array([4, 4, 2, 4, 4, 4])"
      ]
     },
     "execution_count": 15,
     "metadata": {},
     "output_type": "execute_result"
    }
   ],
   "source": [
    "predictions = model.predict(x_test)\n",
    "predictions"
   ]
  },
  {
   "cell_type": "code",
   "execution_count": 16,
   "id": "b68492fc",
   "metadata": {
    "execution": {
     "iopub.execute_input": "2022-07-06T05:12:52.996289Z",
     "iopub.status.busy": "2022-07-06T05:12:52.995866Z",
     "iopub.status.idle": "2022-07-06T05:12:53.012813Z",
     "shell.execute_reply": "2022-07-06T05:12:53.011225Z"
    },
    "papermill": {
     "duration": 0.02872,
     "end_time": "2022-07-06T05:12:53.015537",
     "exception": false,
     "start_time": "2022-07-06T05:12:52.986817",
     "status": "completed"
    },
    "tags": []
   },
   "outputs": [
    {
     "name": "stdout",
     "output_type": "stream",
     "text": [
      "              precision    recall  f1-score   support\n",
      "\n",
      "           2       0.00      0.00      0.00         1\n",
      "           3       0.00      0.00      0.00         4\n",
      "           4       0.20      1.00      0.33         1\n",
      "\n",
      "    accuracy                           0.17         6\n",
      "   macro avg       0.07      0.33      0.11         6\n",
      "weighted avg       0.03      0.17      0.06         6\n",
      "\n"
     ]
    },
    {
     "name": "stderr",
     "output_type": "stream",
     "text": [
      "/opt/conda/lib/python3.7/site-packages/sklearn/metrics/_classification.py:1318: UndefinedMetricWarning: Precision and F-score are ill-defined and being set to 0.0 in labels with no predicted samples. Use `zero_division` parameter to control this behavior.\n",
      "  _warn_prf(average, modifier, msg_start, len(result))\n",
      "/opt/conda/lib/python3.7/site-packages/sklearn/metrics/_classification.py:1318: UndefinedMetricWarning: Precision and F-score are ill-defined and being set to 0.0 in labels with no predicted samples. Use `zero_division` parameter to control this behavior.\n",
      "  _warn_prf(average, modifier, msg_start, len(result))\n",
      "/opt/conda/lib/python3.7/site-packages/sklearn/metrics/_classification.py:1318: UndefinedMetricWarning: Precision and F-score are ill-defined and being set to 0.0 in labels with no predicted samples. Use `zero_division` parameter to control this behavior.\n",
      "  _warn_prf(average, modifier, msg_start, len(result))\n"
     ]
    }
   ],
   "source": [
    "print(classification_report(y_test, predictions))"
   ]
  },
  {
   "cell_type": "code",
   "execution_count": 17,
   "id": "f4701cab",
   "metadata": {
    "execution": {
     "iopub.execute_input": "2022-07-06T05:12:53.033620Z",
     "iopub.status.busy": "2022-07-06T05:12:53.032310Z",
     "iopub.status.idle": "2022-07-06T05:12:53.040052Z",
     "shell.execute_reply": "2022-07-06T05:12:53.038752Z"
    },
    "papermill": {
     "duration": 0.02002,
     "end_time": "2022-07-06T05:12:53.043240",
     "exception": false,
     "start_time": "2022-07-06T05:12:53.023220",
     "status": "completed"
    },
    "tags": []
   },
   "outputs": [
    {
     "name": "stdout",
     "output_type": "stream",
     "text": [
      "0.16666666666666666\n"
     ]
    }
   ],
   "source": [
    "print(accuracy_score(y_test, predictions))"
   ]
  }
 ],
 "metadata": {
  "kernelspec": {
   "display_name": "Python 3",
   "language": "python",
   "name": "python3"
  },
  "language_info": {
   "codemirror_mode": {
    "name": "ipython",
    "version": 3
   },
   "file_extension": ".py",
   "mimetype": "text/x-python",
   "name": "python",
   "nbconvert_exporter": "python",
   "pygments_lexer": "ipython3",
   "version": "3.7.12"
  },
  "papermill": {
   "default_parameters": {},
   "duration": 13.704726,
   "end_time": "2022-07-06T05:12:53.973513",
   "environment_variables": {},
   "exception": null,
   "input_path": "__notebook__.ipynb",
   "output_path": "__notebook__.ipynb",
   "parameters": {},
   "start_time": "2022-07-06T05:12:40.268787",
   "version": "2.3.4"
  }
 },
 "nbformat": 4,
 "nbformat_minor": 5
}
