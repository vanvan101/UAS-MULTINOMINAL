{
 "cells": [
  {
   "cell_type": "code",
   "execution_count": 1,
   "id": "8e750805",
   "metadata": {
    "_cell_guid": "b1076dfc-b9ad-4769-8c92-a6c4dae69d19",
    "_uuid": "8f2839f25d086af736a60e9eeb907d3b93b6e0e5",
    "execution": {
     "iopub.execute_input": "2022-07-06T04:50:57.097464Z",
     "iopub.status.busy": "2022-07-06T04:50:57.096493Z",
     "iopub.status.idle": "2022-07-06T04:50:57.117433Z",
     "shell.execute_reply": "2022-07-06T04:50:57.116487Z"
    },
    "papermill": {
     "duration": 0.032277,
     "end_time": "2022-07-06T04:50:57.120009",
     "exception": false,
     "start_time": "2022-07-06T04:50:57.087732",
     "status": "completed"
    },
    "tags": []
   },
   "outputs": [
    {
     "name": "stdout",
     "output_type": "stream",
     "text": [
      "/kaggle/input/dataset-property-category-uas/financial Property and category .csv\n"
     ]
    }
   ],
   "source": [
    "# This Python 3 environment comes with many helpful analytics libraries installed\n",
    "# It is defined by the kaggle/python Docker image: https://github.com/kaggle/docker-python\n",
    "# For example, here's several helpful packages to load\n",
    "\n",
    "import numpy as np # linear algebra\n",
    "import pandas as pd # data processing, CSV file I/O (e.g. pd.read_csv)\n",
    "\n",
    "# Input data files are available in the read-only \"../input/\" directory\n",
    "# For example, running this (by clicking run or pressing Shift+Enter) will list all files under the input directory\n",
    "\n",
    "import os\n",
    "for dirname, _, filenames in os.walk('/kaggle/input'):\n",
    "    for filename in filenames:\n",
    "        print(os.path.join(dirname, filename))\n",
    "\n",
    "# You can write up to 20GB to the current directory (/kaggle/working/) that gets preserved as output when you create a version using \"Save & Run All\" \n",
    "# You can also write temporary files to /kaggle/temp/, but they won't be saved outside of the current session"
   ]
  },
  {
   "cell_type": "code",
   "execution_count": 2,
   "id": "851e88c2",
   "metadata": {
    "execution": {
     "iopub.execute_input": "2022-07-06T04:50:57.133387Z",
     "iopub.status.busy": "2022-07-06T04:50:57.132548Z",
     "iopub.status.idle": "2022-07-06T04:50:58.578323Z",
     "shell.execute_reply": "2022-07-06T04:50:58.577329Z"
    },
    "papermill": {
     "duration": 1.455734,
     "end_time": "2022-07-06T04:50:58.581387",
     "exception": false,
     "start_time": "2022-07-06T04:50:57.125653",
     "status": "completed"
    },
    "tags": []
   },
   "outputs": [],
   "source": [
    "import pandas as pd\n",
    "import seaborn as sns\n",
    "from sklearn.metrics import classification_report\n",
    "from sklearn.metrics import accuracy_score\n",
    "from sklearn.model_selection import train_test_split\n",
    "from sklearn.linear_model import LogisticRegression"
   ]
  },
  {
   "cell_type": "code",
   "execution_count": 3,
   "id": "a5593e55",
   "metadata": {
    "execution": {
     "iopub.execute_input": "2022-07-06T04:50:58.595950Z",
     "iopub.status.busy": "2022-07-06T04:50:58.594925Z",
     "iopub.status.idle": "2022-07-06T04:50:58.630006Z",
     "shell.execute_reply": "2022-07-06T04:50:58.629164Z"
    },
    "papermill": {
     "duration": 0.045118,
     "end_time": "2022-07-06T04:50:58.632342",
     "exception": false,
     "start_time": "2022-07-06T04:50:58.587224",
     "status": "completed"
    },
    "tags": []
   },
   "outputs": [
    {
     "data": {
      "text/html": [
       "<div>\n",
       "<style scoped>\n",
       "    .dataframe tbody tr th:only-of-type {\n",
       "        vertical-align: middle;\n",
       "    }\n",
       "\n",
       "    .dataframe tbody tr th {\n",
       "        vertical-align: top;\n",
       "    }\n",
       "\n",
       "    .dataframe thead th {\n",
       "        text-align: right;\n",
       "    }\n",
       "</style>\n",
       "<table border=\"1\" class=\"dataframe\">\n",
       "  <thead>\n",
       "    <tr style=\"text-align: right;\">\n",
       "      <th></th>\n",
       "      <th>Emitten</th>\n",
       "      <th>DER</th>\n",
       "      <th>ROA</th>\n",
       "      <th>Sales Growth</th>\n",
       "      <th>ROE</th>\n",
       "      <th>NPM</th>\n",
       "      <th>Category</th>\n",
       "    </tr>\n",
       "  </thead>\n",
       "  <tbody>\n",
       "    <tr>\n",
       "      <th>0</th>\n",
       "      <td>AMAN</td>\n",
       "      <td>0.40</td>\n",
       "      <td>0.01</td>\n",
       "      <td>-3.797435</td>\n",
       "      <td>0.01</td>\n",
       "      <td>0.18</td>\n",
       "      <td>3</td>\n",
       "    </tr>\n",
       "    <tr>\n",
       "      <th>1</th>\n",
       "      <td>APLN</td>\n",
       "      <td>1.79</td>\n",
       "      <td>-0.02</td>\n",
       "      <td>18.184296</td>\n",
       "      <td>-0.06</td>\n",
       "      <td>-0.21</td>\n",
       "      <td>2</td>\n",
       "    </tr>\n",
       "    <tr>\n",
       "      <th>2</th>\n",
       "      <td>ASRI</td>\n",
       "      <td>1.35</td>\n",
       "      <td>-0.01</td>\n",
       "      <td>669.231018</td>\n",
       "      <td>-0.02</td>\n",
       "      <td>-0.09</td>\n",
       "      <td>2</td>\n",
       "    </tr>\n",
       "    <tr>\n",
       "      <th>3</th>\n",
       "      <td>ATAP</td>\n",
       "      <td>0.24</td>\n",
       "      <td>0.05</td>\n",
       "      <td>35.698101</td>\n",
       "      <td>0.07</td>\n",
       "      <td>0.11</td>\n",
       "      <td>3</td>\n",
       "    </tr>\n",
       "    <tr>\n",
       "      <th>4</th>\n",
       "      <td>BAPA</td>\n",
       "      <td>0.07</td>\n",
       "      <td>-0.03</td>\n",
       "      <td>-3.317679</td>\n",
       "      <td>-0.03</td>\n",
       "      <td>-1.14</td>\n",
       "      <td>4</td>\n",
       "    </tr>\n",
       "  </tbody>\n",
       "</table>\n",
       "</div>"
      ],
      "text/plain": [
       "  Emitten   DER   ROA  Sales Growth   ROE   NPM  Category\n",
       "0    AMAN  0.40  0.01     -3.797435  0.01  0.18         3\n",
       "1    APLN  1.79 -0.02     18.184296 -0.06 -0.21         2\n",
       "2    ASRI  1.35 -0.01    669.231018 -0.02 -0.09         2\n",
       "3    ATAP  0.24  0.05     35.698101  0.07  0.11         3\n",
       "4    BAPA  0.07 -0.03     -3.317679 -0.03 -1.14         4"
      ]
     },
     "execution_count": 3,
     "metadata": {},
     "output_type": "execute_result"
    }
   ],
   "source": [
    "df = pd.read_csv('../input/dataset-property-category-uas/financial Property and category .csv')\n",
    "df.head()"
   ]
  },
  {
   "cell_type": "code",
   "execution_count": 4,
   "id": "db65cfa1",
   "metadata": {
    "execution": {
     "iopub.execute_input": "2022-07-06T04:50:58.646512Z",
     "iopub.status.busy": "2022-07-06T04:50:58.645917Z",
     "iopub.status.idle": "2022-07-06T04:50:58.653325Z",
     "shell.execute_reply": "2022-07-06T04:50:58.652424Z"
    },
    "papermill": {
     "duration": 0.017277,
     "end_time": "2022-07-06T04:50:58.655698",
     "exception": false,
     "start_time": "2022-07-06T04:50:58.638421",
     "status": "completed"
    },
    "tags": []
   },
   "outputs": [
    {
     "data": {
      "text/plain": [
       "array([['AMAN', 0.4, 0.01, -3.797435, 0.01, 0.18, 3],\n",
       "       ['APLN', 1.79, -0.02, 18.184296, -0.06, -0.21, 2],\n",
       "       ['ASRI', 1.35, -0.01, 669.231018, -0.02, -0.09, 2],\n",
       "       ['ATAP', 0.24, 0.05, 35.698101, 0.07, 0.11, 3],\n",
       "       ['BAPA', 0.07, -0.03, -3.317679, -0.03, -1.14, 4],\n",
       "       ['BAPI', 0.47, -0.01, -0.096221, -0.01, -1.43, 4],\n",
       "       ['BCIP', 1.14, -0.01, -46.929469, -0.01, -0.16, 2],\n",
       "       ['BEST', 0.42, -0.02, -84.809916, -0.03, -1.03, 4],\n",
       "       ['BKDP', 0.73, -0.05, -9.498563, 0.04, 0.16, 2],\n",
       "       ['BKSL', 0.61, 0.02, 2374.3049, 0.04, 0.42, 3],\n",
       "       ['BSDE', 0.69, 0.02, -7.213595, 0.07, 2.0, 3],\n",
       "       ['CPRI', 0.13, -0.01, 0.820829, -0.01, -0.37, 4],\n",
       "       ['CTRA', 1.16, 0.05, 2408.626, 0.11, 0.32, 3],\n",
       "       ['DADA', 1.0, 0.03, -182.3169, 0.05, 0.73, 3],\n",
       "       ['DART', 1.57, -0.06, -26.572531, -0.15, -1.86, 5],\n",
       "       ['DMAS', 0.12, 0.13, 652.221301, 0.15, 0.65, 1],\n",
       "       ['DUTI', 0.4, 0.04, -546.164778, 0.05, 0.81, 3]], dtype=object)"
      ]
     },
     "execution_count": 4,
     "metadata": {},
     "output_type": "execute_result"
    }
   ],
   "source": [
    "np.asarray(df)"
   ]
  },
  {
   "cell_type": "code",
   "execution_count": 5,
   "id": "ec64a4c3",
   "metadata": {
    "execution": {
     "iopub.execute_input": "2022-07-06T04:50:58.669716Z",
     "iopub.status.busy": "2022-07-06T04:50:58.668917Z",
     "iopub.status.idle": "2022-07-06T04:50:59.442732Z",
     "shell.execute_reply": "2022-07-06T04:50:59.441676Z"
    },
    "papermill": {
     "duration": 0.783924,
     "end_time": "2022-07-06T04:50:59.445523",
     "exception": false,
     "start_time": "2022-07-06T04:50:58.661599",
     "status": "completed"
    },
    "tags": []
   },
   "outputs": [],
   "source": [
    "import statsmodels.api as sm"
   ]
  },
  {
   "cell_type": "code",
   "execution_count": 6,
   "id": "5672a96d",
   "metadata": {
    "execution": {
     "iopub.execute_input": "2022-07-06T04:50:59.459629Z",
     "iopub.status.busy": "2022-07-06T04:50:59.459252Z",
     "iopub.status.idle": "2022-07-06T04:50:59.471016Z",
     "shell.execute_reply": "2022-07-06T04:50:59.469737Z"
    },
    "papermill": {
     "duration": 0.021704,
     "end_time": "2022-07-06T04:50:59.473248",
     "exception": false,
     "start_time": "2022-07-06T04:50:59.451544",
     "status": "completed"
    },
    "tags": []
   },
   "outputs": [],
   "source": [
    "df.drop(['Emitten'], axis=1, inplace=True)"
   ]
  },
  {
   "cell_type": "code",
   "execution_count": 7,
   "id": "21e8298c",
   "metadata": {
    "execution": {
     "iopub.execute_input": "2022-07-06T04:50:59.486602Z",
     "iopub.status.busy": "2022-07-06T04:50:59.486231Z",
     "iopub.status.idle": "2022-07-06T04:50:59.495715Z",
     "shell.execute_reply": "2022-07-06T04:50:59.494907Z"
    },
    "papermill": {
     "duration": 0.018583,
     "end_time": "2022-07-06T04:50:59.497706",
     "exception": false,
     "start_time": "2022-07-06T04:50:59.479123",
     "status": "completed"
    },
    "tags": []
   },
   "outputs": [
    {
     "data": {
      "text/plain": [
       "0    3\n",
       "1    2\n",
       "2    2\n",
       "3    3\n",
       "4    4\n",
       "Name: Category, dtype: int64"
      ]
     },
     "execution_count": 7,
     "metadata": {},
     "output_type": "execute_result"
    }
   ],
   "source": [
    "y = df['Category']\n",
    "y.head()"
   ]
  },
  {
   "cell_type": "code",
   "execution_count": 8,
   "id": "d3e67cd3",
   "metadata": {
    "execution": {
     "iopub.execute_input": "2022-07-06T04:50:59.511244Z",
     "iopub.status.busy": "2022-07-06T04:50:59.510579Z",
     "iopub.status.idle": "2022-07-06T04:50:59.524512Z",
     "shell.execute_reply": "2022-07-06T04:50:59.523699Z"
    },
    "papermill": {
     "duration": 0.023091,
     "end_time": "2022-07-06T04:50:59.526571",
     "exception": false,
     "start_time": "2022-07-06T04:50:59.503480",
     "status": "completed"
    },
    "tags": []
   },
   "outputs": [
    {
     "data": {
      "text/html": [
       "<div>\n",
       "<style scoped>\n",
       "    .dataframe tbody tr th:only-of-type {\n",
       "        vertical-align: middle;\n",
       "    }\n",
       "\n",
       "    .dataframe tbody tr th {\n",
       "        vertical-align: top;\n",
       "    }\n",
       "\n",
       "    .dataframe thead th {\n",
       "        text-align: right;\n",
       "    }\n",
       "</style>\n",
       "<table border=\"1\" class=\"dataframe\">\n",
       "  <thead>\n",
       "    <tr style=\"text-align: right;\">\n",
       "      <th></th>\n",
       "      <th>DER</th>\n",
       "      <th>ROA</th>\n",
       "      <th>Sales Growth</th>\n",
       "      <th>ROE</th>\n",
       "      <th>NPM</th>\n",
       "    </tr>\n",
       "  </thead>\n",
       "  <tbody>\n",
       "    <tr>\n",
       "      <th>0</th>\n",
       "      <td>0.40</td>\n",
       "      <td>0.01</td>\n",
       "      <td>-3.797435</td>\n",
       "      <td>0.01</td>\n",
       "      <td>0.18</td>\n",
       "    </tr>\n",
       "    <tr>\n",
       "      <th>1</th>\n",
       "      <td>1.79</td>\n",
       "      <td>-0.02</td>\n",
       "      <td>18.184296</td>\n",
       "      <td>-0.06</td>\n",
       "      <td>-0.21</td>\n",
       "    </tr>\n",
       "    <tr>\n",
       "      <th>2</th>\n",
       "      <td>1.35</td>\n",
       "      <td>-0.01</td>\n",
       "      <td>669.231018</td>\n",
       "      <td>-0.02</td>\n",
       "      <td>-0.09</td>\n",
       "    </tr>\n",
       "    <tr>\n",
       "      <th>3</th>\n",
       "      <td>0.24</td>\n",
       "      <td>0.05</td>\n",
       "      <td>35.698101</td>\n",
       "      <td>0.07</td>\n",
       "      <td>0.11</td>\n",
       "    </tr>\n",
       "    <tr>\n",
       "      <th>4</th>\n",
       "      <td>0.07</td>\n",
       "      <td>-0.03</td>\n",
       "      <td>-3.317679</td>\n",
       "      <td>-0.03</td>\n",
       "      <td>-1.14</td>\n",
       "    </tr>\n",
       "  </tbody>\n",
       "</table>\n",
       "</div>"
      ],
      "text/plain": [
       "    DER   ROA  Sales Growth   ROE   NPM\n",
       "0  0.40  0.01     -3.797435  0.01  0.18\n",
       "1  1.79 -0.02     18.184296 -0.06 -0.21\n",
       "2  1.35 -0.01    669.231018 -0.02 -0.09\n",
       "3  0.24  0.05     35.698101  0.07  0.11\n",
       "4  0.07 -0.03     -3.317679 -0.03 -1.14"
      ]
     },
     "execution_count": 8,
     "metadata": {},
     "output_type": "execute_result"
    }
   ],
   "source": [
    "x = df.drop('Category', axis=1)\n",
    "x.head()"
   ]
  },
  {
   "cell_type": "code",
   "execution_count": 9,
   "id": "cf3da08a",
   "metadata": {
    "execution": {
     "iopub.execute_input": "2022-07-06T04:50:59.540683Z",
     "iopub.status.busy": "2022-07-06T04:50:59.540001Z",
     "iopub.status.idle": "2022-07-06T04:50:59.545592Z",
     "shell.execute_reply": "2022-07-06T04:50:59.544856Z"
    },
    "papermill": {
     "duration": 0.015145,
     "end_time": "2022-07-06T04:50:59.547774",
     "exception": false,
     "start_time": "2022-07-06T04:50:59.532629",
     "status": "completed"
    },
    "tags": []
   },
   "outputs": [],
   "source": [
    "x_train, x_test, y_train, y_test = train_test_split(x,y, test_size=0.3)"
   ]
  },
  {
   "cell_type": "code",
   "execution_count": 10,
   "id": "6af427c9",
   "metadata": {
    "execution": {
     "iopub.execute_input": "2022-07-06T04:50:59.562184Z",
     "iopub.status.busy": "2022-07-06T04:50:59.561469Z",
     "iopub.status.idle": "2022-07-06T04:50:59.581871Z",
     "shell.execute_reply": "2022-07-06T04:50:59.581052Z"
    },
    "papermill": {
     "duration": 0.032693,
     "end_time": "2022-07-06T04:50:59.586596",
     "exception": false,
     "start_time": "2022-07-06T04:50:59.553903",
     "status": "completed"
    },
    "tags": []
   },
   "outputs": [
    {
     "data": {
      "text/html": [
       "<div>\n",
       "<style scoped>\n",
       "    .dataframe tbody tr th:only-of-type {\n",
       "        vertical-align: middle;\n",
       "    }\n",
       "\n",
       "    .dataframe tbody tr th {\n",
       "        vertical-align: top;\n",
       "    }\n",
       "\n",
       "    .dataframe thead th {\n",
       "        text-align: right;\n",
       "    }\n",
       "</style>\n",
       "<table border=\"1\" class=\"dataframe\">\n",
       "  <thead>\n",
       "    <tr style=\"text-align: right;\">\n",
       "      <th></th>\n",
       "      <th>const</th>\n",
       "      <th>DER</th>\n",
       "      <th>ROA</th>\n",
       "      <th>Sales Growth</th>\n",
       "      <th>ROE</th>\n",
       "      <th>NPM</th>\n",
       "    </tr>\n",
       "  </thead>\n",
       "  <tbody>\n",
       "    <tr>\n",
       "      <th>0</th>\n",
       "      <td>1.0</td>\n",
       "      <td>0.40</td>\n",
       "      <td>0.01</td>\n",
       "      <td>-3.797435</td>\n",
       "      <td>0.01</td>\n",
       "      <td>0.18</td>\n",
       "    </tr>\n",
       "    <tr>\n",
       "      <th>2</th>\n",
       "      <td>1.0</td>\n",
       "      <td>1.35</td>\n",
       "      <td>-0.01</td>\n",
       "      <td>669.231018</td>\n",
       "      <td>-0.02</td>\n",
       "      <td>-0.09</td>\n",
       "    </tr>\n",
       "    <tr>\n",
       "      <th>16</th>\n",
       "      <td>1.0</td>\n",
       "      <td>0.40</td>\n",
       "      <td>0.04</td>\n",
       "      <td>-546.164778</td>\n",
       "      <td>0.05</td>\n",
       "      <td>0.81</td>\n",
       "    </tr>\n",
       "    <tr>\n",
       "      <th>6</th>\n",
       "      <td>1.0</td>\n",
       "      <td>1.14</td>\n",
       "      <td>-0.01</td>\n",
       "      <td>-46.929469</td>\n",
       "      <td>-0.01</td>\n",
       "      <td>-0.16</td>\n",
       "    </tr>\n",
       "    <tr>\n",
       "      <th>12</th>\n",
       "      <td>1.0</td>\n",
       "      <td>1.16</td>\n",
       "      <td>0.05</td>\n",
       "      <td>2408.626000</td>\n",
       "      <td>0.11</td>\n",
       "      <td>0.32</td>\n",
       "    </tr>\n",
       "    <tr>\n",
       "      <th>11</th>\n",
       "      <td>1.0</td>\n",
       "      <td>0.13</td>\n",
       "      <td>-0.01</td>\n",
       "      <td>0.820829</td>\n",
       "      <td>-0.01</td>\n",
       "      <td>-0.37</td>\n",
       "    </tr>\n",
       "    <tr>\n",
       "      <th>4</th>\n",
       "      <td>1.0</td>\n",
       "      <td>0.07</td>\n",
       "      <td>-0.03</td>\n",
       "      <td>-3.317679</td>\n",
       "      <td>-0.03</td>\n",
       "      <td>-1.14</td>\n",
       "    </tr>\n",
       "    <tr>\n",
       "      <th>5</th>\n",
       "      <td>1.0</td>\n",
       "      <td>0.47</td>\n",
       "      <td>-0.01</td>\n",
       "      <td>-0.096221</td>\n",
       "      <td>-0.01</td>\n",
       "      <td>-1.43</td>\n",
       "    </tr>\n",
       "    <tr>\n",
       "      <th>1</th>\n",
       "      <td>1.0</td>\n",
       "      <td>1.79</td>\n",
       "      <td>-0.02</td>\n",
       "      <td>18.184296</td>\n",
       "      <td>-0.06</td>\n",
       "      <td>-0.21</td>\n",
       "    </tr>\n",
       "    <tr>\n",
       "      <th>7</th>\n",
       "      <td>1.0</td>\n",
       "      <td>0.42</td>\n",
       "      <td>-0.02</td>\n",
       "      <td>-84.809916</td>\n",
       "      <td>-0.03</td>\n",
       "      <td>-1.03</td>\n",
       "    </tr>\n",
       "    <tr>\n",
       "      <th>3</th>\n",
       "      <td>1.0</td>\n",
       "      <td>0.24</td>\n",
       "      <td>0.05</td>\n",
       "      <td>35.698101</td>\n",
       "      <td>0.07</td>\n",
       "      <td>0.11</td>\n",
       "    </tr>\n",
       "  </tbody>\n",
       "</table>\n",
       "</div>"
      ],
      "text/plain": [
       "    const   DER   ROA  Sales Growth   ROE   NPM\n",
       "0     1.0  0.40  0.01     -3.797435  0.01  0.18\n",
       "2     1.0  1.35 -0.01    669.231018 -0.02 -0.09\n",
       "16    1.0  0.40  0.04   -546.164778  0.05  0.81\n",
       "6     1.0  1.14 -0.01    -46.929469 -0.01 -0.16\n",
       "12    1.0  1.16  0.05   2408.626000  0.11  0.32\n",
       "11    1.0  0.13 -0.01      0.820829 -0.01 -0.37\n",
       "4     1.0  0.07 -0.03     -3.317679 -0.03 -1.14\n",
       "5     1.0  0.47 -0.01     -0.096221 -0.01 -1.43\n",
       "1     1.0  1.79 -0.02     18.184296 -0.06 -0.21\n",
       "7     1.0  0.42 -0.02    -84.809916 -0.03 -1.03\n",
       "3     1.0  0.24  0.05     35.698101  0.07  0.11"
      ]
     },
     "execution_count": 10,
     "metadata": {},
     "output_type": "execute_result"
    }
   ],
   "source": [
    "x_train_sm = sm.add_constant(x_train)\n",
    "x_train_sm"
   ]
  },
  {
   "cell_type": "code",
   "execution_count": 11,
   "id": "b2a4a241",
   "metadata": {
    "execution": {
     "iopub.execute_input": "2022-07-06T04:50:59.602930Z",
     "iopub.status.busy": "2022-07-06T04:50:59.602296Z",
     "iopub.status.idle": "2022-07-06T04:50:59.643185Z",
     "shell.execute_reply": "2022-07-06T04:50:59.640801Z"
    },
    "papermill": {
     "duration": 0.054038,
     "end_time": "2022-07-06T04:50:59.648389",
     "exception": false,
     "start_time": "2022-07-06T04:50:59.594351",
     "status": "completed"
    },
    "tags": []
   },
   "outputs": [
    {
     "name": "stdout",
     "output_type": "stream",
     "text": [
      "Optimization terminated successfully.\n",
      "         Current function value: nan\n",
      "         Iterations 16\n"
     ]
    },
    {
     "name": "stderr",
     "output_type": "stream",
     "text": [
      "/opt/conda/lib/python3.7/site-packages/statsmodels/discrete/discrete_model.py:2299: RuntimeWarning: overflow encountered in exp\n",
      "  eXB = np.column_stack((np.ones(len(X)), np.exp(X)))\n",
      "/opt/conda/lib/python3.7/site-packages/statsmodels/discrete/discrete_model.py:2300: RuntimeWarning: invalid value encountered in true_divide\n",
      "  return eXB/eXB.sum(1)[:,None]\n"
     ]
    }
   ],
   "source": [
    "#logit_mod = sm.Logit(y_train, x_train_sm\n",
    "                     \n",
    "mnlogit_mod = sm.MNLogit(y_train, x_train_sm)\n",
    "mnlogit_fit = mnlogit_mod.fit()"
   ]
  },
  {
   "cell_type": "code",
   "execution_count": 12,
   "id": "28673faa",
   "metadata": {
    "execution": {
     "iopub.execute_input": "2022-07-06T04:50:59.675415Z",
     "iopub.status.busy": "2022-07-06T04:50:59.674776Z",
     "iopub.status.idle": "2022-07-06T04:50:59.744442Z",
     "shell.execute_reply": "2022-07-06T04:50:59.743021Z"
    },
    "papermill": {
     "duration": 0.087652,
     "end_time": "2022-07-06T04:50:59.748831",
     "exception": false,
     "start_time": "2022-07-06T04:50:59.661179",
     "status": "completed"
    },
    "tags": []
   },
   "outputs": [
    {
     "name": "stdout",
     "output_type": "stream",
     "text": [
      "                          MNLogit Regression Results                          \n",
      "==============================================================================\n",
      "Dep. Variable:               Category   No. Observations:                   11\n",
      "Model:                        MNLogit   Df Residuals:                       -1\n",
      "Method:                           MLE   Df Model:                           10\n",
      "Date:                Wed, 06 Jul 2022   Pseudo R-squ.:                     nan\n",
      "Time:                        04:50:59   Log-Likelihood:                    nan\n",
      "converged:                       True   LL-Null:                       -11.991\n",
      "Covariance Type:            nonrobust   LLR p-value:                       nan\n",
      "================================================================================\n",
      "  Category=3       coef    std err          z      P>|z|      [0.025      0.975]\n",
      "--------------------------------------------------------------------------------\n",
      "const               nan        nan        nan        nan         nan         nan\n",
      "DER                 nan        nan        nan        nan         nan         nan\n",
      "ROA                 nan        nan        nan        nan         nan         nan\n",
      "Sales Growth        nan        nan        nan        nan         nan         nan\n",
      "ROE                 nan        nan        nan        nan         nan         nan\n",
      "NPM                 nan        nan        nan        nan         nan         nan\n",
      "--------------------------------------------------------------------------------\n",
      "  Category=4       coef    std err          z      P>|z|      [0.025      0.975]\n",
      "--------------------------------------------------------------------------------\n",
      "const               nan        nan        nan        nan         nan         nan\n",
      "DER                 nan        nan        nan        nan         nan         nan\n",
      "ROA                 nan        nan        nan        nan         nan         nan\n",
      "Sales Growth        nan        nan        nan        nan         nan         nan\n",
      "ROE                 nan        nan        nan        nan         nan         nan\n",
      "NPM                 nan        nan        nan        nan         nan         nan\n",
      "================================================================================\n"
     ]
    }
   ],
   "source": [
    "print (mnlogit_fit.summary())"
   ]
  },
  {
   "cell_type": "code",
   "execution_count": 13,
   "id": "ecdf6eeb",
   "metadata": {
    "execution": {
     "iopub.execute_input": "2022-07-06T04:50:59.768437Z",
     "iopub.status.busy": "2022-07-06T04:50:59.768031Z",
     "iopub.status.idle": "2022-07-06T04:50:59.803726Z",
     "shell.execute_reply": "2022-07-06T04:50:59.802630Z"
    },
    "papermill": {
     "duration": 0.04651,
     "end_time": "2022-07-06T04:50:59.806436",
     "exception": false,
     "start_time": "2022-07-06T04:50:59.759926",
     "status": "completed"
    },
    "tags": []
   },
   "outputs": [
    {
     "data": {
      "text/plain": [
       "LogisticRegression()"
      ]
     },
     "execution_count": 13,
     "metadata": {},
     "output_type": "execute_result"
    }
   ],
   "source": [
    "model = LogisticRegression(multi_class='auto')\n",
    "model.fit(x_train, y_train)"
   ]
  },
  {
   "cell_type": "code",
   "execution_count": 14,
   "id": "9cd9f463",
   "metadata": {
    "execution": {
     "iopub.execute_input": "2022-07-06T04:50:59.822709Z",
     "iopub.status.busy": "2022-07-06T04:50:59.821632Z",
     "iopub.status.idle": "2022-07-06T04:50:59.830724Z",
     "shell.execute_reply": "2022-07-06T04:50:59.829963Z"
    },
    "papermill": {
     "duration": 0.01989,
     "end_time": "2022-07-06T04:50:59.833083",
     "exception": false,
     "start_time": "2022-07-06T04:50:59.813193",
     "status": "completed"
    },
    "tags": []
   },
   "outputs": [
    {
     "data": {
      "text/plain": [
       "array([[0.09110127, 0.9009689 , 0.00792983],\n",
       "       [0.36581189, 0.01805244, 0.61613566],\n",
       "       [0.0771704 , 0.87685072, 0.04597888],\n",
       "       [0.06917584, 0.9260609 , 0.00476327],\n",
       "       [0.31301103, 0.4743296 , 0.21265937]])"
      ]
     },
     "execution_count": 14,
     "metadata": {},
     "output_type": "execute_result"
    }
   ],
   "source": [
    "model.predict_proba(x_test)[0:5]"
   ]
  },
  {
   "cell_type": "code",
   "execution_count": 15,
   "id": "a1f236d4",
   "metadata": {
    "execution": {
     "iopub.execute_input": "2022-07-06T04:50:59.848247Z",
     "iopub.status.busy": "2022-07-06T04:50:59.847866Z",
     "iopub.status.idle": "2022-07-06T04:50:59.855685Z",
     "shell.execute_reply": "2022-07-06T04:50:59.854882Z"
    },
    "papermill": {
     "duration": 0.017787,
     "end_time": "2022-07-06T04:50:59.857730",
     "exception": false,
     "start_time": "2022-07-06T04:50:59.839943",
     "status": "completed"
    },
    "tags": []
   },
   "outputs": [
    {
     "data": {
      "text/plain": [
       "array([3, 4, 3, 3, 3, 3])"
      ]
     },
     "execution_count": 15,
     "metadata": {},
     "output_type": "execute_result"
    }
   ],
   "source": [
    "predictions = model.predict(x_test)\n",
    "predictions"
   ]
  },
  {
   "cell_type": "code",
   "execution_count": 16,
   "id": "e81d9462",
   "metadata": {
    "execution": {
     "iopub.execute_input": "2022-07-06T04:50:59.873796Z",
     "iopub.status.busy": "2022-07-06T04:50:59.873098Z",
     "iopub.status.idle": "2022-07-06T04:50:59.893865Z",
     "shell.execute_reply": "2022-07-06T04:50:59.892965Z"
    },
    "papermill": {
     "duration": 0.03242,
     "end_time": "2022-07-06T04:50:59.897257",
     "exception": false,
     "start_time": "2022-07-06T04:50:59.864837",
     "status": "completed"
    },
    "tags": []
   },
   "outputs": [
    {
     "name": "stdout",
     "output_type": "stream",
     "text": [
      "              precision    recall  f1-score   support\n",
      "\n",
      "           1       0.00      0.00      0.00         1\n",
      "           2       0.00      0.00      0.00         1\n",
      "           3       0.60      1.00      0.75         3\n",
      "           4       0.00      0.00      0.00         0\n",
      "           5       0.00      0.00      0.00         1\n",
      "\n",
      "    accuracy                           0.50         6\n",
      "   macro avg       0.12      0.20      0.15         6\n",
      "weighted avg       0.30      0.50      0.37         6\n",
      "\n"
     ]
    },
    {
     "name": "stderr",
     "output_type": "stream",
     "text": [
      "/opt/conda/lib/python3.7/site-packages/sklearn/metrics/_classification.py:1318: UndefinedMetricWarning: Precision and F-score are ill-defined and being set to 0.0 in labels with no predicted samples. Use `zero_division` parameter to control this behavior.\n",
      "  _warn_prf(average, modifier, msg_start, len(result))\n",
      "/opt/conda/lib/python3.7/site-packages/sklearn/metrics/_classification.py:1318: UndefinedMetricWarning: Recall and F-score are ill-defined and being set to 0.0 in labels with no true samples. Use `zero_division` parameter to control this behavior.\n",
      "  _warn_prf(average, modifier, msg_start, len(result))\n",
      "/opt/conda/lib/python3.7/site-packages/sklearn/metrics/_classification.py:1318: UndefinedMetricWarning: Precision and F-score are ill-defined and being set to 0.0 in labels with no predicted samples. Use `zero_division` parameter to control this behavior.\n",
      "  _warn_prf(average, modifier, msg_start, len(result))\n",
      "/opt/conda/lib/python3.7/site-packages/sklearn/metrics/_classification.py:1318: UndefinedMetricWarning: Recall and F-score are ill-defined and being set to 0.0 in labels with no true samples. Use `zero_division` parameter to control this behavior.\n",
      "  _warn_prf(average, modifier, msg_start, len(result))\n",
      "/opt/conda/lib/python3.7/site-packages/sklearn/metrics/_classification.py:1318: UndefinedMetricWarning: Precision and F-score are ill-defined and being set to 0.0 in labels with no predicted samples. Use `zero_division` parameter to control this behavior.\n",
      "  _warn_prf(average, modifier, msg_start, len(result))\n",
      "/opt/conda/lib/python3.7/site-packages/sklearn/metrics/_classification.py:1318: UndefinedMetricWarning: Recall and F-score are ill-defined and being set to 0.0 in labels with no true samples. Use `zero_division` parameter to control this behavior.\n",
      "  _warn_prf(average, modifier, msg_start, len(result))\n"
     ]
    }
   ],
   "source": [
    "print(classification_report(y_test, predictions))"
   ]
  },
  {
   "cell_type": "code",
   "execution_count": 17,
   "id": "12432775",
   "metadata": {
    "execution": {
     "iopub.execute_input": "2022-07-06T04:50:59.913650Z",
     "iopub.status.busy": "2022-07-06T04:50:59.912965Z",
     "iopub.status.idle": "2022-07-06T04:50:59.918625Z",
     "shell.execute_reply": "2022-07-06T04:50:59.917454Z"
    },
    "papermill": {
     "duration": 0.01633,
     "end_time": "2022-07-06T04:50:59.920834",
     "exception": false,
     "start_time": "2022-07-06T04:50:59.904504",
     "status": "completed"
    },
    "tags": []
   },
   "outputs": [
    {
     "name": "stdout",
     "output_type": "stream",
     "text": [
      "0.5\n"
     ]
    }
   ],
   "source": [
    "print(accuracy_score(y_test, predictions))"
   ]
  }
 ],
 "metadata": {
  "kernelspec": {
   "display_name": "Python 3",
   "language": "python",
   "name": "python3"
  },
  "language_info": {
   "codemirror_mode": {
    "name": "ipython",
    "version": 3
   },
   "file_extension": ".py",
   "mimetype": "text/x-python",
   "name": "python",
   "nbconvert_exporter": "python",
   "pygments_lexer": "ipython3",
   "version": "3.7.12"
  },
  "papermill": {
   "default_parameters": {},
   "duration": 14.35157,
   "end_time": "2022-07-06T04:51:00.751531",
   "environment_variables": {},
   "exception": null,
   "input_path": "__notebook__.ipynb",
   "output_path": "__notebook__.ipynb",
   "parameters": {},
   "start_time": "2022-07-06T04:50:46.399961",
   "version": "2.3.4"
  }
 },
 "nbformat": 4,
 "nbformat_minor": 5
}
