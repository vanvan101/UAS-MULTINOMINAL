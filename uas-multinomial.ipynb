{
 "cells": [
  {
   "cell_type": "code",
   "execution_count": 1,
   "id": "e14cbdd3",
   "metadata": {
    "_cell_guid": "b1076dfc-b9ad-4769-8c92-a6c4dae69d19",
    "_uuid": "8f2839f25d086af736a60e9eeb907d3b93b6e0e5",
    "execution": {
     "iopub.execute_input": "2022-07-06T04:46:52.126020Z",
     "iopub.status.busy": "2022-07-06T04:46:52.125437Z",
     "iopub.status.idle": "2022-07-06T04:46:52.145898Z",
     "shell.execute_reply": "2022-07-06T04:46:52.144620Z"
    },
    "papermill": {
     "duration": 0.029433,
     "end_time": "2022-07-06T04:46:52.148266",
     "exception": false,
     "start_time": "2022-07-06T04:46:52.118833",
     "status": "completed"
    },
    "tags": []
   },
   "outputs": [
    {
     "name": "stdout",
     "output_type": "stream",
     "text": [
      "/kaggle/input/dataset-property-category-uas/financial Property and category .csv\n"
     ]
    }
   ],
   "source": [
    "# This Python 3 environment comes with many helpful analytics libraries installed\n",
    "# It is defined by the kaggle/python Docker image: https://github.com/kaggle/docker-python\n",
    "# For example, here's several helpful packages to load\n",
    "\n",
    "import numpy as np # linear algebra\n",
    "import pandas as pd # data processing, CSV file I/O (e.g. pd.read_csv)\n",
    "\n",
    "# Input data files are available in the read-only \"../input/\" directory\n",
    "# For example, running this (by clicking run or pressing Shift+Enter) will list all files under the input directory\n",
    "\n",
    "import os\n",
    "for dirname, _, filenames in os.walk('/kaggle/input'):\n",
    "    for filename in filenames:\n",
    "        print(os.path.join(dirname, filename))\n",
    "\n",
    "# You can write up to 20GB to the current directory (/kaggle/working/) that gets preserved as output when you create a version using \"Save & Run All\" \n",
    "# You can also write temporary files to /kaggle/temp/, but they won't be saved outside of the current session"
   ]
  },
  {
   "cell_type": "code",
   "execution_count": 2,
   "id": "9b67818d",
   "metadata": {
    "execution": {
     "iopub.execute_input": "2022-07-06T04:46:52.158206Z",
     "iopub.status.busy": "2022-07-06T04:46:52.157567Z",
     "iopub.status.idle": "2022-07-06T04:46:53.551353Z",
     "shell.execute_reply": "2022-07-06T04:46:53.550457Z"
    },
    "papermill": {
     "duration": 1.401537,
     "end_time": "2022-07-06T04:46:53.553898",
     "exception": false,
     "start_time": "2022-07-06T04:46:52.152361",
     "status": "completed"
    },
    "tags": []
   },
   "outputs": [],
   "source": [
    "import pandas as pd\n",
    "import seaborn as sns\n",
    "from sklearn.metrics import classification_report\n",
    "from sklearn.metrics import accuracy_score\n",
    "from sklearn.model_selection import train_test_split\n",
    "from sklearn.linear_model import LogisticRegression"
   ]
  },
  {
   "cell_type": "code",
   "execution_count": 3,
   "id": "154a9eb5",
   "metadata": {
    "execution": {
     "iopub.execute_input": "2022-07-06T04:46:53.564605Z",
     "iopub.status.busy": "2022-07-06T04:46:53.563575Z",
     "iopub.status.idle": "2022-07-06T04:46:53.594133Z",
     "shell.execute_reply": "2022-07-06T04:46:53.593053Z"
    },
    "papermill": {
     "duration": 0.038281,
     "end_time": "2022-07-06T04:46:53.596332",
     "exception": false,
     "start_time": "2022-07-06T04:46:53.558051",
     "status": "completed"
    },
    "tags": []
   },
   "outputs": [
    {
     "data": {
      "text/html": [
       "<div>\n",
       "<style scoped>\n",
       "    .dataframe tbody tr th:only-of-type {\n",
       "        vertical-align: middle;\n",
       "    }\n",
       "\n",
       "    .dataframe tbody tr th {\n",
       "        vertical-align: top;\n",
       "    }\n",
       "\n",
       "    .dataframe thead th {\n",
       "        text-align: right;\n",
       "    }\n",
       "</style>\n",
       "<table border=\"1\" class=\"dataframe\">\n",
       "  <thead>\n",
       "    <tr style=\"text-align: right;\">\n",
       "      <th></th>\n",
       "      <th>Emitten</th>\n",
       "      <th>DER</th>\n",
       "      <th>ROA</th>\n",
       "      <th>Sales Growth</th>\n",
       "      <th>ROE</th>\n",
       "      <th>NPM</th>\n",
       "      <th>Category</th>\n",
       "    </tr>\n",
       "  </thead>\n",
       "  <tbody>\n",
       "    <tr>\n",
       "      <th>0</th>\n",
       "      <td>AMAN</td>\n",
       "      <td>0.40</td>\n",
       "      <td>0.01</td>\n",
       "      <td>-3.797435</td>\n",
       "      <td>0.01</td>\n",
       "      <td>0.18</td>\n",
       "      <td>3</td>\n",
       "    </tr>\n",
       "    <tr>\n",
       "      <th>1</th>\n",
       "      <td>APLN</td>\n",
       "      <td>1.79</td>\n",
       "      <td>-0.02</td>\n",
       "      <td>18.184296</td>\n",
       "      <td>-0.06</td>\n",
       "      <td>-0.21</td>\n",
       "      <td>2</td>\n",
       "    </tr>\n",
       "    <tr>\n",
       "      <th>2</th>\n",
       "      <td>ASRI</td>\n",
       "      <td>1.35</td>\n",
       "      <td>-0.01</td>\n",
       "      <td>669.231018</td>\n",
       "      <td>-0.02</td>\n",
       "      <td>-0.09</td>\n",
       "      <td>2</td>\n",
       "    </tr>\n",
       "    <tr>\n",
       "      <th>3</th>\n",
       "      <td>ATAP</td>\n",
       "      <td>0.24</td>\n",
       "      <td>0.05</td>\n",
       "      <td>35.698101</td>\n",
       "      <td>0.07</td>\n",
       "      <td>0.11</td>\n",
       "      <td>3</td>\n",
       "    </tr>\n",
       "    <tr>\n",
       "      <th>4</th>\n",
       "      <td>BAPA</td>\n",
       "      <td>0.07</td>\n",
       "      <td>-0.03</td>\n",
       "      <td>-3.317679</td>\n",
       "      <td>-0.03</td>\n",
       "      <td>-1.14</td>\n",
       "      <td>4</td>\n",
       "    </tr>\n",
       "  </tbody>\n",
       "</table>\n",
       "</div>"
      ],
      "text/plain": [
       "  Emitten   DER   ROA  Sales Growth   ROE   NPM  Category\n",
       "0    AMAN  0.40  0.01     -3.797435  0.01  0.18         3\n",
       "1    APLN  1.79 -0.02     18.184296 -0.06 -0.21         2\n",
       "2    ASRI  1.35 -0.01    669.231018 -0.02 -0.09         2\n",
       "3    ATAP  0.24  0.05     35.698101  0.07  0.11         3\n",
       "4    BAPA  0.07 -0.03     -3.317679 -0.03 -1.14         4"
      ]
     },
     "execution_count": 3,
     "metadata": {},
     "output_type": "execute_result"
    }
   ],
   "source": [
    "df = pd.read_csv('../input/dataset-property-category-uas/financial Property and category .csv')\n",
    "df.head()"
   ]
  },
  {
   "cell_type": "code",
   "execution_count": 4,
   "id": "75e7a3e3",
   "metadata": {
    "execution": {
     "iopub.execute_input": "2022-07-06T04:46:53.606089Z",
     "iopub.status.busy": "2022-07-06T04:46:53.605731Z",
     "iopub.status.idle": "2022-07-06T04:46:53.613042Z",
     "shell.execute_reply": "2022-07-06T04:46:53.611899Z"
    },
    "papermill": {
     "duration": 0.014418,
     "end_time": "2022-07-06T04:46:53.615017",
     "exception": false,
     "start_time": "2022-07-06T04:46:53.600599",
     "status": "completed"
    },
    "tags": []
   },
   "outputs": [
    {
     "data": {
      "text/plain": [
       "array([['AMAN', 0.4, 0.01, -3.797435, 0.01, 0.18, 3],\n",
       "       ['APLN', 1.79, -0.02, 18.184296, -0.06, -0.21, 2],\n",
       "       ['ASRI', 1.35, -0.01, 669.231018, -0.02, -0.09, 2],\n",
       "       ['ATAP', 0.24, 0.05, 35.698101, 0.07, 0.11, 3],\n",
       "       ['BAPA', 0.07, -0.03, -3.317679, -0.03, -1.14, 4],\n",
       "       ['BAPI', 0.47, -0.01, -0.096221, -0.01, -1.43, 4],\n",
       "       ['BCIP', 1.14, -0.01, -46.929469, -0.01, -0.16, 2],\n",
       "       ['BEST', 0.42, -0.02, -84.809916, -0.03, -1.03, 4],\n",
       "       ['BKDP', 0.73, -0.05, -9.498563, 0.04, 0.16, 2],\n",
       "       ['BKSL', 0.61, 0.02, 2374.3049, 0.04, 0.42, 3],\n",
       "       ['BSDE', 0.69, 0.02, -7.213595, 0.07, 2.0, 3],\n",
       "       ['CPRI', 0.13, -0.01, 0.820829, -0.01, -0.37, 4],\n",
       "       ['CTRA', 1.16, 0.05, 2408.626, 0.11, 0.32, 3],\n",
       "       ['DADA', 1.0, 0.03, -182.3169, 0.05, 0.73, 3],\n",
       "       ['DART', 1.57, -0.06, -26.572531, -0.15, -1.86, 5],\n",
       "       ['DMAS', 0.12, 0.13, 652.221301, 0.15, 0.65, 1],\n",
       "       ['DUTI', 0.4, 0.04, -546.164778, 0.05, 0.81, 3]], dtype=object)"
      ]
     },
     "execution_count": 4,
     "metadata": {},
     "output_type": "execute_result"
    }
   ],
   "source": [
    "np.asarray(df)"
   ]
  },
  {
   "cell_type": "code",
   "execution_count": 5,
   "id": "04f4f302",
   "metadata": {
    "execution": {
     "iopub.execute_input": "2022-07-06T04:46:53.625258Z",
     "iopub.status.busy": "2022-07-06T04:46:53.624861Z",
     "iopub.status.idle": "2022-07-06T04:46:54.347336Z",
     "shell.execute_reply": "2022-07-06T04:46:54.346328Z"
    },
    "papermill": {
     "duration": 0.730449,
     "end_time": "2022-07-06T04:46:54.349766",
     "exception": false,
     "start_time": "2022-07-06T04:46:53.619317",
     "status": "completed"
    },
    "tags": []
   },
   "outputs": [],
   "source": [
    "import statsmodels.api as sm"
   ]
  },
  {
   "cell_type": "code",
   "execution_count": 6,
   "id": "e206ed03",
   "metadata": {
    "execution": {
     "iopub.execute_input": "2022-07-06T04:46:54.359730Z",
     "iopub.status.busy": "2022-07-06T04:46:54.359374Z",
     "iopub.status.idle": "2022-07-06T04:46:54.371038Z",
     "shell.execute_reply": "2022-07-06T04:46:54.369913Z"
    },
    "papermill": {
     "duration": 0.019038,
     "end_time": "2022-07-06T04:46:54.373134",
     "exception": false,
     "start_time": "2022-07-06T04:46:54.354096",
     "status": "completed"
    },
    "tags": []
   },
   "outputs": [],
   "source": [
    "df.drop(['Emitten'], axis=1, inplace=True)"
   ]
  },
  {
   "cell_type": "code",
   "execution_count": 7,
   "id": "a500a5bf",
   "metadata": {
    "execution": {
     "iopub.execute_input": "2022-07-06T04:46:54.383149Z",
     "iopub.status.busy": "2022-07-06T04:46:54.382812Z",
     "iopub.status.idle": "2022-07-06T04:46:54.392095Z",
     "shell.execute_reply": "2022-07-06T04:46:54.391022Z"
    },
    "papermill": {
     "duration": 0.016873,
     "end_time": "2022-07-06T04:46:54.394301",
     "exception": false,
     "start_time": "2022-07-06T04:46:54.377428",
     "status": "completed"
    },
    "tags": []
   },
   "outputs": [
    {
     "data": {
      "text/plain": [
       "0    3\n",
       "1    2\n",
       "2    2\n",
       "3    3\n",
       "4    4\n",
       "Name: Category, dtype: int64"
      ]
     },
     "execution_count": 7,
     "metadata": {},
     "output_type": "execute_result"
    }
   ],
   "source": [
    "y = df['Category']\n",
    "y.head()"
   ]
  },
  {
   "cell_type": "code",
   "execution_count": 8,
   "id": "70e7ea79",
   "metadata": {
    "execution": {
     "iopub.execute_input": "2022-07-06T04:46:54.404982Z",
     "iopub.status.busy": "2022-07-06T04:46:54.404318Z",
     "iopub.status.idle": "2022-07-06T04:46:54.417240Z",
     "shell.execute_reply": "2022-07-06T04:46:54.416238Z"
    },
    "papermill": {
     "duration": 0.02068,
     "end_time": "2022-07-06T04:46:54.419395",
     "exception": false,
     "start_time": "2022-07-06T04:46:54.398715",
     "status": "completed"
    },
    "tags": []
   },
   "outputs": [
    {
     "data": {
      "text/html": [
       "<div>\n",
       "<style scoped>\n",
       "    .dataframe tbody tr th:only-of-type {\n",
       "        vertical-align: middle;\n",
       "    }\n",
       "\n",
       "    .dataframe tbody tr th {\n",
       "        vertical-align: top;\n",
       "    }\n",
       "\n",
       "    .dataframe thead th {\n",
       "        text-align: right;\n",
       "    }\n",
       "</style>\n",
       "<table border=\"1\" class=\"dataframe\">\n",
       "  <thead>\n",
       "    <tr style=\"text-align: right;\">\n",
       "      <th></th>\n",
       "      <th>DER</th>\n",
       "      <th>ROA</th>\n",
       "      <th>Sales Growth</th>\n",
       "      <th>ROE</th>\n",
       "      <th>NPM</th>\n",
       "    </tr>\n",
       "  </thead>\n",
       "  <tbody>\n",
       "    <tr>\n",
       "      <th>0</th>\n",
       "      <td>0.40</td>\n",
       "      <td>0.01</td>\n",
       "      <td>-3.797435</td>\n",
       "      <td>0.01</td>\n",
       "      <td>0.18</td>\n",
       "    </tr>\n",
       "    <tr>\n",
       "      <th>1</th>\n",
       "      <td>1.79</td>\n",
       "      <td>-0.02</td>\n",
       "      <td>18.184296</td>\n",
       "      <td>-0.06</td>\n",
       "      <td>-0.21</td>\n",
       "    </tr>\n",
       "    <tr>\n",
       "      <th>2</th>\n",
       "      <td>1.35</td>\n",
       "      <td>-0.01</td>\n",
       "      <td>669.231018</td>\n",
       "      <td>-0.02</td>\n",
       "      <td>-0.09</td>\n",
       "    </tr>\n",
       "    <tr>\n",
       "      <th>3</th>\n",
       "      <td>0.24</td>\n",
       "      <td>0.05</td>\n",
       "      <td>35.698101</td>\n",
       "      <td>0.07</td>\n",
       "      <td>0.11</td>\n",
       "    </tr>\n",
       "    <tr>\n",
       "      <th>4</th>\n",
       "      <td>0.07</td>\n",
       "      <td>-0.03</td>\n",
       "      <td>-3.317679</td>\n",
       "      <td>-0.03</td>\n",
       "      <td>-1.14</td>\n",
       "    </tr>\n",
       "  </tbody>\n",
       "</table>\n",
       "</div>"
      ],
      "text/plain": [
       "    DER   ROA  Sales Growth   ROE   NPM\n",
       "0  0.40  0.01     -3.797435  0.01  0.18\n",
       "1  1.79 -0.02     18.184296 -0.06 -0.21\n",
       "2  1.35 -0.01    669.231018 -0.02 -0.09\n",
       "3  0.24  0.05     35.698101  0.07  0.11\n",
       "4  0.07 -0.03     -3.317679 -0.03 -1.14"
      ]
     },
     "execution_count": 8,
     "metadata": {},
     "output_type": "execute_result"
    }
   ],
   "source": [
    "x = df.drop('Category', axis=1)\n",
    "x.head()"
   ]
  },
  {
   "cell_type": "code",
   "execution_count": 9,
   "id": "3febc01c",
   "metadata": {
    "execution": {
     "iopub.execute_input": "2022-07-06T04:46:54.430071Z",
     "iopub.status.busy": "2022-07-06T04:46:54.429434Z",
     "iopub.status.idle": "2022-07-06T04:46:54.435722Z",
     "shell.execute_reply": "2022-07-06T04:46:54.434713Z"
    },
    "papermill": {
     "duration": 0.013963,
     "end_time": "2022-07-06T04:46:54.438074",
     "exception": false,
     "start_time": "2022-07-06T04:46:54.424111",
     "status": "completed"
    },
    "tags": []
   },
   "outputs": [],
   "source": [
    "x_train, x_test, y_train, y_test = train_test_split(x,y, test_size=0.3)"
   ]
  },
  {
   "cell_type": "code",
   "execution_count": 10,
   "id": "7fc16c0c",
   "metadata": {
    "execution": {
     "iopub.execute_input": "2022-07-06T04:46:54.448386Z",
     "iopub.status.busy": "2022-07-06T04:46:54.448031Z",
     "iopub.status.idle": "2022-07-06T04:46:54.466207Z",
     "shell.execute_reply": "2022-07-06T04:46:54.465176Z"
    },
    "papermill": {
     "duration": 0.026063,
     "end_time": "2022-07-06T04:46:54.468700",
     "exception": false,
     "start_time": "2022-07-06T04:46:54.442637",
     "status": "completed"
    },
    "tags": []
   },
   "outputs": [
    {
     "data": {
      "text/html": [
       "<div>\n",
       "<style scoped>\n",
       "    .dataframe tbody tr th:only-of-type {\n",
       "        vertical-align: middle;\n",
       "    }\n",
       "\n",
       "    .dataframe tbody tr th {\n",
       "        vertical-align: top;\n",
       "    }\n",
       "\n",
       "    .dataframe thead th {\n",
       "        text-align: right;\n",
       "    }\n",
       "</style>\n",
       "<table border=\"1\" class=\"dataframe\">\n",
       "  <thead>\n",
       "    <tr style=\"text-align: right;\">\n",
       "      <th></th>\n",
       "      <th>const</th>\n",
       "      <th>DER</th>\n",
       "      <th>ROA</th>\n",
       "      <th>Sales Growth</th>\n",
       "      <th>ROE</th>\n",
       "      <th>NPM</th>\n",
       "    </tr>\n",
       "  </thead>\n",
       "  <tbody>\n",
       "    <tr>\n",
       "      <th>7</th>\n",
       "      <td>1.0</td>\n",
       "      <td>0.42</td>\n",
       "      <td>-0.02</td>\n",
       "      <td>-84.809916</td>\n",
       "      <td>-0.03</td>\n",
       "      <td>-1.03</td>\n",
       "    </tr>\n",
       "    <tr>\n",
       "      <th>0</th>\n",
       "      <td>1.0</td>\n",
       "      <td>0.40</td>\n",
       "      <td>0.01</td>\n",
       "      <td>-3.797435</td>\n",
       "      <td>0.01</td>\n",
       "      <td>0.18</td>\n",
       "    </tr>\n",
       "    <tr>\n",
       "      <th>15</th>\n",
       "      <td>1.0</td>\n",
       "      <td>0.12</td>\n",
       "      <td>0.13</td>\n",
       "      <td>652.221301</td>\n",
       "      <td>0.15</td>\n",
       "      <td>0.65</td>\n",
       "    </tr>\n",
       "    <tr>\n",
       "      <th>5</th>\n",
       "      <td>1.0</td>\n",
       "      <td>0.47</td>\n",
       "      <td>-0.01</td>\n",
       "      <td>-0.096221</td>\n",
       "      <td>-0.01</td>\n",
       "      <td>-1.43</td>\n",
       "    </tr>\n",
       "    <tr>\n",
       "      <th>11</th>\n",
       "      <td>1.0</td>\n",
       "      <td>0.13</td>\n",
       "      <td>-0.01</td>\n",
       "      <td>0.820829</td>\n",
       "      <td>-0.01</td>\n",
       "      <td>-0.37</td>\n",
       "    </tr>\n",
       "    <tr>\n",
       "      <th>1</th>\n",
       "      <td>1.0</td>\n",
       "      <td>1.79</td>\n",
       "      <td>-0.02</td>\n",
       "      <td>18.184296</td>\n",
       "      <td>-0.06</td>\n",
       "      <td>-0.21</td>\n",
       "    </tr>\n",
       "    <tr>\n",
       "      <th>10</th>\n",
       "      <td>1.0</td>\n",
       "      <td>0.69</td>\n",
       "      <td>0.02</td>\n",
       "      <td>-7.213595</td>\n",
       "      <td>0.07</td>\n",
       "      <td>2.00</td>\n",
       "    </tr>\n",
       "    <tr>\n",
       "      <th>8</th>\n",
       "      <td>1.0</td>\n",
       "      <td>0.73</td>\n",
       "      <td>-0.05</td>\n",
       "      <td>-9.498563</td>\n",
       "      <td>0.04</td>\n",
       "      <td>0.16</td>\n",
       "    </tr>\n",
       "    <tr>\n",
       "      <th>6</th>\n",
       "      <td>1.0</td>\n",
       "      <td>1.14</td>\n",
       "      <td>-0.01</td>\n",
       "      <td>-46.929469</td>\n",
       "      <td>-0.01</td>\n",
       "      <td>-0.16</td>\n",
       "    </tr>\n",
       "    <tr>\n",
       "      <th>4</th>\n",
       "      <td>1.0</td>\n",
       "      <td>0.07</td>\n",
       "      <td>-0.03</td>\n",
       "      <td>-3.317679</td>\n",
       "      <td>-0.03</td>\n",
       "      <td>-1.14</td>\n",
       "    </tr>\n",
       "    <tr>\n",
       "      <th>12</th>\n",
       "      <td>1.0</td>\n",
       "      <td>1.16</td>\n",
       "      <td>0.05</td>\n",
       "      <td>2408.626000</td>\n",
       "      <td>0.11</td>\n",
       "      <td>0.32</td>\n",
       "    </tr>\n",
       "  </tbody>\n",
       "</table>\n",
       "</div>"
      ],
      "text/plain": [
       "    const   DER   ROA  Sales Growth   ROE   NPM\n",
       "7     1.0  0.42 -0.02    -84.809916 -0.03 -1.03\n",
       "0     1.0  0.40  0.01     -3.797435  0.01  0.18\n",
       "15    1.0  0.12  0.13    652.221301  0.15  0.65\n",
       "5     1.0  0.47 -0.01     -0.096221 -0.01 -1.43\n",
       "11    1.0  0.13 -0.01      0.820829 -0.01 -0.37\n",
       "1     1.0  1.79 -0.02     18.184296 -0.06 -0.21\n",
       "10    1.0  0.69  0.02     -7.213595  0.07  2.00\n",
       "8     1.0  0.73 -0.05     -9.498563  0.04  0.16\n",
       "6     1.0  1.14 -0.01    -46.929469 -0.01 -0.16\n",
       "4     1.0  0.07 -0.03     -3.317679 -0.03 -1.14\n",
       "12    1.0  1.16  0.05   2408.626000  0.11  0.32"
      ]
     },
     "execution_count": 10,
     "metadata": {},
     "output_type": "execute_result"
    }
   ],
   "source": [
    "x_train_sm = sm.add_constant(x_train)\n",
    "x_train_sm"
   ]
  },
  {
   "cell_type": "code",
   "execution_count": 11,
   "id": "b921e841",
   "metadata": {
    "execution": {
     "iopub.execute_input": "2022-07-06T04:46:54.480267Z",
     "iopub.status.busy": "2022-07-06T04:46:54.479243Z",
     "iopub.status.idle": "2022-07-06T04:46:54.525404Z",
     "shell.execute_reply": "2022-07-06T04:46:54.523131Z"
    },
    "papermill": {
     "duration": 0.055614,
     "end_time": "2022-07-06T04:46:54.529200",
     "exception": false,
     "start_time": "2022-07-06T04:46:54.473586",
     "status": "completed"
    },
    "tags": []
   },
   "outputs": [
    {
     "name": "stdout",
     "output_type": "stream",
     "text": [
      "Optimization terminated successfully.\n",
      "         Current function value: nan\n",
      "         Iterations 16\n"
     ]
    },
    {
     "name": "stderr",
     "output_type": "stream",
     "text": [
      "/opt/conda/lib/python3.7/site-packages/statsmodels/discrete/discrete_model.py:2299: RuntimeWarning: overflow encountered in exp\n",
      "  eXB = np.column_stack((np.ones(len(X)), np.exp(X)))\n",
      "/opt/conda/lib/python3.7/site-packages/statsmodels/discrete/discrete_model.py:2300: RuntimeWarning: invalid value encountered in true_divide\n",
      "  return eXB/eXB.sum(1)[:,None]\n"
     ]
    }
   ],
   "source": [
    "#logit_mod = sm.Logit(y_train, x_train_sm\n",
    "                     \n",
    "mnlogit_mod = sm.MNLogit(y_train, x_train_sm)\n",
    "mnlogit_fit = mnlogit_mod.fit()"
   ]
  },
  {
   "cell_type": "code",
   "execution_count": 12,
   "id": "ab056c8a",
   "metadata": {
    "execution": {
     "iopub.execute_input": "2022-07-06T04:46:54.551181Z",
     "iopub.status.busy": "2022-07-06T04:46:54.550597Z",
     "iopub.status.idle": "2022-07-06T04:46:54.639904Z",
     "shell.execute_reply": "2022-07-06T04:46:54.638521Z"
    },
    "papermill": {
     "duration": 0.1028,
     "end_time": "2022-07-06T04:46:54.642296",
     "exception": false,
     "start_time": "2022-07-06T04:46:54.539496",
     "status": "completed"
    },
    "tags": []
   },
   "outputs": [
    {
     "name": "stdout",
     "output_type": "stream",
     "text": [
      "                          MNLogit Regression Results                          \n",
      "==============================================================================\n",
      "Dep. Variable:               Category   No. Observations:                   11\n",
      "Model:                        MNLogit   Df Residuals:                       -7\n",
      "Method:                           MLE   Df Model:                           15\n",
      "Date:                Wed, 06 Jul 2022   Pseudo R-squ.:                     nan\n",
      "Time:                        04:46:54   Log-Likelihood:                    nan\n",
      "converged:                       True   LL-Null:                       -14.240\n",
      "Covariance Type:            nonrobust   LLR p-value:                       nan\n",
      "================================================================================\n",
      "  Category=2       coef    std err          z      P>|z|      [0.025      0.975]\n",
      "--------------------------------------------------------------------------------\n",
      "const               nan        nan        nan        nan         nan         nan\n",
      "DER                 nan        nan        nan        nan         nan         nan\n",
      "ROA                 nan        nan        nan        nan         nan         nan\n",
      "Sales Growth        nan        nan        nan        nan         nan         nan\n",
      "ROE                 nan        nan        nan        nan         nan         nan\n",
      "NPM                 nan        nan        nan        nan         nan         nan\n",
      "--------------------------------------------------------------------------------\n",
      "  Category=3       coef    std err          z      P>|z|      [0.025      0.975]\n",
      "--------------------------------------------------------------------------------\n",
      "const               nan        nan        nan        nan         nan         nan\n",
      "DER                 nan        nan        nan        nan         nan         nan\n",
      "ROA                 nan        nan        nan        nan         nan         nan\n",
      "Sales Growth        nan        nan        nan        nan         nan         nan\n",
      "ROE                 nan        nan        nan        nan         nan         nan\n",
      "NPM                 nan        nan        nan        nan         nan         nan\n",
      "--------------------------------------------------------------------------------\n",
      "  Category=4       coef    std err          z      P>|z|      [0.025      0.975]\n",
      "--------------------------------------------------------------------------------\n",
      "const               nan        nan        nan        nan         nan         nan\n",
      "DER                 nan        nan        nan        nan         nan         nan\n",
      "ROA                 nan        nan        nan        nan         nan         nan\n",
      "Sales Growth        nan        nan        nan        nan         nan         nan\n",
      "ROE                 nan        nan        nan        nan         nan         nan\n",
      "NPM                 nan        nan        nan        nan         nan         nan\n",
      "================================================================================\n"
     ]
    }
   ],
   "source": [
    "print (mnlogit_fit.summary())"
   ]
  },
  {
   "cell_type": "code",
   "execution_count": 13,
   "id": "d07abbdf",
   "metadata": {
    "execution": {
     "iopub.execute_input": "2022-07-06T04:46:54.654147Z",
     "iopub.status.busy": "2022-07-06T04:46:54.653490Z",
     "iopub.status.idle": "2022-07-06T04:46:54.690252Z",
     "shell.execute_reply": "2022-07-06T04:46:54.689353Z"
    },
    "papermill": {
     "duration": 0.046661,
     "end_time": "2022-07-06T04:46:54.693976",
     "exception": false,
     "start_time": "2022-07-06T04:46:54.647315",
     "status": "completed"
    },
    "tags": []
   },
   "outputs": [
    {
     "name": "stderr",
     "output_type": "stream",
     "text": [
      "/opt/conda/lib/python3.7/site-packages/sklearn/linear_model/_logistic.py:818: ConvergenceWarning: lbfgs failed to converge (status=1):\n",
      "STOP: TOTAL NO. of ITERATIONS REACHED LIMIT.\n",
      "\n",
      "Increase the number of iterations (max_iter) or scale the data as shown in:\n",
      "    https://scikit-learn.org/stable/modules/preprocessing.html\n",
      "Please also refer to the documentation for alternative solver options:\n",
      "    https://scikit-learn.org/stable/modules/linear_model.html#logistic-regression\n",
      "  extra_warning_msg=_LOGISTIC_SOLVER_CONVERGENCE_MSG,\n"
     ]
    },
    {
     "data": {
      "text/plain": [
       "LogisticRegression()"
      ]
     },
     "execution_count": 13,
     "metadata": {},
     "output_type": "execute_result"
    }
   ],
   "source": [
    "model = LogisticRegression(multi_class='auto')\n",
    "model.fit(x_train, y_train)"
   ]
  },
  {
   "cell_type": "code",
   "execution_count": 14,
   "id": "cda25b78",
   "metadata": {
    "execution": {
     "iopub.execute_input": "2022-07-06T04:46:54.705744Z",
     "iopub.status.busy": "2022-07-06T04:46:54.705388Z",
     "iopub.status.idle": "2022-07-06T04:46:54.712823Z",
     "shell.execute_reply": "2022-07-06T04:46:54.712066Z"
    },
    "papermill": {
     "duration": 0.01559,
     "end_time": "2022-07-06T04:46:54.714641",
     "exception": false,
     "start_time": "2022-07-06T04:46:54.699051",
     "status": "completed"
    },
    "tags": []
   },
   "outputs": [
    {
     "data": {
      "text/plain": [
       "array([[2.15346314e-01, 4.51028923e-06, 7.84649113e-01, 6.32911991e-08],\n",
       "       [1.45543074e-06, 1.44616282e-01, 3.67662089e-06, 8.55378586e-01],\n",
       "       [2.34272347e-01, 3.63840711e-21, 7.65727653e-01, 4.48407058e-26],\n",
       "       [7.73738768e-03, 4.08505026e-01, 1.62889623e-02, 5.67468624e-01],\n",
       "       [1.91807153e-01, 2.10402074e-01, 3.59763804e-01, 2.38026969e-01]])"
      ]
     },
     "execution_count": 14,
     "metadata": {},
     "output_type": "execute_result"
    }
   ],
   "source": [
    "model.predict_proba(x_test)[0:5]"
   ]
  },
  {
   "cell_type": "code",
   "execution_count": 15,
   "id": "d3d09f86",
   "metadata": {
    "execution": {
     "iopub.execute_input": "2022-07-06T04:46:54.726920Z",
     "iopub.status.busy": "2022-07-06T04:46:54.726317Z",
     "iopub.status.idle": "2022-07-06T04:46:54.732842Z",
     "shell.execute_reply": "2022-07-06T04:46:54.732174Z"
    },
    "papermill": {
     "duration": 0.014935,
     "end_time": "2022-07-06T04:46:54.734974",
     "exception": false,
     "start_time": "2022-07-06T04:46:54.720039",
     "status": "completed"
    },
    "tags": []
   },
   "outputs": [
    {
     "data": {
      "text/plain": [
       "array([3, 4, 3, 4, 3, 2])"
      ]
     },
     "execution_count": 15,
     "metadata": {},
     "output_type": "execute_result"
    }
   ],
   "source": [
    "predictions = model.predict(x_test)\n",
    "predictions"
   ]
  },
  {
   "cell_type": "code",
   "execution_count": 16,
   "id": "cbb3179c",
   "metadata": {
    "execution": {
     "iopub.execute_input": "2022-07-06T04:46:54.747498Z",
     "iopub.status.busy": "2022-07-06T04:46:54.747133Z",
     "iopub.status.idle": "2022-07-06T04:46:54.763975Z",
     "shell.execute_reply": "2022-07-06T04:46:54.762867Z"
    },
    "papermill": {
     "duration": 0.027653,
     "end_time": "2022-07-06T04:46:54.768105",
     "exception": false,
     "start_time": "2022-07-06T04:46:54.740452",
     "status": "completed"
    },
    "tags": []
   },
   "outputs": [
    {
     "name": "stdout",
     "output_type": "stream",
     "text": [
      "              precision    recall  f1-score   support\n",
      "\n",
      "           2       0.00      0.00      0.00         1\n",
      "           3       0.67      0.50      0.57         4\n",
      "           4       0.00      0.00      0.00         0\n",
      "           5       0.00      0.00      0.00         1\n",
      "\n",
      "    accuracy                           0.33         6\n",
      "   macro avg       0.17      0.12      0.14         6\n",
      "weighted avg       0.44      0.33      0.38         6\n",
      "\n"
     ]
    },
    {
     "name": "stderr",
     "output_type": "stream",
     "text": [
      "/opt/conda/lib/python3.7/site-packages/sklearn/metrics/_classification.py:1318: UndefinedMetricWarning: Precision and F-score are ill-defined and being set to 0.0 in labels with no predicted samples. Use `zero_division` parameter to control this behavior.\n",
      "  _warn_prf(average, modifier, msg_start, len(result))\n",
      "/opt/conda/lib/python3.7/site-packages/sklearn/metrics/_classification.py:1318: UndefinedMetricWarning: Recall and F-score are ill-defined and being set to 0.0 in labels with no true samples. Use `zero_division` parameter to control this behavior.\n",
      "  _warn_prf(average, modifier, msg_start, len(result))\n",
      "/opt/conda/lib/python3.7/site-packages/sklearn/metrics/_classification.py:1318: UndefinedMetricWarning: Precision and F-score are ill-defined and being set to 0.0 in labels with no predicted samples. Use `zero_division` parameter to control this behavior.\n",
      "  _warn_prf(average, modifier, msg_start, len(result))\n",
      "/opt/conda/lib/python3.7/site-packages/sklearn/metrics/_classification.py:1318: UndefinedMetricWarning: Recall and F-score are ill-defined and being set to 0.0 in labels with no true samples. Use `zero_division` parameter to control this behavior.\n",
      "  _warn_prf(average, modifier, msg_start, len(result))\n",
      "/opt/conda/lib/python3.7/site-packages/sklearn/metrics/_classification.py:1318: UndefinedMetricWarning: Precision and F-score are ill-defined and being set to 0.0 in labels with no predicted samples. Use `zero_division` parameter to control this behavior.\n",
      "  _warn_prf(average, modifier, msg_start, len(result))\n",
      "/opt/conda/lib/python3.7/site-packages/sklearn/metrics/_classification.py:1318: UndefinedMetricWarning: Recall and F-score are ill-defined and being set to 0.0 in labels with no true samples. Use `zero_division` parameter to control this behavior.\n",
      "  _warn_prf(average, modifier, msg_start, len(result))\n"
     ]
    }
   ],
   "source": [
    "print(classification_report(y_test, predictions))"
   ]
  },
  {
   "cell_type": "code",
   "execution_count": 17,
   "id": "861b2ba5",
   "metadata": {
    "execution": {
     "iopub.execute_input": "2022-07-06T04:46:54.782649Z",
     "iopub.status.busy": "2022-07-06T04:46:54.781888Z",
     "iopub.status.idle": "2022-07-06T04:46:54.788109Z",
     "shell.execute_reply": "2022-07-06T04:46:54.787044Z"
    },
    "papermill": {
     "duration": 0.015203,
     "end_time": "2022-07-06T04:46:54.790050",
     "exception": false,
     "start_time": "2022-07-06T04:46:54.774847",
     "status": "completed"
    },
    "tags": []
   },
   "outputs": [
    {
     "name": "stdout",
     "output_type": "stream",
     "text": [
      "0.3333333333333333\n"
     ]
    }
   ],
   "source": [
    "print(accuracy_score(y_test, predictions))"
   ]
  }
 ],
 "metadata": {
  "kernelspec": {
   "display_name": "Python 3",
   "language": "python",
   "name": "python3"
  },
  "language_info": {
   "codemirror_mode": {
    "name": "ipython",
    "version": 3
   },
   "file_extension": ".py",
   "mimetype": "text/x-python",
   "name": "python",
   "nbconvert_exporter": "python",
   "pygments_lexer": "ipython3",
   "version": "3.7.12"
  },
  "papermill": {
   "default_parameters": {},
   "duration": 12.233221,
   "end_time": "2022-07-06T04:46:55.515438",
   "environment_variables": {},
   "exception": null,
   "input_path": "__notebook__.ipynb",
   "output_path": "__notebook__.ipynb",
   "parameters": {},
   "start_time": "2022-07-06T04:46:43.282217",
   "version": "2.3.4"
  }
 },
 "nbformat": 4,
 "nbformat_minor": 5
}
