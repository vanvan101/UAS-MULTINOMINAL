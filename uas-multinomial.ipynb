{
 "cells": [
  {
   "cell_type": "code",
   "execution_count": 1,
   "id": "8a21c89a",
   "metadata": {
    "_cell_guid": "b1076dfc-b9ad-4769-8c92-a6c4dae69d19",
    "_uuid": "8f2839f25d086af736a60e9eeb907d3b93b6e0e5",
    "execution": {
     "iopub.execute_input": "2022-07-02T05:31:27.808751Z",
     "iopub.status.busy": "2022-07-02T05:31:27.808095Z",
     "iopub.status.idle": "2022-07-02T05:31:27.825782Z",
     "shell.execute_reply": "2022-07-02T05:31:27.824936Z"
    },
    "papermill": {
     "duration": 0.026511,
     "end_time": "2022-07-02T05:31:27.828147",
     "exception": false,
     "start_time": "2022-07-02T05:31:27.801636",
     "status": "completed"
    },
    "tags": []
   },
   "outputs": [
    {
     "name": "stdout",
     "output_type": "stream",
     "text": [
      "/kaggle/input/dataset-property-category-uas/financial Property and category .csv\n"
     ]
    }
   ],
   "source": [
    "# This Python 3 environment comes with many helpful analytics libraries installed\n",
    "# It is defined by the kaggle/python Docker image: https://github.com/kaggle/docker-python\n",
    "# For example, here's several helpful packages to load\n",
    "\n",
    "import numpy as np # linear algebra\n",
    "import pandas as pd # data processing, CSV file I/O (e.g. pd.read_csv)\n",
    "\n",
    "# Input data files are available in the read-only \"../input/\" directory\n",
    "# For example, running this (by clicking run or pressing Shift+Enter) will list all files under the input directory\n",
    "\n",
    "import os\n",
    "for dirname, _, filenames in os.walk('/kaggle/input'):\n",
    "    for filename in filenames:\n",
    "        print(os.path.join(dirname, filename))\n",
    "\n",
    "# You can write up to 20GB to the current directory (/kaggle/working/) that gets preserved as output when you create a version using \"Save & Run All\" \n",
    "# You can also write temporary files to /kaggle/temp/, but they won't be saved outside of the current session"
   ]
  },
  {
   "cell_type": "code",
   "execution_count": 2,
   "id": "da50dad4",
   "metadata": {
    "execution": {
     "iopub.execute_input": "2022-07-02T05:31:27.838690Z",
     "iopub.status.busy": "2022-07-02T05:31:27.838061Z",
     "iopub.status.idle": "2022-07-02T05:31:29.373810Z",
     "shell.execute_reply": "2022-07-02T05:31:29.372378Z"
    },
    "papermill": {
     "duration": 1.544084,
     "end_time": "2022-07-02T05:31:29.376416",
     "exception": false,
     "start_time": "2022-07-02T05:31:27.832332",
     "status": "completed"
    },
    "tags": []
   },
   "outputs": [],
   "source": [
    "import pandas as pd\n",
    "import seaborn as sns\n",
    "from sklearn.metrics import classification_report\n",
    "from sklearn.metrics import accuracy_score\n",
    "from sklearn.model_selection import train_test_split\n",
    "from sklearn.linear_model import LogisticRegression"
   ]
  },
  {
   "cell_type": "code",
   "execution_count": 3,
   "id": "d17bf074",
   "metadata": {
    "execution": {
     "iopub.execute_input": "2022-07-02T05:31:29.386302Z",
     "iopub.status.busy": "2022-07-02T05:31:29.385947Z",
     "iopub.status.idle": "2022-07-02T05:31:29.420550Z",
     "shell.execute_reply": "2022-07-02T05:31:29.419410Z"
    },
    "papermill": {
     "duration": 0.042369,
     "end_time": "2022-07-02T05:31:29.423000",
     "exception": false,
     "start_time": "2022-07-02T05:31:29.380631",
     "status": "completed"
    },
    "tags": []
   },
   "outputs": [
    {
     "data": {
      "text/html": [
       "<div>\n",
       "<style scoped>\n",
       "    .dataframe tbody tr th:only-of-type {\n",
       "        vertical-align: middle;\n",
       "    }\n",
       "\n",
       "    .dataframe tbody tr th {\n",
       "        vertical-align: top;\n",
       "    }\n",
       "\n",
       "    .dataframe thead th {\n",
       "        text-align: right;\n",
       "    }\n",
       "</style>\n",
       "<table border=\"1\" class=\"dataframe\">\n",
       "  <thead>\n",
       "    <tr style=\"text-align: right;\">\n",
       "      <th></th>\n",
       "      <th>Emitten</th>\n",
       "      <th>DER</th>\n",
       "      <th>ROA</th>\n",
       "      <th>Sales Growth</th>\n",
       "      <th>ROE</th>\n",
       "      <th>NPM</th>\n",
       "      <th>Category</th>\n",
       "    </tr>\n",
       "  </thead>\n",
       "  <tbody>\n",
       "    <tr>\n",
       "      <th>0</th>\n",
       "      <td>AMAN</td>\n",
       "      <td>0.40</td>\n",
       "      <td>0.01</td>\n",
       "      <td>-3.797435</td>\n",
       "      <td>0.01</td>\n",
       "      <td>0.18</td>\n",
       "      <td>3</td>\n",
       "    </tr>\n",
       "    <tr>\n",
       "      <th>1</th>\n",
       "      <td>APLN</td>\n",
       "      <td>1.79</td>\n",
       "      <td>-0.02</td>\n",
       "      <td>18.184296</td>\n",
       "      <td>-0.06</td>\n",
       "      <td>-0.21</td>\n",
       "      <td>2</td>\n",
       "    </tr>\n",
       "    <tr>\n",
       "      <th>2</th>\n",
       "      <td>ASRI</td>\n",
       "      <td>1.35</td>\n",
       "      <td>-0.01</td>\n",
       "      <td>669.231018</td>\n",
       "      <td>-0.02</td>\n",
       "      <td>-0.09</td>\n",
       "      <td>2</td>\n",
       "    </tr>\n",
       "    <tr>\n",
       "      <th>3</th>\n",
       "      <td>ATAP</td>\n",
       "      <td>0.24</td>\n",
       "      <td>0.05</td>\n",
       "      <td>35.698101</td>\n",
       "      <td>0.07</td>\n",
       "      <td>0.11</td>\n",
       "      <td>3</td>\n",
       "    </tr>\n",
       "    <tr>\n",
       "      <th>4</th>\n",
       "      <td>BAPA</td>\n",
       "      <td>0.07</td>\n",
       "      <td>-0.03</td>\n",
       "      <td>-3.317679</td>\n",
       "      <td>-0.03</td>\n",
       "      <td>-1.14</td>\n",
       "      <td>4</td>\n",
       "    </tr>\n",
       "  </tbody>\n",
       "</table>\n",
       "</div>"
      ],
      "text/plain": [
       "  Emitten   DER   ROA  Sales Growth   ROE   NPM  Category\n",
       "0    AMAN  0.40  0.01     -3.797435  0.01  0.18         3\n",
       "1    APLN  1.79 -0.02     18.184296 -0.06 -0.21         2\n",
       "2    ASRI  1.35 -0.01    669.231018 -0.02 -0.09         2\n",
       "3    ATAP  0.24  0.05     35.698101  0.07  0.11         3\n",
       "4    BAPA  0.07 -0.03     -3.317679 -0.03 -1.14         4"
      ]
     },
     "execution_count": 3,
     "metadata": {},
     "output_type": "execute_result"
    }
   ],
   "source": [
    "df = pd.read_csv('../input/dataset-property-category-uas/financial Property and category .csv')\n",
    "df.head()"
   ]
  },
  {
   "cell_type": "code",
   "execution_count": 4,
   "id": "f1800882",
   "metadata": {
    "execution": {
     "iopub.execute_input": "2022-07-02T05:31:29.434445Z",
     "iopub.status.busy": "2022-07-02T05:31:29.434010Z",
     "iopub.status.idle": "2022-07-02T05:31:29.441776Z",
     "shell.execute_reply": "2022-07-02T05:31:29.440679Z"
    },
    "papermill": {
     "duration": 0.0167,
     "end_time": "2022-07-02T05:31:29.444361",
     "exception": false,
     "start_time": "2022-07-02T05:31:29.427661",
     "status": "completed"
    },
    "tags": []
   },
   "outputs": [
    {
     "data": {
      "text/plain": [
       "array([['AMAN', 0.4, 0.01, -3.797435, 0.01, 0.18, 3],\n",
       "       ['APLN', 1.79, -0.02, 18.184296, -0.06, -0.21, 2],\n",
       "       ['ASRI', 1.35, -0.01, 669.231018, -0.02, -0.09, 2],\n",
       "       ['ATAP', 0.24, 0.05, 35.698101, 0.07, 0.11, 3],\n",
       "       ['BAPA', 0.07, -0.03, -3.317679, -0.03, -1.14, 4],\n",
       "       ['BAPI', 0.47, -0.01, -0.096221, -0.01, -1.43, 4],\n",
       "       ['BCIP', 1.14, -0.01, -46.929469, -0.01, -0.16, 2],\n",
       "       ['BEST', 0.42, -0.02, -84.809916, -0.03, -1.03, 4],\n",
       "       ['BKDP', 0.73, -0.05, -9.498563, 0.04, 0.16, 2],\n",
       "       ['BKSL', 0.61, 0.02, 2374.3049, 0.04, 0.42, 3],\n",
       "       ['BSDE', 0.69, 0.02, -7.213595, 0.07, 2.0, 3],\n",
       "       ['CPRI', 0.13, -0.01, 0.820829, -0.01, -0.37, 4],\n",
       "       ['CTRA', 1.16, 0.05, 2408.626, 0.11, 0.32, 3],\n",
       "       ['DADA', 1.0, 0.03, -182.3169, 0.05, 0.73, 3],\n",
       "       ['DART', 1.57, -0.06, -26.572531, -0.15, -1.86, 5],\n",
       "       ['DMAS', 0.12, 0.13, 652.221301, 0.15, 0.65, 1],\n",
       "       ['DUTI', 0.4, 0.04, -546.164778, 0.05, 0.81, 3]], dtype=object)"
      ]
     },
     "execution_count": 4,
     "metadata": {},
     "output_type": "execute_result"
    }
   ],
   "source": [
    "np.asarray(df)"
   ]
  },
  {
   "cell_type": "code",
   "execution_count": 5,
   "id": "6df7b1c4",
   "metadata": {
    "execution": {
     "iopub.execute_input": "2022-07-02T05:31:29.455068Z",
     "iopub.status.busy": "2022-07-02T05:31:29.454670Z",
     "iopub.status.idle": "2022-07-02T05:31:30.220682Z",
     "shell.execute_reply": "2022-07-02T05:31:30.219508Z"
    },
    "papermill": {
     "duration": 0.774161,
     "end_time": "2022-07-02T05:31:30.223110",
     "exception": false,
     "start_time": "2022-07-02T05:31:29.448949",
     "status": "completed"
    },
    "tags": []
   },
   "outputs": [],
   "source": [
    "import statsmodels.api as sm"
   ]
  },
  {
   "cell_type": "code",
   "execution_count": 6,
   "id": "a5e7caf7",
   "metadata": {
    "execution": {
     "iopub.execute_input": "2022-07-02T05:31:30.234357Z",
     "iopub.status.busy": "2022-07-02T05:31:30.234010Z",
     "iopub.status.idle": "2022-07-02T05:31:30.252444Z",
     "shell.execute_reply": "2022-07-02T05:31:30.251404Z"
    },
    "papermill": {
     "duration": 0.027022,
     "end_time": "2022-07-02T05:31:30.255280",
     "exception": false,
     "start_time": "2022-07-02T05:31:30.228258",
     "status": "completed"
    },
    "tags": []
   },
   "outputs": [],
   "source": [
    "df = pd.get_dummies(df, columns=['Emitten'], drop_first=True)"
   ]
  },
  {
   "cell_type": "code",
   "execution_count": 7,
   "id": "950360ad",
   "metadata": {
    "execution": {
     "iopub.execute_input": "2022-07-02T05:31:30.265434Z",
     "iopub.status.busy": "2022-07-02T05:31:30.265089Z",
     "iopub.status.idle": "2022-07-02T05:31:30.286257Z",
     "shell.execute_reply": "2022-07-02T05:31:30.285228Z"
    },
    "papermill": {
     "duration": 0.02875,
     "end_time": "2022-07-02T05:31:30.288359",
     "exception": false,
     "start_time": "2022-07-02T05:31:30.259609",
     "status": "completed"
    },
    "tags": []
   },
   "outputs": [
    {
     "data": {
      "text/html": [
       "<div>\n",
       "<style scoped>\n",
       "    .dataframe tbody tr th:only-of-type {\n",
       "        vertical-align: middle;\n",
       "    }\n",
       "\n",
       "    .dataframe tbody tr th {\n",
       "        vertical-align: top;\n",
       "    }\n",
       "\n",
       "    .dataframe thead th {\n",
       "        text-align: right;\n",
       "    }\n",
       "</style>\n",
       "<table border=\"1\" class=\"dataframe\">\n",
       "  <thead>\n",
       "    <tr style=\"text-align: right;\">\n",
       "      <th></th>\n",
       "      <th>DER</th>\n",
       "      <th>ROA</th>\n",
       "      <th>Sales Growth</th>\n",
       "      <th>ROE</th>\n",
       "      <th>NPM</th>\n",
       "      <th>Emitten_APLN</th>\n",
       "      <th>Emitten_ASRI</th>\n",
       "      <th>Emitten_ATAP</th>\n",
       "      <th>Emitten_BAPA</th>\n",
       "      <th>Emitten_BAPI</th>\n",
       "      <th>...</th>\n",
       "      <th>Emitten_BEST</th>\n",
       "      <th>Emitten_BKDP</th>\n",
       "      <th>Emitten_BKSL</th>\n",
       "      <th>Emitten_BSDE</th>\n",
       "      <th>Emitten_CPRI</th>\n",
       "      <th>Emitten_CTRA</th>\n",
       "      <th>Emitten_DADA</th>\n",
       "      <th>Emitten_DART</th>\n",
       "      <th>Emitten_DMAS</th>\n",
       "      <th>Emitten_DUTI</th>\n",
       "    </tr>\n",
       "  </thead>\n",
       "  <tbody>\n",
       "    <tr>\n",
       "      <th>0</th>\n",
       "      <td>0.40</td>\n",
       "      <td>0.01</td>\n",
       "      <td>-3.797435</td>\n",
       "      <td>0.01</td>\n",
       "      <td>0.18</td>\n",
       "      <td>0</td>\n",
       "      <td>0</td>\n",
       "      <td>0</td>\n",
       "      <td>0</td>\n",
       "      <td>0</td>\n",
       "      <td>...</td>\n",
       "      <td>0</td>\n",
       "      <td>0</td>\n",
       "      <td>0</td>\n",
       "      <td>0</td>\n",
       "      <td>0</td>\n",
       "      <td>0</td>\n",
       "      <td>0</td>\n",
       "      <td>0</td>\n",
       "      <td>0</td>\n",
       "      <td>0</td>\n",
       "    </tr>\n",
       "    <tr>\n",
       "      <th>1</th>\n",
       "      <td>1.79</td>\n",
       "      <td>-0.02</td>\n",
       "      <td>18.184296</td>\n",
       "      <td>-0.06</td>\n",
       "      <td>-0.21</td>\n",
       "      <td>1</td>\n",
       "      <td>0</td>\n",
       "      <td>0</td>\n",
       "      <td>0</td>\n",
       "      <td>0</td>\n",
       "      <td>...</td>\n",
       "      <td>0</td>\n",
       "      <td>0</td>\n",
       "      <td>0</td>\n",
       "      <td>0</td>\n",
       "      <td>0</td>\n",
       "      <td>0</td>\n",
       "      <td>0</td>\n",
       "      <td>0</td>\n",
       "      <td>0</td>\n",
       "      <td>0</td>\n",
       "    </tr>\n",
       "    <tr>\n",
       "      <th>2</th>\n",
       "      <td>1.35</td>\n",
       "      <td>-0.01</td>\n",
       "      <td>669.231018</td>\n",
       "      <td>-0.02</td>\n",
       "      <td>-0.09</td>\n",
       "      <td>0</td>\n",
       "      <td>1</td>\n",
       "      <td>0</td>\n",
       "      <td>0</td>\n",
       "      <td>0</td>\n",
       "      <td>...</td>\n",
       "      <td>0</td>\n",
       "      <td>0</td>\n",
       "      <td>0</td>\n",
       "      <td>0</td>\n",
       "      <td>0</td>\n",
       "      <td>0</td>\n",
       "      <td>0</td>\n",
       "      <td>0</td>\n",
       "      <td>0</td>\n",
       "      <td>0</td>\n",
       "    </tr>\n",
       "    <tr>\n",
       "      <th>3</th>\n",
       "      <td>0.24</td>\n",
       "      <td>0.05</td>\n",
       "      <td>35.698101</td>\n",
       "      <td>0.07</td>\n",
       "      <td>0.11</td>\n",
       "      <td>0</td>\n",
       "      <td>0</td>\n",
       "      <td>1</td>\n",
       "      <td>0</td>\n",
       "      <td>0</td>\n",
       "      <td>...</td>\n",
       "      <td>0</td>\n",
       "      <td>0</td>\n",
       "      <td>0</td>\n",
       "      <td>0</td>\n",
       "      <td>0</td>\n",
       "      <td>0</td>\n",
       "      <td>0</td>\n",
       "      <td>0</td>\n",
       "      <td>0</td>\n",
       "      <td>0</td>\n",
       "    </tr>\n",
       "    <tr>\n",
       "      <th>4</th>\n",
       "      <td>0.07</td>\n",
       "      <td>-0.03</td>\n",
       "      <td>-3.317679</td>\n",
       "      <td>-0.03</td>\n",
       "      <td>-1.14</td>\n",
       "      <td>0</td>\n",
       "      <td>0</td>\n",
       "      <td>0</td>\n",
       "      <td>1</td>\n",
       "      <td>0</td>\n",
       "      <td>...</td>\n",
       "      <td>0</td>\n",
       "      <td>0</td>\n",
       "      <td>0</td>\n",
       "      <td>0</td>\n",
       "      <td>0</td>\n",
       "      <td>0</td>\n",
       "      <td>0</td>\n",
       "      <td>0</td>\n",
       "      <td>0</td>\n",
       "      <td>0</td>\n",
       "    </tr>\n",
       "  </tbody>\n",
       "</table>\n",
       "<p>5 rows × 21 columns</p>\n",
       "</div>"
      ],
      "text/plain": [
       "    DER   ROA  Sales Growth   ROE   NPM  Emitten_APLN  Emitten_ASRI  \\\n",
       "0  0.40  0.01     -3.797435  0.01  0.18             0             0   \n",
       "1  1.79 -0.02     18.184296 -0.06 -0.21             1             0   \n",
       "2  1.35 -0.01    669.231018 -0.02 -0.09             0             1   \n",
       "3  0.24  0.05     35.698101  0.07  0.11             0             0   \n",
       "4  0.07 -0.03     -3.317679 -0.03 -1.14             0             0   \n",
       "\n",
       "   Emitten_ATAP  Emitten_BAPA  Emitten_BAPI  ...  Emitten_BEST  Emitten_BKDP  \\\n",
       "0             0             0             0  ...             0             0   \n",
       "1             0             0             0  ...             0             0   \n",
       "2             0             0             0  ...             0             0   \n",
       "3             1             0             0  ...             0             0   \n",
       "4             0             1             0  ...             0             0   \n",
       "\n",
       "   Emitten_BKSL  Emitten_BSDE  Emitten_CPRI  Emitten_CTRA  Emitten_DADA  \\\n",
       "0             0             0             0             0             0   \n",
       "1             0             0             0             0             0   \n",
       "2             0             0             0             0             0   \n",
       "3             0             0             0             0             0   \n",
       "4             0             0             0             0             0   \n",
       "\n",
       "   Emitten_DART  Emitten_DMAS  Emitten_DUTI  \n",
       "0             0             0             0  \n",
       "1             0             0             0  \n",
       "2             0             0             0  \n",
       "3             0             0             0  \n",
       "4             0             0             0  \n",
       "\n",
       "[5 rows x 21 columns]"
      ]
     },
     "execution_count": 7,
     "metadata": {},
     "output_type": "execute_result"
    }
   ],
   "source": [
    "x = df.drop('Category', axis=1)\n",
    "x.head()"
   ]
  },
  {
   "cell_type": "code",
   "execution_count": 8,
   "id": "de13ea9d",
   "metadata": {
    "execution": {
     "iopub.execute_input": "2022-07-02T05:31:30.301373Z",
     "iopub.status.busy": "2022-07-02T05:31:30.299742Z",
     "iopub.status.idle": "2022-07-02T05:31:30.308954Z",
     "shell.execute_reply": "2022-07-02T05:31:30.307134Z"
    },
    "papermill": {
     "duration": 0.017986,
     "end_time": "2022-07-02T05:31:30.311560",
     "exception": false,
     "start_time": "2022-07-02T05:31:30.293574",
     "status": "completed"
    },
    "tags": []
   },
   "outputs": [
    {
     "data": {
      "text/plain": [
       "0    3\n",
       "1    2\n",
       "2    2\n",
       "3    3\n",
       "4    4\n",
       "Name: Category, dtype: int64"
      ]
     },
     "execution_count": 8,
     "metadata": {},
     "output_type": "execute_result"
    }
   ],
   "source": [
    "y = df['Category']\n",
    "y.head()"
   ]
  },
  {
   "cell_type": "code",
   "execution_count": 9,
   "id": "35b3664d",
   "metadata": {
    "execution": {
     "iopub.execute_input": "2022-07-02T05:31:30.323332Z",
     "iopub.status.busy": "2022-07-02T05:31:30.322226Z",
     "iopub.status.idle": "2022-07-02T05:31:30.328341Z",
     "shell.execute_reply": "2022-07-02T05:31:30.327352Z"
    },
    "papermill": {
     "duration": 0.014157,
     "end_time": "2022-07-02T05:31:30.330482",
     "exception": false,
     "start_time": "2022-07-02T05:31:30.316325",
     "status": "completed"
    },
    "tags": []
   },
   "outputs": [],
   "source": [
    "x_train, x_test, y_train, y_test = train_test_split(x,y, test_size=0.3)"
   ]
  },
  {
   "cell_type": "code",
   "execution_count": 10,
   "id": "f073e543",
   "metadata": {
    "execution": {
     "iopub.execute_input": "2022-07-02T05:31:30.341963Z",
     "iopub.status.busy": "2022-07-02T05:31:30.341244Z",
     "iopub.status.idle": "2022-07-02T05:31:30.375647Z",
     "shell.execute_reply": "2022-07-02T05:31:30.374598Z"
    },
    "papermill": {
     "duration": 0.042963,
     "end_time": "2022-07-02T05:31:30.378156",
     "exception": false,
     "start_time": "2022-07-02T05:31:30.335193",
     "status": "completed"
    },
    "tags": []
   },
   "outputs": [
    {
     "data": {
      "text/html": [
       "<div>\n",
       "<style scoped>\n",
       "    .dataframe tbody tr th:only-of-type {\n",
       "        vertical-align: middle;\n",
       "    }\n",
       "\n",
       "    .dataframe tbody tr th {\n",
       "        vertical-align: top;\n",
       "    }\n",
       "\n",
       "    .dataframe thead th {\n",
       "        text-align: right;\n",
       "    }\n",
       "</style>\n",
       "<table border=\"1\" class=\"dataframe\">\n",
       "  <thead>\n",
       "    <tr style=\"text-align: right;\">\n",
       "      <th></th>\n",
       "      <th>const</th>\n",
       "      <th>DER</th>\n",
       "      <th>ROA</th>\n",
       "      <th>Sales Growth</th>\n",
       "      <th>ROE</th>\n",
       "      <th>NPM</th>\n",
       "      <th>Emitten_APLN</th>\n",
       "      <th>Emitten_ASRI</th>\n",
       "      <th>Emitten_ATAP</th>\n",
       "      <th>Emitten_BAPA</th>\n",
       "      <th>...</th>\n",
       "      <th>Emitten_BEST</th>\n",
       "      <th>Emitten_BKDP</th>\n",
       "      <th>Emitten_BKSL</th>\n",
       "      <th>Emitten_BSDE</th>\n",
       "      <th>Emitten_CPRI</th>\n",
       "      <th>Emitten_CTRA</th>\n",
       "      <th>Emitten_DADA</th>\n",
       "      <th>Emitten_DART</th>\n",
       "      <th>Emitten_DMAS</th>\n",
       "      <th>Emitten_DUTI</th>\n",
       "    </tr>\n",
       "  </thead>\n",
       "  <tbody>\n",
       "    <tr>\n",
       "      <th>7</th>\n",
       "      <td>1.0</td>\n",
       "      <td>0.42</td>\n",
       "      <td>-0.02</td>\n",
       "      <td>-84.809916</td>\n",
       "      <td>-0.03</td>\n",
       "      <td>-1.03</td>\n",
       "      <td>0</td>\n",
       "      <td>0</td>\n",
       "      <td>0</td>\n",
       "      <td>0</td>\n",
       "      <td>...</td>\n",
       "      <td>1</td>\n",
       "      <td>0</td>\n",
       "      <td>0</td>\n",
       "      <td>0</td>\n",
       "      <td>0</td>\n",
       "      <td>0</td>\n",
       "      <td>0</td>\n",
       "      <td>0</td>\n",
       "      <td>0</td>\n",
       "      <td>0</td>\n",
       "    </tr>\n",
       "    <tr>\n",
       "      <th>15</th>\n",
       "      <td>1.0</td>\n",
       "      <td>0.12</td>\n",
       "      <td>0.13</td>\n",
       "      <td>652.221301</td>\n",
       "      <td>0.15</td>\n",
       "      <td>0.65</td>\n",
       "      <td>0</td>\n",
       "      <td>0</td>\n",
       "      <td>0</td>\n",
       "      <td>0</td>\n",
       "      <td>...</td>\n",
       "      <td>0</td>\n",
       "      <td>0</td>\n",
       "      <td>0</td>\n",
       "      <td>0</td>\n",
       "      <td>0</td>\n",
       "      <td>0</td>\n",
       "      <td>0</td>\n",
       "      <td>0</td>\n",
       "      <td>1</td>\n",
       "      <td>0</td>\n",
       "    </tr>\n",
       "    <tr>\n",
       "      <th>8</th>\n",
       "      <td>1.0</td>\n",
       "      <td>0.73</td>\n",
       "      <td>-0.05</td>\n",
       "      <td>-9.498563</td>\n",
       "      <td>0.04</td>\n",
       "      <td>0.16</td>\n",
       "      <td>0</td>\n",
       "      <td>0</td>\n",
       "      <td>0</td>\n",
       "      <td>0</td>\n",
       "      <td>...</td>\n",
       "      <td>0</td>\n",
       "      <td>1</td>\n",
       "      <td>0</td>\n",
       "      <td>0</td>\n",
       "      <td>0</td>\n",
       "      <td>0</td>\n",
       "      <td>0</td>\n",
       "      <td>0</td>\n",
       "      <td>0</td>\n",
       "      <td>0</td>\n",
       "    </tr>\n",
       "    <tr>\n",
       "      <th>12</th>\n",
       "      <td>1.0</td>\n",
       "      <td>1.16</td>\n",
       "      <td>0.05</td>\n",
       "      <td>2408.626000</td>\n",
       "      <td>0.11</td>\n",
       "      <td>0.32</td>\n",
       "      <td>0</td>\n",
       "      <td>0</td>\n",
       "      <td>0</td>\n",
       "      <td>0</td>\n",
       "      <td>...</td>\n",
       "      <td>0</td>\n",
       "      <td>0</td>\n",
       "      <td>0</td>\n",
       "      <td>0</td>\n",
       "      <td>0</td>\n",
       "      <td>1</td>\n",
       "      <td>0</td>\n",
       "      <td>0</td>\n",
       "      <td>0</td>\n",
       "      <td>0</td>\n",
       "    </tr>\n",
       "    <tr>\n",
       "      <th>4</th>\n",
       "      <td>1.0</td>\n",
       "      <td>0.07</td>\n",
       "      <td>-0.03</td>\n",
       "      <td>-3.317679</td>\n",
       "      <td>-0.03</td>\n",
       "      <td>-1.14</td>\n",
       "      <td>0</td>\n",
       "      <td>0</td>\n",
       "      <td>0</td>\n",
       "      <td>1</td>\n",
       "      <td>...</td>\n",
       "      <td>0</td>\n",
       "      <td>0</td>\n",
       "      <td>0</td>\n",
       "      <td>0</td>\n",
       "      <td>0</td>\n",
       "      <td>0</td>\n",
       "      <td>0</td>\n",
       "      <td>0</td>\n",
       "      <td>0</td>\n",
       "      <td>0</td>\n",
       "    </tr>\n",
       "    <tr>\n",
       "      <th>16</th>\n",
       "      <td>1.0</td>\n",
       "      <td>0.40</td>\n",
       "      <td>0.04</td>\n",
       "      <td>-546.164778</td>\n",
       "      <td>0.05</td>\n",
       "      <td>0.81</td>\n",
       "      <td>0</td>\n",
       "      <td>0</td>\n",
       "      <td>0</td>\n",
       "      <td>0</td>\n",
       "      <td>...</td>\n",
       "      <td>0</td>\n",
       "      <td>0</td>\n",
       "      <td>0</td>\n",
       "      <td>0</td>\n",
       "      <td>0</td>\n",
       "      <td>0</td>\n",
       "      <td>0</td>\n",
       "      <td>0</td>\n",
       "      <td>0</td>\n",
       "      <td>1</td>\n",
       "    </tr>\n",
       "    <tr>\n",
       "      <th>5</th>\n",
       "      <td>1.0</td>\n",
       "      <td>0.47</td>\n",
       "      <td>-0.01</td>\n",
       "      <td>-0.096221</td>\n",
       "      <td>-0.01</td>\n",
       "      <td>-1.43</td>\n",
       "      <td>0</td>\n",
       "      <td>0</td>\n",
       "      <td>0</td>\n",
       "      <td>0</td>\n",
       "      <td>...</td>\n",
       "      <td>0</td>\n",
       "      <td>0</td>\n",
       "      <td>0</td>\n",
       "      <td>0</td>\n",
       "      <td>0</td>\n",
       "      <td>0</td>\n",
       "      <td>0</td>\n",
       "      <td>0</td>\n",
       "      <td>0</td>\n",
       "      <td>0</td>\n",
       "    </tr>\n",
       "    <tr>\n",
       "      <th>10</th>\n",
       "      <td>1.0</td>\n",
       "      <td>0.69</td>\n",
       "      <td>0.02</td>\n",
       "      <td>-7.213595</td>\n",
       "      <td>0.07</td>\n",
       "      <td>2.00</td>\n",
       "      <td>0</td>\n",
       "      <td>0</td>\n",
       "      <td>0</td>\n",
       "      <td>0</td>\n",
       "      <td>...</td>\n",
       "      <td>0</td>\n",
       "      <td>0</td>\n",
       "      <td>0</td>\n",
       "      <td>1</td>\n",
       "      <td>0</td>\n",
       "      <td>0</td>\n",
       "      <td>0</td>\n",
       "      <td>0</td>\n",
       "      <td>0</td>\n",
       "      <td>0</td>\n",
       "    </tr>\n",
       "    <tr>\n",
       "      <th>14</th>\n",
       "      <td>1.0</td>\n",
       "      <td>1.57</td>\n",
       "      <td>-0.06</td>\n",
       "      <td>-26.572531</td>\n",
       "      <td>-0.15</td>\n",
       "      <td>-1.86</td>\n",
       "      <td>0</td>\n",
       "      <td>0</td>\n",
       "      <td>0</td>\n",
       "      <td>0</td>\n",
       "      <td>...</td>\n",
       "      <td>0</td>\n",
       "      <td>0</td>\n",
       "      <td>0</td>\n",
       "      <td>0</td>\n",
       "      <td>0</td>\n",
       "      <td>0</td>\n",
       "      <td>0</td>\n",
       "      <td>1</td>\n",
       "      <td>0</td>\n",
       "      <td>0</td>\n",
       "    </tr>\n",
       "    <tr>\n",
       "      <th>6</th>\n",
       "      <td>1.0</td>\n",
       "      <td>1.14</td>\n",
       "      <td>-0.01</td>\n",
       "      <td>-46.929469</td>\n",
       "      <td>-0.01</td>\n",
       "      <td>-0.16</td>\n",
       "      <td>0</td>\n",
       "      <td>0</td>\n",
       "      <td>0</td>\n",
       "      <td>0</td>\n",
       "      <td>...</td>\n",
       "      <td>0</td>\n",
       "      <td>0</td>\n",
       "      <td>0</td>\n",
       "      <td>0</td>\n",
       "      <td>0</td>\n",
       "      <td>0</td>\n",
       "      <td>0</td>\n",
       "      <td>0</td>\n",
       "      <td>0</td>\n",
       "      <td>0</td>\n",
       "    </tr>\n",
       "    <tr>\n",
       "      <th>3</th>\n",
       "      <td>1.0</td>\n",
       "      <td>0.24</td>\n",
       "      <td>0.05</td>\n",
       "      <td>35.698101</td>\n",
       "      <td>0.07</td>\n",
       "      <td>0.11</td>\n",
       "      <td>0</td>\n",
       "      <td>0</td>\n",
       "      <td>1</td>\n",
       "      <td>0</td>\n",
       "      <td>...</td>\n",
       "      <td>0</td>\n",
       "      <td>0</td>\n",
       "      <td>0</td>\n",
       "      <td>0</td>\n",
       "      <td>0</td>\n",
       "      <td>0</td>\n",
       "      <td>0</td>\n",
       "      <td>0</td>\n",
       "      <td>0</td>\n",
       "      <td>0</td>\n",
       "    </tr>\n",
       "  </tbody>\n",
       "</table>\n",
       "<p>11 rows × 22 columns</p>\n",
       "</div>"
      ],
      "text/plain": [
       "    const   DER   ROA  Sales Growth   ROE   NPM  Emitten_APLN  Emitten_ASRI  \\\n",
       "7     1.0  0.42 -0.02    -84.809916 -0.03 -1.03             0             0   \n",
       "15    1.0  0.12  0.13    652.221301  0.15  0.65             0             0   \n",
       "8     1.0  0.73 -0.05     -9.498563  0.04  0.16             0             0   \n",
       "12    1.0  1.16  0.05   2408.626000  0.11  0.32             0             0   \n",
       "4     1.0  0.07 -0.03     -3.317679 -0.03 -1.14             0             0   \n",
       "16    1.0  0.40  0.04   -546.164778  0.05  0.81             0             0   \n",
       "5     1.0  0.47 -0.01     -0.096221 -0.01 -1.43             0             0   \n",
       "10    1.0  0.69  0.02     -7.213595  0.07  2.00             0             0   \n",
       "14    1.0  1.57 -0.06    -26.572531 -0.15 -1.86             0             0   \n",
       "6     1.0  1.14 -0.01    -46.929469 -0.01 -0.16             0             0   \n",
       "3     1.0  0.24  0.05     35.698101  0.07  0.11             0             0   \n",
       "\n",
       "    Emitten_ATAP  Emitten_BAPA  ...  Emitten_BEST  Emitten_BKDP  Emitten_BKSL  \\\n",
       "7              0             0  ...             1             0             0   \n",
       "15             0             0  ...             0             0             0   \n",
       "8              0             0  ...             0             1             0   \n",
       "12             0             0  ...             0             0             0   \n",
       "4              0             1  ...             0             0             0   \n",
       "16             0             0  ...             0             0             0   \n",
       "5              0             0  ...             0             0             0   \n",
       "10             0             0  ...             0             0             0   \n",
       "14             0             0  ...             0             0             0   \n",
       "6              0             0  ...             0             0             0   \n",
       "3              1             0  ...             0             0             0   \n",
       "\n",
       "    Emitten_BSDE  Emitten_CPRI  Emitten_CTRA  Emitten_DADA  Emitten_DART  \\\n",
       "7              0             0             0             0             0   \n",
       "15             0             0             0             0             0   \n",
       "8              0             0             0             0             0   \n",
       "12             0             0             1             0             0   \n",
       "4              0             0             0             0             0   \n",
       "16             0             0             0             0             0   \n",
       "5              0             0             0             0             0   \n",
       "10             1             0             0             0             0   \n",
       "14             0             0             0             0             1   \n",
       "6              0             0             0             0             0   \n",
       "3              0             0             0             0             0   \n",
       "\n",
       "    Emitten_DMAS  Emitten_DUTI  \n",
       "7              0             0  \n",
       "15             1             0  \n",
       "8              0             0  \n",
       "12             0             0  \n",
       "4              0             0  \n",
       "16             0             1  \n",
       "5              0             0  \n",
       "10             0             0  \n",
       "14             0             0  \n",
       "6              0             0  \n",
       "3              0             0  \n",
       "\n",
       "[11 rows x 22 columns]"
      ]
     },
     "execution_count": 10,
     "metadata": {},
     "output_type": "execute_result"
    }
   ],
   "source": [
    "x_train_sm = sm.add_constant(x_train)\n",
    "x_train_sm"
   ]
  },
  {
   "cell_type": "code",
   "execution_count": 11,
   "id": "9ce371c8",
   "metadata": {
    "execution": {
     "iopub.execute_input": "2022-07-02T05:31:30.390376Z",
     "iopub.status.busy": "2022-07-02T05:31:30.389992Z",
     "iopub.status.idle": "2022-07-02T05:31:30.446701Z",
     "shell.execute_reply": "2022-07-02T05:31:30.445389Z"
    },
    "papermill": {
     "duration": 0.069239,
     "end_time": "2022-07-02T05:31:30.452671",
     "exception": false,
     "start_time": "2022-07-02T05:31:30.383432",
     "status": "completed"
    },
    "tags": []
   },
   "outputs": [
    {
     "name": "stdout",
     "output_type": "stream",
     "text": [
      "Optimization terminated successfully.\n",
      "         Current function value: nan\n",
      "         Iterations 25\n"
     ]
    },
    {
     "name": "stderr",
     "output_type": "stream",
     "text": [
      "/opt/conda/lib/python3.7/site-packages/statsmodels/discrete/discrete_model.py:2299: RuntimeWarning: overflow encountered in exp\n",
      "  eXB = np.column_stack((np.ones(len(X)), np.exp(X)))\n",
      "/opt/conda/lib/python3.7/site-packages/statsmodels/discrete/discrete_model.py:2300: RuntimeWarning: invalid value encountered in true_divide\n",
      "  return eXB/eXB.sum(1)[:,None]\n"
     ]
    }
   ],
   "source": [
    "#logit_mod = sm.Logit(y_train, x_train_sm\n",
    "                     \n",
    "mnlogit_mod = sm.MNLogit(y_train, x_train_sm)\n",
    "mnlogit_fit = mnlogit_mod.fit()"
   ]
  },
  {
   "cell_type": "code",
   "execution_count": 12,
   "id": "5f9ec201",
   "metadata": {
    "execution": {
     "iopub.execute_input": "2022-07-02T05:31:30.476177Z",
     "iopub.status.busy": "2022-07-02T05:31:30.475584Z",
     "iopub.status.idle": "2022-07-02T05:31:30.622781Z",
     "shell.execute_reply": "2022-07-02T05:31:30.621940Z"
    },
    "papermill": {
     "duration": 0.163398,
     "end_time": "2022-07-02T05:31:30.626763",
     "exception": false,
     "start_time": "2022-07-02T05:31:30.463365",
     "status": "completed"
    },
    "tags": []
   },
   "outputs": [
    {
     "name": "stdout",
     "output_type": "stream",
     "text": [
      "                          MNLogit Regression Results                          \n",
      "==============================================================================\n",
      "Dep. Variable:               Category   No. Observations:                   11\n",
      "Model:                        MNLogit   Df Residuals:                      -25\n",
      "Method:                           MLE   Df Model:                           32\n",
      "Date:                Sat, 02 Jul 2022   Pseudo R-squ.:                     nan\n",
      "Time:                        05:31:30   Log-Likelihood:                    nan\n",
      "converged:                       True   LL-Null:                       -16.150\n",
      "Covariance Type:            nonrobust   LLR p-value:                       nan\n",
      "================================================================================\n",
      "  Category=2       coef    std err          z      P>|z|      [0.025      0.975]\n",
      "--------------------------------------------------------------------------------\n",
      "const               nan        nan        nan        nan         nan         nan\n",
      "DER                 nan        nan        nan        nan         nan         nan\n",
      "ROA                 nan        nan        nan        nan         nan         nan\n",
      "Sales Growth        nan        nan        nan        nan         nan         nan\n",
      "ROE                 nan        nan        nan        nan         nan         nan\n",
      "NPM                 nan        nan        nan        nan         nan         nan\n",
      "Emitten_APLN        nan        nan        nan        nan         nan         nan\n",
      "Emitten_ASRI        nan        nan        nan        nan         nan         nan\n",
      "Emitten_ATAP        nan        nan        nan        nan         nan         nan\n",
      "Emitten_BAPA        nan        nan        nan        nan         nan         nan\n",
      "Emitten_BAPI        nan        nan        nan        nan         nan         nan\n",
      "Emitten_BCIP        nan        nan        nan        nan         nan         nan\n",
      "Emitten_BEST        nan        nan        nan        nan         nan         nan\n",
      "Emitten_BKDP        nan        nan        nan        nan         nan         nan\n",
      "Emitten_BKSL        nan        nan        nan        nan         nan         nan\n",
      "Emitten_BSDE        nan        nan        nan        nan         nan         nan\n",
      "Emitten_CPRI        nan        nan        nan        nan         nan         nan\n",
      "Emitten_CTRA        nan        nan        nan        nan         nan         nan\n",
      "Emitten_DADA        nan        nan        nan        nan         nan         nan\n",
      "Emitten_DART        nan        nan        nan        nan         nan         nan\n",
      "Emitten_DMAS        nan        nan        nan        nan         nan         nan\n",
      "Emitten_DUTI        nan        nan        nan        nan         nan         nan\n",
      "--------------------------------------------------------------------------------\n",
      "  Category=3       coef    std err          z      P>|z|      [0.025      0.975]\n",
      "--------------------------------------------------------------------------------\n",
      "const               nan        nan        nan        nan         nan         nan\n",
      "DER                 nan        nan        nan        nan         nan         nan\n",
      "ROA                 nan        nan        nan        nan         nan         nan\n",
      "Sales Growth        nan        nan        nan        nan         nan         nan\n",
      "ROE                 nan        nan        nan        nan         nan         nan\n",
      "NPM                 nan        nan        nan        nan         nan         nan\n",
      "Emitten_APLN        nan        nan        nan        nan         nan         nan\n",
      "Emitten_ASRI        nan        nan        nan        nan         nan         nan\n",
      "Emitten_ATAP        nan        nan        nan        nan         nan         nan\n",
      "Emitten_BAPA        nan        nan        nan        nan         nan         nan\n",
      "Emitten_BAPI        nan        nan        nan        nan         nan         nan\n",
      "Emitten_BCIP        nan        nan        nan        nan         nan         nan\n",
      "Emitten_BEST        nan        nan        nan        nan         nan         nan\n",
      "Emitten_BKDP        nan        nan        nan        nan         nan         nan\n",
      "Emitten_BKSL        nan        nan        nan        nan         nan         nan\n",
      "Emitten_BSDE        nan        nan        nan        nan         nan         nan\n",
      "Emitten_CPRI        nan        nan        nan        nan         nan         nan\n",
      "Emitten_CTRA        nan        nan        nan        nan         nan         nan\n",
      "Emitten_DADA        nan        nan        nan        nan         nan         nan\n",
      "Emitten_DART        nan        nan        nan        nan         nan         nan\n",
      "Emitten_DMAS        nan        nan        nan        nan         nan         nan\n",
      "Emitten_DUTI        nan        nan        nan        nan         nan         nan\n",
      "--------------------------------------------------------------------------------\n",
      "  Category=4       coef    std err          z      P>|z|      [0.025      0.975]\n",
      "--------------------------------------------------------------------------------\n",
      "const               nan        nan        nan        nan         nan         nan\n",
      "DER                 nan        nan        nan        nan         nan         nan\n",
      "ROA                 nan        nan        nan        nan         nan         nan\n",
      "Sales Growth        nan        nan        nan        nan         nan         nan\n",
      "ROE                 nan        nan        nan        nan         nan         nan\n",
      "NPM                 nan        nan        nan        nan         nan         nan\n",
      "Emitten_APLN        nan        nan        nan        nan         nan         nan\n",
      "Emitten_ASRI        nan        nan        nan        nan         nan         nan\n",
      "Emitten_ATAP        nan        nan        nan        nan         nan         nan\n",
      "Emitten_BAPA        nan        nan        nan        nan         nan         nan\n",
      "Emitten_BAPI        nan        nan        nan        nan         nan         nan\n",
      "Emitten_BCIP        nan        nan        nan        nan         nan         nan\n",
      "Emitten_BEST        nan        nan        nan        nan         nan         nan\n",
      "Emitten_BKDP        nan        nan        nan        nan         nan         nan\n",
      "Emitten_BKSL        nan        nan        nan        nan         nan         nan\n",
      "Emitten_BSDE        nan        nan        nan        nan         nan         nan\n",
      "Emitten_CPRI        nan        nan        nan        nan         nan         nan\n",
      "Emitten_CTRA        nan        nan        nan        nan         nan         nan\n",
      "Emitten_DADA        nan        nan        nan        nan         nan         nan\n",
      "Emitten_DART        nan        nan        nan        nan         nan         nan\n",
      "Emitten_DMAS        nan        nan        nan        nan         nan         nan\n",
      "Emitten_DUTI        nan        nan        nan        nan         nan         nan\n",
      "--------------------------------------------------------------------------------\n",
      "  Category=5       coef    std err          z      P>|z|      [0.025      0.975]\n",
      "--------------------------------------------------------------------------------\n",
      "const               nan        nan        nan        nan         nan         nan\n",
      "DER                 nan        nan        nan        nan         nan         nan\n",
      "ROA                 nan        nan        nan        nan         nan         nan\n",
      "Sales Growth        nan        nan        nan        nan         nan         nan\n",
      "ROE                 nan        nan        nan        nan         nan         nan\n",
      "NPM                 nan        nan        nan        nan         nan         nan\n",
      "Emitten_APLN        nan        nan        nan        nan         nan         nan\n",
      "Emitten_ASRI        nan        nan        nan        nan         nan         nan\n",
      "Emitten_ATAP        nan        nan        nan        nan         nan         nan\n",
      "Emitten_BAPA        nan        nan        nan        nan         nan         nan\n",
      "Emitten_BAPI        nan        nan        nan        nan         nan         nan\n",
      "Emitten_BCIP        nan        nan        nan        nan         nan         nan\n",
      "Emitten_BEST        nan        nan        nan        nan         nan         nan\n",
      "Emitten_BKDP        nan        nan        nan        nan         nan         nan\n",
      "Emitten_BKSL        nan        nan        nan        nan         nan         nan\n",
      "Emitten_BSDE        nan        nan        nan        nan         nan         nan\n",
      "Emitten_CPRI        nan        nan        nan        nan         nan         nan\n",
      "Emitten_CTRA        nan        nan        nan        nan         nan         nan\n",
      "Emitten_DADA        nan        nan        nan        nan         nan         nan\n",
      "Emitten_DART        nan        nan        nan        nan         nan         nan\n",
      "Emitten_DMAS        nan        nan        nan        nan         nan         nan\n",
      "Emitten_DUTI        nan        nan        nan        nan         nan         nan\n",
      "================================================================================\n"
     ]
    }
   ],
   "source": [
    "print (mnlogit_fit.summary())"
   ]
  },
  {
   "cell_type": "code",
   "execution_count": 13,
   "id": "652688b3",
   "metadata": {
    "execution": {
     "iopub.execute_input": "2022-07-02T05:31:30.640822Z",
     "iopub.status.busy": "2022-07-02T05:31:30.639728Z",
     "iopub.status.idle": "2022-07-02T05:31:30.679484Z",
     "shell.execute_reply": "2022-07-02T05:31:30.678250Z"
    },
    "papermill": {
     "duration": 0.048959,
     "end_time": "2022-07-02T05:31:30.681947",
     "exception": false,
     "start_time": "2022-07-02T05:31:30.632988",
     "status": "completed"
    },
    "tags": []
   },
   "outputs": [
    {
     "name": "stderr",
     "output_type": "stream",
     "text": [
      "/opt/conda/lib/python3.7/site-packages/sklearn/linear_model/_logistic.py:818: ConvergenceWarning: lbfgs failed to converge (status=1):\n",
      "STOP: TOTAL NO. of ITERATIONS REACHED LIMIT.\n",
      "\n",
      "Increase the number of iterations (max_iter) or scale the data as shown in:\n",
      "    https://scikit-learn.org/stable/modules/preprocessing.html\n",
      "Please also refer to the documentation for alternative solver options:\n",
      "    https://scikit-learn.org/stable/modules/linear_model.html#logistic-regression\n",
      "  extra_warning_msg=_LOGISTIC_SOLVER_CONVERGENCE_MSG,\n"
     ]
    },
    {
     "data": {
      "text/plain": [
       "LogisticRegression()"
      ]
     },
     "execution_count": 13,
     "metadata": {},
     "output_type": "execute_result"
    }
   ],
   "source": [
    "model = LogisticRegression(multi_class='auto')\n",
    "model.fit(x_train, y_train)"
   ]
  },
  {
   "cell_type": "code",
   "execution_count": 14,
   "id": "0cbf5c45",
   "metadata": {
    "execution": {
     "iopub.execute_input": "2022-07-02T05:31:30.695743Z",
     "iopub.status.busy": "2022-07-02T05:31:30.695365Z",
     "iopub.status.idle": "2022-07-02T05:31:30.705231Z",
     "shell.execute_reply": "2022-07-02T05:31:30.704155Z"
    },
    "papermill": {
     "duration": 0.01918,
     "end_time": "2022-07-02T05:31:30.707395",
     "exception": false,
     "start_time": "2022-07-02T05:31:30.688215",
     "status": "completed"
    },
    "tags": []
   },
   "outputs": [
    {
     "data": {
      "text/plain": [
       "array([[0.10106017, 0.22094184, 0.41242468, 0.1893883 , 0.07618501],\n",
       "       [0.28423049, 0.01234512, 0.69550629, 0.00399087, 0.00392723],\n",
       "       [0.06650074, 0.29126548, 0.49590025, 0.0825696 , 0.06376393],\n",
       "       [0.1154323 , 0.18349253, 0.54327114, 0.07517714, 0.08262688],\n",
       "       [0.04811353, 0.3398468 , 0.3254893 , 0.12159401, 0.16495637]])"
      ]
     },
     "execution_count": 14,
     "metadata": {},
     "output_type": "execute_result"
    }
   ],
   "source": [
    "model.predict_proba(x_test)[0:5]"
   ]
  },
  {
   "cell_type": "code",
   "execution_count": 15,
   "id": "6000c730",
   "metadata": {
    "execution": {
     "iopub.execute_input": "2022-07-02T05:31:30.721218Z",
     "iopub.status.busy": "2022-07-02T05:31:30.719928Z",
     "iopub.status.idle": "2022-07-02T05:31:30.730615Z",
     "shell.execute_reply": "2022-07-02T05:31:30.729387Z"
    },
    "papermill": {
     "duration": 0.019681,
     "end_time": "2022-07-02T05:31:30.732841",
     "exception": false,
     "start_time": "2022-07-02T05:31:30.713160",
     "status": "completed"
    },
    "tags": []
   },
   "outputs": [
    {
     "data": {
      "text/plain": [
       "array([3, 3, 3, 3, 2, 4])"
      ]
     },
     "execution_count": 15,
     "metadata": {},
     "output_type": "execute_result"
    }
   ],
   "source": [
    "predictions = model.predict(x_test)\n",
    "predictions"
   ]
  },
  {
   "cell_type": "code",
   "execution_count": 16,
   "id": "5c28f309",
   "metadata": {
    "execution": {
     "iopub.execute_input": "2022-07-02T05:31:30.747389Z",
     "iopub.status.busy": "2022-07-02T05:31:30.746623Z",
     "iopub.status.idle": "2022-07-02T05:31:30.756557Z",
     "shell.execute_reply": "2022-07-02T05:31:30.755431Z"
    },
    "papermill": {
     "duration": 0.0196,
     "end_time": "2022-07-02T05:31:30.758717",
     "exception": false,
     "start_time": "2022-07-02T05:31:30.739117",
     "status": "completed"
    },
    "tags": []
   },
   "outputs": [
    {
     "name": "stdout",
     "output_type": "stream",
     "text": [
      "              precision    recall  f1-score   support\n",
      "\n",
      "           2       1.00      0.50      0.67         2\n",
      "           3       0.75      1.00      0.86         3\n",
      "           4       1.00      1.00      1.00         1\n",
      "\n",
      "    accuracy                           0.83         6\n",
      "   macro avg       0.92      0.83      0.84         6\n",
      "weighted avg       0.88      0.83      0.82         6\n",
      "\n"
     ]
    }
   ],
   "source": [
    "print(classification_report(y_test, predictions))"
   ]
  },
  {
   "cell_type": "code",
   "execution_count": 17,
   "id": "d7058a2a",
   "metadata": {
    "execution": {
     "iopub.execute_input": "2022-07-02T05:31:30.772311Z",
     "iopub.status.busy": "2022-07-02T05:31:30.771676Z",
     "iopub.status.idle": "2022-07-02T05:31:30.777927Z",
     "shell.execute_reply": "2022-07-02T05:31:30.776727Z"
    },
    "papermill": {
     "duration": 0.015744,
     "end_time": "2022-07-02T05:31:30.780283",
     "exception": false,
     "start_time": "2022-07-02T05:31:30.764539",
     "status": "completed"
    },
    "tags": []
   },
   "outputs": [
    {
     "name": "stdout",
     "output_type": "stream",
     "text": [
      "0.8333333333333334\n"
     ]
    }
   ],
   "source": [
    "print(accuracy_score(y_test, predictions))"
   ]
  }
 ],
 "metadata": {
  "kernelspec": {
   "display_name": "Python 3",
   "language": "python",
   "name": "python3"
  },
  "language_info": {
   "codemirror_mode": {
    "name": "ipython",
    "version": 3
   },
   "file_extension": ".py",
   "mimetype": "text/x-python",
   "name": "python",
   "nbconvert_exporter": "python",
   "pygments_lexer": "ipython3",
   "version": "3.7.12"
  },
  "papermill": {
   "default_parameters": {},
   "duration": 12.873136,
   "end_time": "2022-07-02T05:31:31.508319",
   "environment_variables": {},
   "exception": null,
   "input_path": "__notebook__.ipynb",
   "output_path": "__notebook__.ipynb",
   "parameters": {},
   "start_time": "2022-07-02T05:31:18.635183",
   "version": "2.3.4"
  }
 },
 "nbformat": 4,
 "nbformat_minor": 5
}
