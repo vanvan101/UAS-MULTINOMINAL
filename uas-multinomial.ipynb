{
 "cells": [
  {
   "cell_type": "code",
   "execution_count": 1,
   "id": "9c89fc96",
   "metadata": {
    "_cell_guid": "b1076dfc-b9ad-4769-8c92-a6c4dae69d19",
    "_uuid": "8f2839f25d086af736a60e9eeb907d3b93b6e0e5",
    "execution": {
     "iopub.execute_input": "2022-07-06T05:26:03.778628Z",
     "iopub.status.busy": "2022-07-06T05:26:03.776158Z",
     "iopub.status.idle": "2022-07-06T05:26:03.799733Z",
     "shell.execute_reply": "2022-07-06T05:26:03.798518Z"
    },
    "papermill": {
     "duration": 0.034571,
     "end_time": "2022-07-06T05:26:03.802705",
     "exception": false,
     "start_time": "2022-07-06T05:26:03.768134",
     "status": "completed"
    },
    "tags": []
   },
   "outputs": [
    {
     "name": "stdout",
     "output_type": "stream",
     "text": [
      "/kaggle/input/dataset-property-category-uas/financial Property and category .csv\n"
     ]
    }
   ],
   "source": [
    "# This Python 3 environment comes with many helpful analytics libraries installed\n",
    "# It is defined by the kaggle/python Docker image: https://github.com/kaggle/docker-python\n",
    "# For example, here's several helpful packages to load\n",
    "\n",
    "import numpy as np # linear algebra\n",
    "import pandas as pd # data processing, CSV file I/O (e.g. pd.read_csv)\n",
    "\n",
    "# Input data files are available in the read-only \"../input/\" directory\n",
    "# For example, running this (by clicking run or pressing Shift+Enter) will list all files under the input directory\n",
    "\n",
    "import os\n",
    "for dirname, _, filenames in os.walk('/kaggle/input'):\n",
    "    for filename in filenames:\n",
    "        print(os.path.join(dirname, filename))\n",
    "\n",
    "# You can write up to 20GB to the current directory (/kaggle/working/) that gets preserved as output when you create a version using \"Save & Run All\" \n",
    "# You can also write temporary files to /kaggle/temp/, but they won't be saved outside of the current session"
   ]
  },
  {
   "cell_type": "code",
   "execution_count": 2,
   "id": "a7aba02a",
   "metadata": {
    "execution": {
     "iopub.execute_input": "2022-07-06T05:26:03.816363Z",
     "iopub.status.busy": "2022-07-06T05:26:03.815724Z",
     "iopub.status.idle": "2022-07-06T05:26:05.225133Z",
     "shell.execute_reply": "2022-07-06T05:26:05.223878Z"
    },
    "papermill": {
     "duration": 1.419641,
     "end_time": "2022-07-06T05:26:05.228126",
     "exception": false,
     "start_time": "2022-07-06T05:26:03.808485",
     "status": "completed"
    },
    "tags": []
   },
   "outputs": [],
   "source": [
    "import pandas as pd\n",
    "import seaborn as sns\n",
    "from sklearn.metrics import classification_report\n",
    "from sklearn.metrics import accuracy_score\n",
    "from sklearn.model_selection import train_test_split\n",
    "from sklearn.linear_model import LogisticRegression"
   ]
  },
  {
   "cell_type": "code",
   "execution_count": 3,
   "id": "b49d27ec",
   "metadata": {
    "execution": {
     "iopub.execute_input": "2022-07-06T05:26:05.243159Z",
     "iopub.status.busy": "2022-07-06T05:26:05.242222Z",
     "iopub.status.idle": "2022-07-06T05:26:05.280814Z",
     "shell.execute_reply": "2022-07-06T05:26:05.279371Z"
    },
    "papermill": {
     "duration": 0.049385,
     "end_time": "2022-07-06T05:26:05.283700",
     "exception": false,
     "start_time": "2022-07-06T05:26:05.234315",
     "status": "completed"
    },
    "tags": []
   },
   "outputs": [
    {
     "data": {
      "text/html": [
       "<div>\n",
       "<style scoped>\n",
       "    .dataframe tbody tr th:only-of-type {\n",
       "        vertical-align: middle;\n",
       "    }\n",
       "\n",
       "    .dataframe tbody tr th {\n",
       "        vertical-align: top;\n",
       "    }\n",
       "\n",
       "    .dataframe thead th {\n",
       "        text-align: right;\n",
       "    }\n",
       "</style>\n",
       "<table border=\"1\" class=\"dataframe\">\n",
       "  <thead>\n",
       "    <tr style=\"text-align: right;\">\n",
       "      <th></th>\n",
       "      <th>Emitten</th>\n",
       "      <th>DER</th>\n",
       "      <th>ROA</th>\n",
       "      <th>Sales Growth</th>\n",
       "      <th>ROE</th>\n",
       "      <th>NPM</th>\n",
       "      <th>Category</th>\n",
       "    </tr>\n",
       "  </thead>\n",
       "  <tbody>\n",
       "    <tr>\n",
       "      <th>0</th>\n",
       "      <td>AMAN</td>\n",
       "      <td>0.40</td>\n",
       "      <td>0.01</td>\n",
       "      <td>-3.797435</td>\n",
       "      <td>0.01</td>\n",
       "      <td>0.18</td>\n",
       "      <td>3</td>\n",
       "    </tr>\n",
       "    <tr>\n",
       "      <th>1</th>\n",
       "      <td>APLN</td>\n",
       "      <td>1.79</td>\n",
       "      <td>-0.02</td>\n",
       "      <td>18.184296</td>\n",
       "      <td>-0.06</td>\n",
       "      <td>-0.21</td>\n",
       "      <td>2</td>\n",
       "    </tr>\n",
       "    <tr>\n",
       "      <th>2</th>\n",
       "      <td>ASRI</td>\n",
       "      <td>1.35</td>\n",
       "      <td>-0.01</td>\n",
       "      <td>669.231018</td>\n",
       "      <td>-0.02</td>\n",
       "      <td>-0.09</td>\n",
       "      <td>2</td>\n",
       "    </tr>\n",
       "    <tr>\n",
       "      <th>3</th>\n",
       "      <td>ATAP</td>\n",
       "      <td>0.24</td>\n",
       "      <td>0.05</td>\n",
       "      <td>35.698101</td>\n",
       "      <td>0.07</td>\n",
       "      <td>0.11</td>\n",
       "      <td>3</td>\n",
       "    </tr>\n",
       "    <tr>\n",
       "      <th>4</th>\n",
       "      <td>BAPA</td>\n",
       "      <td>0.07</td>\n",
       "      <td>-0.03</td>\n",
       "      <td>-3.317679</td>\n",
       "      <td>-0.03</td>\n",
       "      <td>-1.14</td>\n",
       "      <td>4</td>\n",
       "    </tr>\n",
       "  </tbody>\n",
       "</table>\n",
       "</div>"
      ],
      "text/plain": [
       "  Emitten   DER   ROA  Sales Growth   ROE   NPM  Category\n",
       "0    AMAN  0.40  0.01     -3.797435  0.01  0.18         3\n",
       "1    APLN  1.79 -0.02     18.184296 -0.06 -0.21         2\n",
       "2    ASRI  1.35 -0.01    669.231018 -0.02 -0.09         2\n",
       "3    ATAP  0.24  0.05     35.698101  0.07  0.11         3\n",
       "4    BAPA  0.07 -0.03     -3.317679 -0.03 -1.14         4"
      ]
     },
     "execution_count": 3,
     "metadata": {},
     "output_type": "execute_result"
    }
   ],
   "source": [
    "df = pd.read_csv('../input/dataset-property-category-uas/financial Property and category .csv')\n",
    "df.head()"
   ]
  },
  {
   "cell_type": "code",
   "execution_count": 4,
   "id": "8f3624de",
   "metadata": {
    "execution": {
     "iopub.execute_input": "2022-07-06T05:26:05.299149Z",
     "iopub.status.busy": "2022-07-06T05:26:05.298112Z",
     "iopub.status.idle": "2022-07-06T05:26:05.310776Z",
     "shell.execute_reply": "2022-07-06T05:26:05.309062Z"
    },
    "papermill": {
     "duration": 0.025092,
     "end_time": "2022-07-06T05:26:05.315040",
     "exception": false,
     "start_time": "2022-07-06T05:26:05.289948",
     "status": "completed"
    },
    "tags": []
   },
   "outputs": [
    {
     "data": {
      "text/plain": [
       "array([['AMAN', 0.4, 0.01, -3.797435, 0.01, 0.18, 3],\n",
       "       ['APLN', 1.79, -0.02, 18.184296, -0.06, -0.21, 2],\n",
       "       ['ASRI', 1.35, -0.01, 669.231018, -0.02, -0.09, 2],\n",
       "       ['ATAP', 0.24, 0.05, 35.698101, 0.07, 0.11, 3],\n",
       "       ['BAPA', 0.07, -0.03, -3.317679, -0.03, -1.14, 4],\n",
       "       ['BAPI', 0.47, -0.01, -0.096221, -0.01, -1.43, 4],\n",
       "       ['BCIP', 1.14, -0.01, -46.929469, -0.01, -0.16, 2],\n",
       "       ['BEST', 0.42, -0.02, -84.809916, -0.03, -1.03, 4],\n",
       "       ['BKDP', 0.73, -0.05, -9.498563, 0.04, 0.16, 2],\n",
       "       ['BKSL', 0.61, 0.02, 2374.3049, 0.04, 0.42, 3],\n",
       "       ['BSDE', 0.69, 0.02, -7.213595, 0.07, 2.0, 3],\n",
       "       ['CPRI', 0.13, -0.01, 0.820829, -0.01, -0.37, 4],\n",
       "       ['CTRA', 1.16, 0.05, 2408.626, 0.11, 0.32, 3],\n",
       "       ['DADA', 1.0, 0.03, -182.3169, 0.05, 0.73, 3],\n",
       "       ['DART', 1.57, -0.06, -26.572531, -0.15, -1.86, 5],\n",
       "       ['DMAS', 0.12, 0.13, 652.221301, 0.15, 0.65, 1],\n",
       "       ['DUTI', 0.4, 0.04, -546.164778, 0.05, 0.81, 3]], dtype=object)"
      ]
     },
     "execution_count": 4,
     "metadata": {},
     "output_type": "execute_result"
    }
   ],
   "source": [
    "np.asarray(df)"
   ]
  },
  {
   "cell_type": "code",
   "execution_count": 5,
   "id": "7418ed46",
   "metadata": {
    "execution": {
     "iopub.execute_input": "2022-07-06T05:26:05.335690Z",
     "iopub.status.busy": "2022-07-06T05:26:05.335047Z",
     "iopub.status.idle": "2022-07-06T05:26:06.152090Z",
     "shell.execute_reply": "2022-07-06T05:26:06.150416Z"
    },
    "papermill": {
     "duration": 0.830952,
     "end_time": "2022-07-06T05:26:06.155332",
     "exception": false,
     "start_time": "2022-07-06T05:26:05.324380",
     "status": "completed"
    },
    "tags": []
   },
   "outputs": [],
   "source": [
    "import statsmodels.api as sm"
   ]
  },
  {
   "cell_type": "code",
   "execution_count": 6,
   "id": "bfa8bd44",
   "metadata": {
    "execution": {
     "iopub.execute_input": "2022-07-06T05:26:06.170539Z",
     "iopub.status.busy": "2022-07-06T05:26:06.169510Z",
     "iopub.status.idle": "2022-07-06T05:26:06.183582Z",
     "shell.execute_reply": "2022-07-06T05:26:06.182269Z"
    },
    "papermill": {
     "duration": 0.024956,
     "end_time": "2022-07-06T05:26:06.186538",
     "exception": false,
     "start_time": "2022-07-06T05:26:06.161582",
     "status": "completed"
    },
    "tags": []
   },
   "outputs": [],
   "source": [
    "df.drop(['Emitten'], axis=1, inplace=True)"
   ]
  },
  {
   "cell_type": "code",
   "execution_count": 7,
   "id": "f76330cb",
   "metadata": {
    "execution": {
     "iopub.execute_input": "2022-07-06T05:26:06.201313Z",
     "iopub.status.busy": "2022-07-06T05:26:06.200830Z",
     "iopub.status.idle": "2022-07-06T05:26:06.212746Z",
     "shell.execute_reply": "2022-07-06T05:26:06.211312Z"
    },
    "papermill": {
     "duration": 0.022752,
     "end_time": "2022-07-06T05:26:06.215630",
     "exception": false,
     "start_time": "2022-07-06T05:26:06.192878",
     "status": "completed"
    },
    "tags": []
   },
   "outputs": [
    {
     "data": {
      "text/plain": [
       "0    3\n",
       "1    2\n",
       "2    2\n",
       "3    3\n",
       "4    4\n",
       "Name: Category, dtype: int64"
      ]
     },
     "execution_count": 7,
     "metadata": {},
     "output_type": "execute_result"
    }
   ],
   "source": [
    "y = df['Category']\n",
    "y.head()"
   ]
  },
  {
   "cell_type": "code",
   "execution_count": 8,
   "id": "ae1a11c9",
   "metadata": {
    "execution": {
     "iopub.execute_input": "2022-07-06T05:26:06.231531Z",
     "iopub.status.busy": "2022-07-06T05:26:06.230052Z",
     "iopub.status.idle": "2022-07-06T05:26:06.250589Z",
     "shell.execute_reply": "2022-07-06T05:26:06.249159Z"
    },
    "papermill": {
     "duration": 0.031882,
     "end_time": "2022-07-06T05:26:06.253912",
     "exception": false,
     "start_time": "2022-07-06T05:26:06.222030",
     "status": "completed"
    },
    "tags": []
   },
   "outputs": [
    {
     "data": {
      "text/html": [
       "<div>\n",
       "<style scoped>\n",
       "    .dataframe tbody tr th:only-of-type {\n",
       "        vertical-align: middle;\n",
       "    }\n",
       "\n",
       "    .dataframe tbody tr th {\n",
       "        vertical-align: top;\n",
       "    }\n",
       "\n",
       "    .dataframe thead th {\n",
       "        text-align: right;\n",
       "    }\n",
       "</style>\n",
       "<table border=\"1\" class=\"dataframe\">\n",
       "  <thead>\n",
       "    <tr style=\"text-align: right;\">\n",
       "      <th></th>\n",
       "      <th>DER</th>\n",
       "      <th>ROA</th>\n",
       "      <th>Sales Growth</th>\n",
       "      <th>ROE</th>\n",
       "      <th>NPM</th>\n",
       "    </tr>\n",
       "  </thead>\n",
       "  <tbody>\n",
       "    <tr>\n",
       "      <th>0</th>\n",
       "      <td>0.40</td>\n",
       "      <td>0.01</td>\n",
       "      <td>-3.797435</td>\n",
       "      <td>0.01</td>\n",
       "      <td>0.18</td>\n",
       "    </tr>\n",
       "    <tr>\n",
       "      <th>1</th>\n",
       "      <td>1.79</td>\n",
       "      <td>-0.02</td>\n",
       "      <td>18.184296</td>\n",
       "      <td>-0.06</td>\n",
       "      <td>-0.21</td>\n",
       "    </tr>\n",
       "    <tr>\n",
       "      <th>2</th>\n",
       "      <td>1.35</td>\n",
       "      <td>-0.01</td>\n",
       "      <td>669.231018</td>\n",
       "      <td>-0.02</td>\n",
       "      <td>-0.09</td>\n",
       "    </tr>\n",
       "    <tr>\n",
       "      <th>3</th>\n",
       "      <td>0.24</td>\n",
       "      <td>0.05</td>\n",
       "      <td>35.698101</td>\n",
       "      <td>0.07</td>\n",
       "      <td>0.11</td>\n",
       "    </tr>\n",
       "    <tr>\n",
       "      <th>4</th>\n",
       "      <td>0.07</td>\n",
       "      <td>-0.03</td>\n",
       "      <td>-3.317679</td>\n",
       "      <td>-0.03</td>\n",
       "      <td>-1.14</td>\n",
       "    </tr>\n",
       "  </tbody>\n",
       "</table>\n",
       "</div>"
      ],
      "text/plain": [
       "    DER   ROA  Sales Growth   ROE   NPM\n",
       "0  0.40  0.01     -3.797435  0.01  0.18\n",
       "1  1.79 -0.02     18.184296 -0.06 -0.21\n",
       "2  1.35 -0.01    669.231018 -0.02 -0.09\n",
       "3  0.24  0.05     35.698101  0.07  0.11\n",
       "4  0.07 -0.03     -3.317679 -0.03 -1.14"
      ]
     },
     "execution_count": 8,
     "metadata": {},
     "output_type": "execute_result"
    }
   ],
   "source": [
    "x = df.drop('Category', axis=1)\n",
    "x.head()"
   ]
  },
  {
   "cell_type": "code",
   "execution_count": 9,
   "id": "4857dffc",
   "metadata": {
    "execution": {
     "iopub.execute_input": "2022-07-06T05:26:06.269249Z",
     "iopub.status.busy": "2022-07-06T05:26:06.268753Z",
     "iopub.status.idle": "2022-07-06T05:26:06.276741Z",
     "shell.execute_reply": "2022-07-06T05:26:06.275730Z"
    },
    "papermill": {
     "duration": 0.018843,
     "end_time": "2022-07-06T05:26:06.279352",
     "exception": false,
     "start_time": "2022-07-06T05:26:06.260509",
     "status": "completed"
    },
    "tags": []
   },
   "outputs": [],
   "source": [
    "x_train, x_test, y_train, y_test = train_test_split(x,y, test_size=0.3)"
   ]
  },
  {
   "cell_type": "code",
   "execution_count": 10,
   "id": "c7250486",
   "metadata": {
    "execution": {
     "iopub.execute_input": "2022-07-06T05:26:06.295337Z",
     "iopub.status.busy": "2022-07-06T05:26:06.294368Z",
     "iopub.status.idle": "2022-07-06T05:26:06.318058Z",
     "shell.execute_reply": "2022-07-06T05:26:06.316682Z"
    },
    "papermill": {
     "duration": 0.034996,
     "end_time": "2022-07-06T05:26:06.320930",
     "exception": false,
     "start_time": "2022-07-06T05:26:06.285934",
     "status": "completed"
    },
    "tags": []
   },
   "outputs": [
    {
     "data": {
      "text/html": [
       "<div>\n",
       "<style scoped>\n",
       "    .dataframe tbody tr th:only-of-type {\n",
       "        vertical-align: middle;\n",
       "    }\n",
       "\n",
       "    .dataframe tbody tr th {\n",
       "        vertical-align: top;\n",
       "    }\n",
       "\n",
       "    .dataframe thead th {\n",
       "        text-align: right;\n",
       "    }\n",
       "</style>\n",
       "<table border=\"1\" class=\"dataframe\">\n",
       "  <thead>\n",
       "    <tr style=\"text-align: right;\">\n",
       "      <th></th>\n",
       "      <th>const</th>\n",
       "      <th>DER</th>\n",
       "      <th>ROA</th>\n",
       "      <th>Sales Growth</th>\n",
       "      <th>ROE</th>\n",
       "      <th>NPM</th>\n",
       "    </tr>\n",
       "  </thead>\n",
       "  <tbody>\n",
       "    <tr>\n",
       "      <th>6</th>\n",
       "      <td>1.0</td>\n",
       "      <td>1.14</td>\n",
       "      <td>-0.01</td>\n",
       "      <td>-46.929469</td>\n",
       "      <td>-0.01</td>\n",
       "      <td>-0.16</td>\n",
       "    </tr>\n",
       "    <tr>\n",
       "      <th>2</th>\n",
       "      <td>1.0</td>\n",
       "      <td>1.35</td>\n",
       "      <td>-0.01</td>\n",
       "      <td>669.231018</td>\n",
       "      <td>-0.02</td>\n",
       "      <td>-0.09</td>\n",
       "    </tr>\n",
       "    <tr>\n",
       "      <th>10</th>\n",
       "      <td>1.0</td>\n",
       "      <td>0.69</td>\n",
       "      <td>0.02</td>\n",
       "      <td>-7.213595</td>\n",
       "      <td>0.07</td>\n",
       "      <td>2.00</td>\n",
       "    </tr>\n",
       "    <tr>\n",
       "      <th>16</th>\n",
       "      <td>1.0</td>\n",
       "      <td>0.40</td>\n",
       "      <td>0.04</td>\n",
       "      <td>-546.164778</td>\n",
       "      <td>0.05</td>\n",
       "      <td>0.81</td>\n",
       "    </tr>\n",
       "    <tr>\n",
       "      <th>1</th>\n",
       "      <td>1.0</td>\n",
       "      <td>1.79</td>\n",
       "      <td>-0.02</td>\n",
       "      <td>18.184296</td>\n",
       "      <td>-0.06</td>\n",
       "      <td>-0.21</td>\n",
       "    </tr>\n",
       "    <tr>\n",
       "      <th>8</th>\n",
       "      <td>1.0</td>\n",
       "      <td>0.73</td>\n",
       "      <td>-0.05</td>\n",
       "      <td>-9.498563</td>\n",
       "      <td>0.04</td>\n",
       "      <td>0.16</td>\n",
       "    </tr>\n",
       "    <tr>\n",
       "      <th>5</th>\n",
       "      <td>1.0</td>\n",
       "      <td>0.47</td>\n",
       "      <td>-0.01</td>\n",
       "      <td>-0.096221</td>\n",
       "      <td>-0.01</td>\n",
       "      <td>-1.43</td>\n",
       "    </tr>\n",
       "    <tr>\n",
       "      <th>0</th>\n",
       "      <td>1.0</td>\n",
       "      <td>0.40</td>\n",
       "      <td>0.01</td>\n",
       "      <td>-3.797435</td>\n",
       "      <td>0.01</td>\n",
       "      <td>0.18</td>\n",
       "    </tr>\n",
       "    <tr>\n",
       "      <th>3</th>\n",
       "      <td>1.0</td>\n",
       "      <td>0.24</td>\n",
       "      <td>0.05</td>\n",
       "      <td>35.698101</td>\n",
       "      <td>0.07</td>\n",
       "      <td>0.11</td>\n",
       "    </tr>\n",
       "    <tr>\n",
       "      <th>14</th>\n",
       "      <td>1.0</td>\n",
       "      <td>1.57</td>\n",
       "      <td>-0.06</td>\n",
       "      <td>-26.572531</td>\n",
       "      <td>-0.15</td>\n",
       "      <td>-1.86</td>\n",
       "    </tr>\n",
       "    <tr>\n",
       "      <th>15</th>\n",
       "      <td>1.0</td>\n",
       "      <td>0.12</td>\n",
       "      <td>0.13</td>\n",
       "      <td>652.221301</td>\n",
       "      <td>0.15</td>\n",
       "      <td>0.65</td>\n",
       "    </tr>\n",
       "  </tbody>\n",
       "</table>\n",
       "</div>"
      ],
      "text/plain": [
       "    const   DER   ROA  Sales Growth   ROE   NPM\n",
       "6     1.0  1.14 -0.01    -46.929469 -0.01 -0.16\n",
       "2     1.0  1.35 -0.01    669.231018 -0.02 -0.09\n",
       "10    1.0  0.69  0.02     -7.213595  0.07  2.00\n",
       "16    1.0  0.40  0.04   -546.164778  0.05  0.81\n",
       "1     1.0  1.79 -0.02     18.184296 -0.06 -0.21\n",
       "8     1.0  0.73 -0.05     -9.498563  0.04  0.16\n",
       "5     1.0  0.47 -0.01     -0.096221 -0.01 -1.43\n",
       "0     1.0  0.40  0.01     -3.797435  0.01  0.18\n",
       "3     1.0  0.24  0.05     35.698101  0.07  0.11\n",
       "14    1.0  1.57 -0.06    -26.572531 -0.15 -1.86\n",
       "15    1.0  0.12  0.13    652.221301  0.15  0.65"
      ]
     },
     "execution_count": 10,
     "metadata": {},
     "output_type": "execute_result"
    }
   ],
   "source": [
    "x_train_sm = sm.add_constant(x_train)\n",
    "x_train_sm"
   ]
  },
  {
   "cell_type": "code",
   "execution_count": 11,
   "id": "07d1e90e",
   "metadata": {
    "execution": {
     "iopub.execute_input": "2022-07-06T05:26:06.337494Z",
     "iopub.status.busy": "2022-07-06T05:26:06.336522Z",
     "iopub.status.idle": "2022-07-06T05:26:06.397893Z",
     "shell.execute_reply": "2022-07-06T05:26:06.396658Z"
    },
    "papermill": {
     "duration": 0.079835,
     "end_time": "2022-07-06T05:26:06.407641",
     "exception": false,
     "start_time": "2022-07-06T05:26:06.327806",
     "status": "completed"
    },
    "tags": []
   },
   "outputs": [
    {
     "name": "stdout",
     "output_type": "stream",
     "text": [
      "Warning: Maximum number of iterations has been exceeded.\n",
      "         Current function value: 0.000000\n",
      "         Iterations: 35\n"
     ]
    },
    {
     "name": "stderr",
     "output_type": "stream",
     "text": [
      "/opt/conda/lib/python3.7/site-packages/statsmodels/base/model.py:606: ConvergenceWarning: Maximum Likelihood optimization failed to converge. Check mle_retvals\n",
      "  ConvergenceWarning)\n"
     ]
    }
   ],
   "source": [
    "#logit_mod = sm.Logit(y_train, x_train_sm\n",
    "                     \n",
    "mnlogit_mod = sm.MNLogit(y_train, x_train_sm)\n",
    "mnlogit_fit = mnlogit_mod.fit()"
   ]
  },
  {
   "cell_type": "code",
   "execution_count": 12,
   "id": "fea1cf6f",
   "metadata": {
    "execution": {
     "iopub.execute_input": "2022-07-06T05:26:06.435892Z",
     "iopub.status.busy": "2022-07-06T05:26:06.435140Z",
     "iopub.status.idle": "2022-07-06T05:26:06.561018Z",
     "shell.execute_reply": "2022-07-06T05:26:06.559346Z"
    },
    "papermill": {
     "duration": 0.144262,
     "end_time": "2022-07-06T05:26:06.564511",
     "exception": false,
     "start_time": "2022-07-06T05:26:06.420249",
     "status": "completed"
    },
    "tags": []
   },
   "outputs": [
    {
     "name": "stdout",
     "output_type": "stream",
     "text": [
      "                          MNLogit Regression Results                          \n",
      "==============================================================================\n",
      "Dep. Variable:               Category   No. Observations:                   11\n",
      "Model:                        MNLogit   Df Residuals:                      -13\n",
      "Method:                           MLE   Df Model:                           20\n",
      "Date:                Wed, 06 Jul 2022   Pseudo R-squ.:                   1.000\n",
      "Time:                        05:26:06   Log-Likelihood:            -1.6332e-07\n",
      "converged:                      False   LL-Null:                       -15.286\n",
      "Covariance Type:            nonrobust   LLR p-value:                   0.06109\n",
      "================================================================================\n",
      "  Category=2       coef    std err          z      P>|z|      [0.025      0.975]\n",
      "--------------------------------------------------------------------------------\n",
      "const          -22.0892   2.99e+08  -7.39e-08      1.000   -5.86e+08    5.86e+08\n",
      "DER             57.1348   3.91e+08   1.46e-07      1.000   -7.67e+08    7.67e+08\n",
      "ROA           -373.6036   1.33e+09  -2.81e-07      1.000   -2.61e+09    2.61e+09\n",
      "Sales Growth    -0.0384   2.65e+05  -1.45e-07      1.000    -5.2e+05     5.2e+05\n",
      "ROE            410.2347   3.21e+09   1.28e-07      1.000   -6.29e+09    6.29e+09\n",
      "NPM              3.8518   1.11e+08   3.48e-08      1.000   -2.17e+08    2.17e+08\n",
      "--------------------------------------------------------------------------------\n",
      "  Category=3       coef    std err          z      P>|z|      [0.025      0.975]\n",
      "--------------------------------------------------------------------------------\n",
      "const           65.9497   3.27e+08   2.02e-07      1.000   -6.41e+08    6.41e+08\n",
      "DER            -41.5608   4.13e+08  -1.01e-07      1.000    -8.1e+08     8.1e+08\n",
      "ROA            138.5709   2.57e+09   5.38e-08      1.000   -5.04e+09    5.04e+09\n",
      "Sales Growth    -0.0768   2.88e+05  -2.66e-07      1.000   -5.65e+05    5.65e+05\n",
      "ROE           -520.2283   4.23e+09  -1.23e-07      1.000    -8.3e+09     8.3e+09\n",
      "NPM             35.4814    1.2e+08   2.96e-07      1.000   -2.35e+08    2.35e+08\n",
      "--------------------------------------------------------------------------------\n",
      "  Category=4       coef    std err          z      P>|z|      [0.025      0.975]\n",
      "--------------------------------------------------------------------------------\n",
      "const            7.7200   2.11e+10   3.67e-10      1.000   -4.13e+10    4.13e+10\n",
      "DER            -12.9602    2.7e+10   -4.8e-10      1.000   -5.29e+10    5.29e+10\n",
      "ROA           -202.1389    2.6e+10  -7.77e-09      1.000    -5.1e+10     5.1e+10\n",
      "Sales Growth     0.0029    1.7e+07   1.71e-10      1.000   -3.33e+07    3.33e+07\n",
      "ROE            112.9042   2.47e+11   4.57e-10      1.000   -4.85e+11    4.85e+11\n",
      "NPM            -22.0883    7.4e+09  -2.98e-09      1.000   -1.45e+10    1.45e+10\n",
      "--------------------------------------------------------------------------------\n",
      "  Category=5       coef    std err          z      P>|z|      [0.025      0.975]\n",
      "--------------------------------------------------------------------------------\n",
      "const           27.3706   3.25e+08   8.43e-08      1.000   -6.36e+08    6.36e+08\n",
      "DER             -8.3486   4.12e+08  -2.03e-08      1.000   -8.07e+08    8.07e+08\n",
      "ROA           -185.5823   1.79e+09  -1.04e-07      1.000    -3.5e+09     3.5e+09\n",
      "Sales Growth    -0.0373   2.66e+05   -1.4e-07      1.000   -5.21e+05    5.21e+05\n",
      "ROE           -370.1276   3.53e+09  -1.05e-07      1.000   -6.91e+09    6.91e+09\n",
      "NPM             20.4902   1.26e+08   1.63e-07      1.000   -2.46e+08    2.46e+08\n",
      "================================================================================\n"
     ]
    }
   ],
   "source": [
    "print (mnlogit_fit.summary())"
   ]
  },
  {
   "cell_type": "code",
   "execution_count": 13,
   "id": "15c2e440",
   "metadata": {
    "execution": {
     "iopub.execute_input": "2022-07-06T05:26:06.582452Z",
     "iopub.status.busy": "2022-07-06T05:26:06.581061Z",
     "iopub.status.idle": "2022-07-06T05:26:06.630180Z",
     "shell.execute_reply": "2022-07-06T05:26:06.628816Z"
    },
    "papermill": {
     "duration": 0.061297,
     "end_time": "2022-07-06T05:26:06.633279",
     "exception": false,
     "start_time": "2022-07-06T05:26:06.571982",
     "status": "completed"
    },
    "tags": []
   },
   "outputs": [
    {
     "name": "stderr",
     "output_type": "stream",
     "text": [
      "/opt/conda/lib/python3.7/site-packages/sklearn/linear_model/_logistic.py:818: ConvergenceWarning: lbfgs failed to converge (status=1):\n",
      "STOP: TOTAL NO. of ITERATIONS REACHED LIMIT.\n",
      "\n",
      "Increase the number of iterations (max_iter) or scale the data as shown in:\n",
      "    https://scikit-learn.org/stable/modules/preprocessing.html\n",
      "Please also refer to the documentation for alternative solver options:\n",
      "    https://scikit-learn.org/stable/modules/linear_model.html#logistic-regression\n",
      "  extra_warning_msg=_LOGISTIC_SOLVER_CONVERGENCE_MSG,\n"
     ]
    },
    {
     "data": {
      "text/plain": [
       "LogisticRegression()"
      ]
     },
     "execution_count": 13,
     "metadata": {},
     "output_type": "execute_result"
    }
   ],
   "source": [
    "model = LogisticRegression(multi_class='auto')\n",
    "model.fit(x_train, y_train)"
   ]
  },
  {
   "cell_type": "code",
   "execution_count": 14,
   "id": "a19bafe4",
   "metadata": {
    "execution": {
     "iopub.execute_input": "2022-07-06T05:26:06.650158Z",
     "iopub.status.busy": "2022-07-06T05:26:06.649662Z",
     "iopub.status.idle": "2022-07-06T05:26:06.660805Z",
     "shell.execute_reply": "2022-07-06T05:26:06.659519Z"
    },
    "papermill": {
     "duration": 0.022786,
     "end_time": "2022-07-06T05:26:06.663316",
     "exception": false,
     "start_time": "2022-07-06T05:26:06.640530",
     "status": "completed"
    },
    "tags": []
   },
   "outputs": [
    {
     "data": {
      "text/plain": [
       "array([[9.99516465e-01, 4.83517015e-04, 5.47827100e-11, 1.76793222e-08,\n",
       "        4.68729936e-12],\n",
       "       [3.15474189e-02, 1.74785192e-01, 3.33144132e-01, 2.90101458e-01,\n",
       "        1.70421799e-01],\n",
       "       [1.35436729e-02, 1.81494651e-01, 3.63527597e-01, 2.19003937e-01,\n",
       "        2.22430142e-01],\n",
       "       [3.31241022e-03, 2.00681415e-01, 7.28237923e-01, 2.34147976e-02,\n",
       "        4.43534536e-02],\n",
       "       [3.27545673e-02, 2.15719643e-01, 5.27590903e-01, 1.43135218e-01,\n",
       "        8.07996686e-02]])"
      ]
     },
     "execution_count": 14,
     "metadata": {},
     "output_type": "execute_result"
    }
   ],
   "source": [
    "model.predict_proba(x_test)[0:5]"
   ]
  },
  {
   "cell_type": "code",
   "execution_count": 15,
   "id": "f27b5071",
   "metadata": {
    "execution": {
     "iopub.execute_input": "2022-07-06T05:26:06.680442Z",
     "iopub.status.busy": "2022-07-06T05:26:06.679971Z",
     "iopub.status.idle": "2022-07-06T05:26:06.689536Z",
     "shell.execute_reply": "2022-07-06T05:26:06.688341Z"
    },
    "papermill": {
     "duration": 0.021406,
     "end_time": "2022-07-06T05:26:06.692116",
     "exception": false,
     "start_time": "2022-07-06T05:26:06.670710",
     "status": "completed"
    },
    "tags": []
   },
   "outputs": [
    {
     "data": {
      "text/plain": [
       "array([1, 3, 3, 3, 3, 1])"
      ]
     },
     "execution_count": 15,
     "metadata": {},
     "output_type": "execute_result"
    }
   ],
   "source": [
    "predictions = model.predict(x_test)\n",
    "predictions"
   ]
  },
  {
   "cell_type": "code",
   "execution_count": 16,
   "id": "eb81d349",
   "metadata": {
    "execution": {
     "iopub.execute_input": "2022-07-06T05:26:06.710125Z",
     "iopub.status.busy": "2022-07-06T05:26:06.709007Z",
     "iopub.status.idle": "2022-07-06T05:26:06.725126Z",
     "shell.execute_reply": "2022-07-06T05:26:06.723808Z"
    },
    "papermill": {
     "duration": 0.030225,
     "end_time": "2022-07-06T05:26:06.729939",
     "exception": false,
     "start_time": "2022-07-06T05:26:06.699714",
     "status": "completed"
    },
    "tags": []
   },
   "outputs": [
    {
     "name": "stdout",
     "output_type": "stream",
     "text": [
      "              precision    recall  f1-score   support\n",
      "\n",
      "           1       0.00      0.00      0.00         0\n",
      "           3       0.25      0.33      0.29         3\n",
      "           4       0.00      0.00      0.00         3\n",
      "\n",
      "    accuracy                           0.17         6\n",
      "   macro avg       0.08      0.11      0.10         6\n",
      "weighted avg       0.12      0.17      0.14         6\n",
      "\n"
     ]
    },
    {
     "name": "stderr",
     "output_type": "stream",
     "text": [
      "/opt/conda/lib/python3.7/site-packages/sklearn/metrics/_classification.py:1318: UndefinedMetricWarning: Precision and F-score are ill-defined and being set to 0.0 in labels with no predicted samples. Use `zero_division` parameter to control this behavior.\n",
      "  _warn_prf(average, modifier, msg_start, len(result))\n",
      "/opt/conda/lib/python3.7/site-packages/sklearn/metrics/_classification.py:1318: UndefinedMetricWarning: Recall and F-score are ill-defined and being set to 0.0 in labels with no true samples. Use `zero_division` parameter to control this behavior.\n",
      "  _warn_prf(average, modifier, msg_start, len(result))\n",
      "/opt/conda/lib/python3.7/site-packages/sklearn/metrics/_classification.py:1318: UndefinedMetricWarning: Precision and F-score are ill-defined and being set to 0.0 in labels with no predicted samples. Use `zero_division` parameter to control this behavior.\n",
      "  _warn_prf(average, modifier, msg_start, len(result))\n",
      "/opt/conda/lib/python3.7/site-packages/sklearn/metrics/_classification.py:1318: UndefinedMetricWarning: Recall and F-score are ill-defined and being set to 0.0 in labels with no true samples. Use `zero_division` parameter to control this behavior.\n",
      "  _warn_prf(average, modifier, msg_start, len(result))\n",
      "/opt/conda/lib/python3.7/site-packages/sklearn/metrics/_classification.py:1318: UndefinedMetricWarning: Precision and F-score are ill-defined and being set to 0.0 in labels with no predicted samples. Use `zero_division` parameter to control this behavior.\n",
      "  _warn_prf(average, modifier, msg_start, len(result))\n",
      "/opt/conda/lib/python3.7/site-packages/sklearn/metrics/_classification.py:1318: UndefinedMetricWarning: Recall and F-score are ill-defined and being set to 0.0 in labels with no true samples. Use `zero_division` parameter to control this behavior.\n",
      "  _warn_prf(average, modifier, msg_start, len(result))\n"
     ]
    }
   ],
   "source": [
    "print(classification_report(y_test, predictions))"
   ]
  },
  {
   "cell_type": "code",
   "execution_count": 17,
   "id": "de8db7f9",
   "metadata": {
    "execution": {
     "iopub.execute_input": "2022-07-06T05:26:06.747675Z",
     "iopub.status.busy": "2022-07-06T05:26:06.747196Z",
     "iopub.status.idle": "2022-07-06T05:26:06.754900Z",
     "shell.execute_reply": "2022-07-06T05:26:06.753477Z"
    },
    "papermill": {
     "duration": 0.01971,
     "end_time": "2022-07-06T05:26:06.757509",
     "exception": false,
     "start_time": "2022-07-06T05:26:06.737799",
     "status": "completed"
    },
    "tags": []
   },
   "outputs": [
    {
     "name": "stdout",
     "output_type": "stream",
     "text": [
      "0.16666666666666666\n"
     ]
    }
   ],
   "source": [
    "print(accuracy_score(y_test, predictions))"
   ]
  }
 ],
 "metadata": {
  "kernelspec": {
   "display_name": "Python 3",
   "language": "python",
   "name": "python3"
  },
  "language_info": {
   "codemirror_mode": {
    "name": "ipython",
    "version": 3
   },
   "file_extension": ".py",
   "mimetype": "text/x-python",
   "name": "python",
   "nbconvert_exporter": "python",
   "pygments_lexer": "ipython3",
   "version": "3.7.12"
  },
  "papermill": {
   "default_parameters": {},
   "duration": 13.778949,
   "end_time": "2022-07-06T05:26:07.688460",
   "environment_variables": {},
   "exception": null,
   "input_path": "__notebook__.ipynb",
   "output_path": "__notebook__.ipynb",
   "parameters": {},
   "start_time": "2022-07-06T05:25:53.909511",
   "version": "2.3.4"
  }
 },
 "nbformat": 4,
 "nbformat_minor": 5
}
